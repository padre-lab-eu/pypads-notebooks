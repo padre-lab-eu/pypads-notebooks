{
 "cells": [
  {
   "cell_type": "code",
   "execution_count": 1,
   "metadata": {},
   "outputs": [],
   "source": [
    "# Defining the required access keys for uploading the experiment with the server\n",
    "%env AWS_ACCESS_KEY_ID=XSHDLTACETFLQURZSAUJ\n",
    "%env AWS_SECRET_ACCESS_KEY=ISvyN9Aay40ZIaMuQcngOCJdzkSqR85ON1ng9PNZ\n",
    "%env MLFLOW_S3_ENDPOINT_URL=http://s3.padre-lab.eu\n",
    "%env MLFLOW_TRACKING_URI=http://mlflow.padre-lab.eu"
   ]
  },
  {
   "cell_type": "markdown",
   "metadata": {},
   "source": [
    "## Initialize the tracking system of PyPads"
   ]
  },
  {
   "cell_type": "code",
   "execution_count": 2,
   "metadata": {},
   "outputs": [
    {
     "name": "stdout",
     "output_type": "stream",
     "text": [
      "2020-10-06 12:10:47.278 | INFO     | pypads.app.base:activate_tracking:507 - Activating tracking...\n",
      "2020-10-06 12:10:52.346 | INFO     | pypads.injections.setup.misc_setup:_call:72 - Tracking execution to run with id 2dd78edaba3b454aa69039c96a202c34\n",
      "2020-10-06 12:10:58.593 | WARNING  | pypads.app.misc.managed_git:preserve_changes:84 - There are uncommitted changes in your git!\n",
      "2020-10-06 12:10:58.741 | WARNING  | pypads.app.misc.managed_git:create_tracking_branch:134 - Stashing, branching out, committing, reverting back and unstashing...\n",
      "2020-10-06 12:10:59.209 | INFO     | pypads.app.misc.managed_git:preserve_changes:91 - Created branch PyPads/2dd78edaba3b454aa69039c96a202c34\n",
      "2020-10-06 12:10:59.485 | WARNING  | pypads.app.misc.managed_git:_handle_error:19 - Couldn't initialized git repository because of exception: Preserving commit failed due to INVALID_PARAMETER_VALUE: Tag value 'diff --git a/.idea/workspace.xml b/.idea/workspace.xml\n",
      "new file mode 100644\n",
      "index 0000000..7a45b03\n",
      "--- /dev/null\n",
      "+++ b/.idea/workspace.xml\n",
      "@@ -0,0 +1,271 @@\n",
      "+<?xml version=\"1.0\" encoding=\"UTF-8\"?>\n",
      "+<project version=\"4\">\n",
      "+  <component name=\"BranchesTr' had length 154754, which exceeded length limit of 5000\n",
      "2020-10-06 12:10:59.931 | WARNING  | pypads.app.base:start_track:620 - Active experiment_id of run doesn't match given input name PyTorch Example. Recreating new run.\n",
      "2020-10-06 12:11:04.107 | INFO     | pypads.injections.setup.misc_setup:_call:72 - Tracking execution to run with id de8273f5cd8a4887a9284ca982e2e812\n",
      "2020-10-06 12:11:09.343 | WARNING  | pypads.app.misc.managed_git:preserve_changes:84 - There are uncommitted changes in your git!\n",
      "2020-10-06 12:11:09.481 | WARNING  | pypads.app.misc.managed_git:create_tracking_branch:134 - Stashing, branching out, committing, reverting back and unstashing...\n",
      "2020-10-06 12:11:09.989 | INFO     | pypads.app.misc.managed_git:preserve_changes:91 - Created branch PyPads/de8273f5cd8a4887a9284ca982e2e812\n",
      "2020-10-06 12:11:10.266 | WARNING  | pypads.app.misc.managed_git:_handle_error:19 - Couldn't initialized git repository because of exception: Preserving commit failed due to INVALID_PARAMETER_VALUE: Tag value 'diff --git a/.idea/workspace.xml b/.idea/workspace.xml\n",
      "new file mode 100644\n",
      "index 0000000..7a45b03\n",
      "--- /dev/null\n",
      "+++ b/.idea/workspace.xml\n",
      "@@ -0,0 +1,271 @@\n",
      "+<?xml version=\"1.0\" encoding=\"UTF-8\"?>\n",
      "+<project version=\"4\">\n",
      "+  <component name=\"BranchesTr' had length 154754, which exceeded length limit of 5000\n"
     ]
    },
    {
     "data": {
      "text/plain": [
       "<pypads.app.base.PyPads at 0x7fe87a1cc050>"
      ]
     },
     "execution_count": 2,
     "metadata": {},
     "output_type": "execute_result"
    }
   ],
   "source": [
    "from pypads.app.base import PyPads\n",
    "\n",
    "tracker = PyPads(uri=\"http://mlflow.padre-lab.eu\")\n",
    "tracker.activate_tracking()\n",
    "tracker.start_track(experiment_name=\"PyTorch Example\")"
   ]
  },
  {
   "cell_type": "code",
   "execution_count": 3,
   "metadata": {},
   "outputs": [
    {
     "name": "stderr",
     "output_type": "stream",
     "text": [
      "/home/christofer/PycharmProjects/pypads-notebooks/venv/lib/python3.7/site-packages/ipykernel/ipkernel.py:287: DeprecationWarning: `should_run_async` will not call `transform_cell` automatically in the future. Please pass the result to `transformed_cell` argument and any exception that happen during thetransform in `preprocessing_exc_tuple` in IPython 7.17 and above.\n",
      "  and should_run_async(code)\n",
      "/home/christofer/PycharmProjects/pypads-notebooks/venv/lib/python3.7/site-packages/torch/distributed/distributed_c10d.py:125: UserWarning: torch.distributed.reduce_op is deprecated, please use torch.distributed.ReduceOp instead\n",
      "  warnings.warn(\"torch.distributed.reduce_op is deprecated, please use \"\n"
     ]
    }
   ],
   "source": [
    "# Set the random seed to 1\n",
    "tracker.actuators.set_random_seed(seed=1)"
   ]
  },
  {
   "cell_type": "markdown",
   "metadata": {},
   "source": [
    "## Import the dataset from Scikit-learn"
   ]
  },
  {
   "cell_type": "code",
   "execution_count": 4,
   "metadata": {},
   "outputs": [
    {
     "name": "stderr",
     "output_type": "stream",
     "text": [
      "/home/christofer/PycharmProjects/pypads-notebooks/venv/lib/python3.7/site-packages/ipykernel/ipkernel.py:287: DeprecationWarning: `should_run_async` will not call `transform_cell` automatically in the future. Please pass the result to `transformed_cell` argument and any exception that happen during thetransform in `preprocessing_exc_tuple` in IPython 7.17 and above.\n",
      "  and should_run_async(code)\n"
     ]
    }
   ],
   "source": [
    "from sklearn import datasets\n",
    "\n",
    "# load the iris datasets\n",
    "dataset = datasets.load_iris()\n",
    "X = dataset.data\n",
    "y = dataset.target\n"
   ]
  },
  {
   "cell_type": "markdown",
   "metadata": {},
   "source": [
    "### Do the test train split"
   ]
  },
  {
   "cell_type": "code",
   "execution_count": 5,
   "metadata": {},
   "outputs": [
    {
     "name": "stderr",
     "output_type": "stream",
     "text": [
      "/home/christofer/PycharmProjects/pypads-notebooks/venv/lib/python3.7/site-packages/ipykernel/ipkernel.py:287: DeprecationWarning: `should_run_async` will not call `transform_cell` automatically in the future. Please pass the result to `transformed_cell` argument and any exception that happen during thetransform in `preprocessing_exc_tuple` in IPython 7.17 and above.\n",
      "  and should_run_async(code)\n"
     ]
    },
    {
     "data": {
      "text/plain": [
       "(90, 5)"
      ]
     },
     "execution_count": 5,
     "metadata": {},
     "output_type": "execute_result"
    }
   ],
   "source": [
    "from sklearn.model_selection import train_test_split\n",
    "from sklearn.metrics import classification_report, accuracy_score\n",
    "import numpy as np\n",
    "\n",
    "X_train, X_test, y_train, y_test = train_test_split(X, y, test_size=.4)\n",
    "\n",
    "train = np.append(X_train, y_train.reshape((y_train.shape[0],1)), axis=1)\n",
    "train.shape"
   ]
  },
  {
   "cell_type": "markdown",
   "metadata": {},
   "source": [
    "## Create Torch class for accepting neural network shapes"
   ]
  },
  {
   "cell_type": "code",
   "execution_count": 6,
   "metadata": {},
   "outputs": [],
   "source": [
    "import torch\n",
    "from torch import nn\n",
    "from typing import Any\n",
    "from collections import OrderedDict\n",
    "\n",
    "class Model(nn.Module):\n",
    "    def _forward_unimplemented(self, *input: Any) -> None:\n",
    "        pass\n",
    "    \n",
    "    def __init__(self, feature_shape, leaky_value=0.05, shape=[30, 50, 1]):\n",
    "        super(Model, self).__init__()\n",
    "        layers = [feature_shape] + shape\n",
    "        layer_list = OrderedDict()\n",
    "        for idx in range(1, len(layers)):\n",
    "            layer_list[str(idx)] = nn.Linear(layers[idx-1], layers[idx])\n",
    "            layer_list['Relu' + str(idx)] = nn.LeakyReLU(leaky_value, inplace=True)\n",
    "\n",
    "        layer_list['Sigmoid'] = nn.Sigmoid()\n",
    "        self.model = nn.Sequential(layer_list)\n",
    "\n",
    "    def forward(self, img):\n",
    "        img_flat = img.view(img.size(0), -1)\n",
    "        validity = self.model(img_flat)\n",
    "        return validity\n",
    "    "
   ]
  },
  {
   "cell_type": "code",
   "execution_count": 7,
   "metadata": {},
   "outputs": [],
   "source": [
    "# Define the various training parameters\n",
    "num_features = X.shape[1]\n",
    "num_labels = 3\n",
    "num_epochs = 75\n",
    "test_every = 10\n",
    "h_lr = 0.005\n",
    "h_b1 = 0.5\n",
    "h_b2 = 0.999\n",
    "batch_size = 10\n",
    "neural_network_shape = [10, 10, 3]"
   ]
  },
  {
   "cell_type": "markdown",
   "metadata": {},
   "source": [
    "## Track the parameters using PyPads"
   ]
  },
  {
   "cell_type": "code",
   "execution_count": 8,
   "metadata": {},
   "outputs": [
    {
     "data": {
      "text/plain": [
       "'networks_shape.param.meta.json'"
      ]
     },
     "execution_count": 8,
     "metadata": {},
     "output_type": "execute_result"
    }
   ],
   "source": [
    "tracker.api.log_param(key='lr', value=h_lr, description='Learning rate')\n",
    "tracker.api.log_param(key='networks_shape', value=neural_network_shape, description='Shape of the fully connected network')"
   ]
  },
  {
   "cell_type": "code",
   "execution_count": 9,
   "metadata": {},
   "outputs": [],
   "source": [
    "# Create the model\n",
    "model = Model(feature_shape=num_features, shape=neural_network_shape)"
   ]
  },
  {
   "cell_type": "code",
   "execution_count": 10,
   "metadata": {},
   "outputs": [],
   "source": [
    "# Create the optimizer\n",
    "optimizer = torch.optim.Adam(model.parameters(), lr=h_lr, betas=(h_b1, h_b2))"
   ]
  },
  {
   "cell_type": "code",
   "execution_count": 11,
   "metadata": {},
   "outputs": [],
   "source": [
    "# Create the loss function\n",
    "loss_ = torch.nn.BCELoss()"
   ]
  },
  {
   "cell_type": "code",
   "execution_count": 12,
   "metadata": {},
   "outputs": [],
   "source": [
    "# Function to train for one epoch\n",
    "from torch.utils.data import DataLoader\n",
    "\n",
    "def train_one_epoch(model, loader: DataLoader, tensor, optimizer, loss_, scheduler=None):\n",
    "    total_loss = 0\n",
    "    n_iter = 0\n",
    "    for batch_idx, (batch_train_features, batch_train_labels) in enumerate(loader):\n",
    "\n",
    "        features_batch = tensor(batch_train_features.type(torch.FloatTensor))\n",
    "        labels_batch = tensor(batch_train_labels)\n",
    "        \n",
    "        optimizer.zero_grad()\n",
    "\n",
    "        # Compute loss\n",
    "        forward = model.forward(features_batch)\n",
    "        _loss = loss_(forward, labels_batch)\n",
    "\n",
    "        _loss.backward()\n",
    "        optimizer.step()\n",
    "\n",
    "        if scheduler is not None:\n",
    "            scheduler.step()\n",
    "\n",
    "        total_loss += _loss\n",
    "        n_iter += 1\n",
    "\n",
    "    return total_loss / n_iter"
   ]
  },
  {
   "cell_type": "code",
   "execution_count": 13,
   "metadata": {},
   "outputs": [],
   "source": [
    "# Function to split the batch into features and labels\n",
    "def sample_collate(batch):\n",
    "    one_hot = True\n",
    "    num_labels = 3\n",
    "    X = torch.stack([torch.tensor(x[:-1]) for x in batch])\n",
    "    if one_hot is False:\n",
    "        Y = [y[-1] for y in batch]\n",
    "    else:\n",
    "        Y = torch.zeros(len(batch), num_labels)\n",
    "        for idx in range(len(batch)):\n",
    "            Y[idx][int(batch[idx][-1])] = 1\n",
    "            \n",
    "    return X, Y"
   ]
  },
  {
   "cell_type": "code",
   "execution_count": 14,
   "metadata": {},
   "outputs": [],
   "source": [
    "# Create the data loader for training\n",
    "loader = DataLoader(train, batch_size=10, shuffle=True, collate_fn=sample_collate)"
   ]
  },
  {
   "cell_type": "code",
   "execution_count": 15,
   "metadata": {},
   "outputs": [
    {
     "name": "stdout",
     "output_type": "stream",
     "text": [
      "Initial accuracy is 0.633333 \n",
      "Average loss during epoch 0: 0.682202 with execution time: 0.01\n",
      "Average loss during epoch 1: 0.675866 with execution time: 0.01\n",
      "Average loss during epoch 2: 0.668212 with execution time: 0.01\n",
      "Average loss during epoch 3: 0.659434 with execution time: 0.01\n",
      "Average loss during epoch 4: 0.648030 with execution time: 0.01\n",
      "Average loss during epoch 5: 0.633524 with execution time: 0.01\n",
      "Average loss during epoch 6: 0.615018 with execution time: 0.01\n",
      "Average loss during epoch 7: 0.592594 with execution time: 0.01\n",
      "Average loss during epoch 8: 0.537318 with execution time: 0.01\n",
      "Average loss during epoch 9: 0.516329 with execution time: 0.01\n",
      "Accuracy at 10 epoch is 0.650000 \n",
      "Average loss during epoch 10: 0.505683 with execution time: 0.02\n",
      "Average loss during epoch 11: 0.483489 with execution time: 0.02\n",
      "Average loss during epoch 12: 0.473819 with execution time: 0.01\n",
      "Average loss during epoch 13: 0.462664 with execution time: 0.01\n",
      "Average loss during epoch 14: 0.447927 with execution time: 0.01\n",
      "Average loss during epoch 15: 0.431787 with execution time: 0.01\n",
      "Average loss during epoch 16: 0.416558 with execution time: 0.01\n",
      "Average loss during epoch 17: 0.423921 with execution time: 0.01\n",
      "Average loss during epoch 18: 0.411870 with execution time: 0.01\n",
      "Average loss during epoch 19: 0.384897 with execution time: 0.01\n",
      "Accuracy at 20 epoch is 0.650000 \n",
      "Average loss during epoch 20: 0.384347 with execution time: 0.02\n",
      "Average loss during epoch 21: 0.382977 with execution time: 0.02\n",
      "Average loss during epoch 22: 0.367555 with execution time: 0.01\n",
      "Average loss during epoch 23: 0.379936 with execution time: 0.01\n",
      "Average loss during epoch 24: 0.350976 with execution time: 0.01\n",
      "Average loss during epoch 25: 0.350120 with execution time: 0.01\n",
      "Average loss during epoch 26: 0.348260 with execution time: 0.01\n",
      "Average loss during epoch 27: 0.349278 with execution time: 0.01\n",
      "Average loss during epoch 28: 0.333166 with execution time: 0.01\n",
      "Average loss during epoch 29: 0.331310 with execution time: 0.01\n",
      "Accuracy at 30 epoch is 0.650000 \n",
      "Average loss during epoch 30: 0.334108 with execution time: 0.02\n",
      "Average loss during epoch 31: 0.322480 with execution time: 0.01\n",
      "Average loss during epoch 32: 0.312741 with execution time: 0.01\n",
      "Average loss during epoch 33: 0.326355 with execution time: 0.01\n",
      "Average loss during epoch 34: 0.329043 with execution time: 0.01\n",
      "Average loss during epoch 35: 0.316547 with execution time: 0.01\n",
      "Average loss during epoch 36: 0.317304 with execution time: 0.01\n",
      "Average loss during epoch 37: 0.310586 with execution time: 0.01\n",
      "Average loss during epoch 38: 0.296103 with execution time: 0.01\n",
      "Average loss during epoch 39: 0.298967 with execution time: 0.01\n",
      "Accuracy at 40 epoch is 0.666667 \n",
      "Average loss during epoch 40: 0.299661 with execution time: 0.02\n",
      "Average loss during epoch 41: 0.302193 with execution time: 0.02\n",
      "Average loss during epoch 42: 0.288491 with execution time: 0.01\n",
      "Average loss during epoch 43: 0.301859 with execution time: 0.01\n",
      "Average loss during epoch 44: 0.304358 with execution time: 0.01\n",
      "Average loss during epoch 45: 0.281517 with execution time: 0.01\n",
      "Average loss during epoch 46: 0.293113 with execution time: 0.01\n",
      "Average loss during epoch 47: 0.279373 with execution time: 0.01\n",
      "Average loss during epoch 48: 0.294310 with execution time: 0.01\n",
      "Average loss during epoch 49: 0.295048 with execution time: 0.01\n",
      "Accuracy at 50 epoch is 0.750000 \n",
      "Average loss during epoch 50: 0.287552 with execution time: 0.01\n",
      "Average loss during epoch 51: 0.280541 with execution time: 0.01\n",
      "Average loss during epoch 52: 0.285465 with execution time: 0.01\n",
      "Average loss during epoch 53: 0.281586 with execution time: 0.01\n",
      "Average loss during epoch 54: 0.281233 with execution time: 0.01\n",
      "Average loss during epoch 55: 0.281929 with execution time: 0.01\n",
      "Average loss during epoch 56: 0.280396 with execution time: 0.01\n",
      "Average loss during epoch 57: 0.275505 with execution time: 0.01\n",
      "Average loss during epoch 58: 0.271287 with execution time: 0.01\n",
      "Average loss during epoch 59: 0.289972 with execution time: 0.01\n",
      "Accuracy at 60 epoch is 0.933333 \n",
      "Average loss during epoch 60: 0.288080 with execution time: 0.01\n",
      "Average loss during epoch 61: 0.267712 with execution time: 0.01\n",
      "Average loss during epoch 62: 0.264819 with execution time: 0.01\n",
      "Average loss during epoch 63: 0.285846 with execution time: 0.01\n",
      "Average loss during epoch 64: 0.266947 with execution time: 0.01\n",
      "Average loss during epoch 65: 0.281895 with execution time: 0.01\n",
      "Average loss during epoch 66: 0.265253 with execution time: 0.01\n",
      "Average loss during epoch 67: 0.274912 with execution time: 0.01\n",
      "Average loss during epoch 68: 0.255481 with execution time: 0.01\n",
      "Average loss during epoch 69: 0.258187 with execution time: 0.01\n",
      "Accuracy at 70 epoch is 0.966667 \n",
      "Average loss during epoch 70: 0.259931 with execution time: 0.02\n",
      "Average loss during epoch 71: 0.265738 with execution time: 0.02\n",
      "Average loss during epoch 72: 0.253350 with execution time: 0.01\n",
      "Average loss during epoch 73: 0.282969 with execution time: 0.01\n",
      "Average loss during epoch 74: 0.259133 with execution time: 0.01\n"
     ]
    }
   ],
   "source": [
    "# Train the model\n",
    "\n",
    "from time import time\n",
    "\n",
    "labels = [i for i in range(num_labels)]\n",
    "\n",
    "cuda = True if torch.cuda.is_available() else False\n",
    "tensor = torch.cuda.FloatStorage if cuda else torch.FloatTensor\n",
    "\n",
    "results = model.forward(tensor(X_test))\n",
    "predicted = torch.max(results.data, 1)\n",
    "y_pred = predicted.indices.tolist()\n",
    "print('Initial accuracy is %f ' % accuracy_score(y_true=y_test.tolist(), y_pred=y_pred))\n",
    "\n",
    "epochs_trained = 0\n",
    "\n",
    "for idx in range(num_epochs):\n",
    "\n",
    "    t1 = time()\n",
    "    n_iter = 0\n",
    "    total_loss = 0.0\n",
    "\n",
    "    total_loss = train_one_epoch(model=model, loader=loader, optimizer=optimizer, loss_=loss_, tensor=tensor)\n",
    "\n",
    "    t2 = time()\n",
    "    print('Average loss during epoch %d: %f with execution time: %0.2f' % (idx, total_loss, (t2 - t1)))\n",
    "    \n",
    "    epochs_trained += 1\n",
    "    if epochs_trained % test_every == 0:\n",
    "        results = model.forward(tensor(X_test))\n",
    "        predicted = torch.max(results.data, 1)\n",
    "        y_pred = predicted.indices.tolist()\n",
    "        accuracy = accuracy_score(y_true=y_test.tolist(), y_pred=y_pred)\n",
    "        tracker.api.log_metric(key='accuracy', value=accuracy, description='Accuracy of the model', step=epochs_trained)\n",
    "        print('Accuracy at %d epoch is %f ' % (epochs_trained, accuracy))"
   ]
  },
  {
   "cell_type": "code",
   "execution_count": 16,
   "metadata": {},
   "outputs": [
    {
     "name": "stdout",
     "output_type": "stream",
     "text": [
      "2020-10-06 12:11:14.443 | WARNING  | pypads.injections.analysis.parameters:__post__:85 - No parameters are defined on the mapping file for <class 'sklearn.preprocessing._label.LabelEncoder'>. Trying to extract by other means...\n",
      "2020-10-06 12:11:15.191 | WARNING  | pypads.injections.analysis.parameters:__post__:85 - No parameters are defined on the mapping file for <class 'sklearn.preprocessing._label.LabelEncoder'>. Trying to extract by other means...\n",
      "2020-10-06 12:11:16.004 | WARNING  | pypads.injections.analysis.parameters:__post__:85 - No parameters are defined on the mapping file for <class 'sklearn.preprocessing._label.LabelEncoder'>. Trying to extract by other means...\n",
      "2020-10-06 12:11:16.760 | WARNING  | pypads.injections.analysis.parameters:__post__:85 - No parameters are defined on the mapping file for <class 'sklearn.preprocessing._label.LabelEncoder'>. Trying to extract by other means...\n",
      "              precision    recall  f1-score   support\n",
      "\n",
      "           0       1.00      1.00      1.00        19\n",
      "           1       1.00      0.86      0.92        21\n",
      "           2       0.87      1.00      0.93        20\n",
      "\n",
      "    accuracy                           0.95        60\n",
      "   macro avg       0.96      0.95      0.95        60\n",
      "weighted avg       0.96      0.95      0.95        60\n",
      "\n"
     ]
    }
   ],
   "source": [
    "# Print the classification report\n",
    "results = model.forward(tensor(X_test))\n",
    "predicted = torch.max(results.data, 1)\n",
    "y_pred = predicted.indices.tolist()\n",
    "print(classification_report(y_true=y_test.tolist(), y_pred=y_pred, labels=labels))"
   ]
  },
  {
   "cell_type": "markdown",
   "metadata": {},
   "source": [
    "## Adding a metric to be tracked by PyPads"
   ]
  },
  {
   "cell_type": "code",
   "execution_count": 17,
   "metadata": {},
   "outputs": [
    {
     "data": {
      "text/plain": [
       "'accuracy.metric.meta.json'"
      ]
     },
     "execution_count": 17,
     "metadata": {},
     "output_type": "execute_result"
    }
   ],
   "source": [
    "from sklearn.metrics import accuracy_score\n",
    "accuracy = accuracy_score(y_true=y_test.tolist(), y_pred=y_pred)\n",
    "# Track a metric using PyPads with the name as key, a description of the metric and \n",
    "# Setting step to 0 to indicate that this is the final value\n",
    "tracker.api.log_metric(key='accuracy', value=accuracy, description='Accuracy of the model', step=0)"
   ]
  },
  {
   "cell_type": "markdown",
   "metadata": {},
   "source": [
    "## Tracked Information"
   ]
  },
  {
   "cell_type": "code",
   "execution_count": 18,
   "metadata": {},
   "outputs": [
    {
     "data": {
      "text/plain": [
       "<RunInfo: artifact_uri='s3://pypads/18/de8273f5cd8a4887a9284ca982e2e812/artifacts', end_time=None, experiment_id='18', lifecycle_stage='active', run_id='de8273f5cd8a4887a9284ca982e2e812', run_uuid='de8273f5cd8a4887a9284ca982e2e812', start_time=1601979059936, status='RUNNING', user_id='christofer'>"
      ]
     },
     "execution_count": 18,
     "metadata": {},
     "output_type": "execute_result"
    }
   ],
   "source": [
    "tracker.api.active_run().info"
   ]
  },
  {
   "cell_type": "code",
   "execution_count": 19,
   "metadata": {},
   "outputs": [
    {
     "name": "stdout",
     "output_type": "stream",
     "text": [
      "[MetricInfo(meta=MetricMetaModel(experiment_id='18', experiment_name='PyTorch Example', run_id='de8273f5cd8a4887a9284ca982e2e812', created_at=1601979077.422258, clazz=\"<class 'pypads.model.storage.MetricMetaModel'>\", category='MLMetric', uid=UUID('755fa7ab-1ecf-47ef-8a12-4a8b29731134'), description='Accuracy of the model', additional_data=None, name='accuracy', step=0), content=[<Metric: key='accuracy', step=10, timestamp=1601979072701, value=0.65>, <Metric: key='accuracy', step=20, timestamp=1601979072923, value=0.65>, <Metric: key='accuracy', step=30, timestamp=1601979073152, value=0.65>, <Metric: key='accuracy', step=40, timestamp=1601979073365, value=0.6666666666666666>, <Metric: key='accuracy', step=50, timestamp=1601979073588, value=0.75>, <Metric: key='accuracy', step=60, timestamp=1601979073795, value=0.9333333333333333>, <Metric: key='accuracy', step=70, timestamp=1601979074013, value=0.9666666666666667>, <Metric: key='accuracy', step=0, timestamp=1601979077422, value=0.95>])]\n"
     ]
    }
   ],
   "source": [
    "metrics = tracker.api.get_metrics(run_id=tracker.api.active_run().info.run_id, history=True)\n",
    "print(metrics)"
   ]
  },
  {
   "cell_type": "markdown",
   "metadata": {},
   "source": [
    "### Get all the artefacts"
   ]
  },
  {
   "cell_type": "code",
   "execution_count": 20,
   "metadata": {},
   "outputs": [
    {
     "name": "stdout",
     "output_type": "stream",
     "text": [
      "[ArtifactInfo(meta=ArtifactMetaModel(experiment_id='18', experiment_name='PyTorch Example', run_id='de8273f5cd8a4887a9284ca982e2e812', created_at=1601979064.9391532, clazz=\"<class 'pypads.model.storage.ArtifactMetaModel'>\", category='Artifact', uid=UUID('44e75586-f1a7-4bf9-9e5f-e305763cd2d6'), description='', additional_data=None, path='Dependencies Run Setup Logger/Call/1058cf86-0912-4410-b2e8-ec5c1fe955dd.json', file_format=<FileFormats.json: 'json'>, type='Call'), file_size=457), ArtifactInfo(meta=ArtifactMetaModel(experiment_id='18', experiment_name='PyTorch Example', run_id='de8273f5cd8a4887a9284ca982e2e812', created_at=1601979064.2866967, clazz=\"<class 'pypads.model.storage.ArtifactMetaModel'>\", category='Artifact', uid=UUID('70a44dda-47fb-43e4-9e93-a43ebc8a9c21'), description='dependency list from pip freeze', additional_data=None, path='Dependencies Run Setup Logger/GenericTrackedObject/021fc7c4-abd4-4d68-b38e-0ba4be021b07/pip_freeze.txt', file_format=<FileFormats.text: 'txt'>, type=None), file_size=2958), ArtifactInfo(meta=ArtifactMetaModel(experiment_id='18', experiment_name='PyTorch Example', run_id='de8273f5cd8a4887a9284ca982e2e812', created_at=1601979064.5321794, clazz=\"<class 'pypads.model.storage.ArtifactMetaModel'>\", category='Artifact', uid=UUID('03cecc84-3d19-4be8-95e2-10169ca5c108'), description='', additional_data=None, path='Dependencies Run Setup Logger/GenericTrackedObject/021fc7c4-abd4-4d68-b38e-0ba4be021b07.json', file_format=<FileFormats.json: 'json'>, type='TrackedObject'), file_size=31930), ArtifactInfo(meta=ArtifactMetaModel(experiment_id='18', experiment_name='PyTorch Example', run_id='de8273f5cd8a4887a9284ca982e2e812', created_at=1601979064.7707176, clazz=\"<class 'pypads.model.storage.ArtifactMetaModel'>\", category='Artifact', uid=UUID('1861493a-be64-4bc0-b139-f29cef3a88a3'), description='', additional_data=None, path='Dependencies Run Setup Logger/Output/cadc53f8-cdb8-4598-b7b8-2d0fbd9e1e17.json', file_format=<FileFormats.json: 'json'>, type='Output'), file_size=498), ArtifactInfo(meta=ArtifactMetaModel(experiment_id='18', experiment_name='PyTorch Example', run_id='de8273f5cd8a4887a9284ca982e2e812', created_at=1601979068.1834953, clazz=\"<class 'pypads.model.storage.ArtifactMetaModel'>\", category='Artifact', uid=UUID('73270699-57e3-4787-a0b2-a0251a88e746'), description='', additional_data=None, path='Disk Run Setup Logger/Call/2e5d3134-3522-4097-8a0d-b290ff7cd1a3.json', file_format=<FileFormats.json: 'json'>, type='Call'), file_size=439), ArtifactInfo(meta=ArtifactMetaModel(experiment_id='18', experiment_name='PyTorch Example', run_id='de8273f5cd8a4887a9284ca982e2e812', created_at=1601979067.7988386, clazz=\"<class 'pypads.model.storage.ArtifactMetaModel'>\", category='Artifact', uid=UUID('d0c5924b-ffd1-42b8-823f-6a04f10bc955'), description='', additional_data=None, path='Disk Run Setup Logger/Disk Info/21048893-c7c2-44b3-a3c8-9acae1346474.json', file_format=<FileFormats.json: 'json'>, type='TrackedObject'), file_size=334), ArtifactInfo(meta=ArtifactMetaModel(experiment_id='18', experiment_name='PyTorch Example', run_id='de8273f5cd8a4887a9284ca982e2e812', created_at=1601979068.0201561, clazz=\"<class 'pypads.model.storage.ArtifactMetaModel'>\", category='Artifact', uid=UUID('cddcfaa2-a8cc-4f62-854f-1314d0bc372d'), description='', additional_data=None, path='Disk Run Setup Logger/Output/71fb515c-2c8b-4e32-97cb-100395430949.json', file_format=<FileFormats.json: 'json'>, type='Output'), file_size=451), ArtifactInfo(meta=ArtifactMetaModel(experiment_id='18', experiment_name='PyTorch Example', run_id='de8273f5cd8a4887a9284ca982e2e812', created_at=1601979061.9714968, clazz=\"<class 'pypads.model.storage.ArtifactMetaModel'>\", category='Artifact', uid=UUID('8604de95-fcbf-4da6-a9f8-05f9f8695c06'), description='', additional_data=None, path='Generic CPU Run Setup Logger/Call/a11fbc92-cbe0-4547-a314-4174fc2f82e8.json', file_format=<FileFormats.json: 'json'>, type='Call'), file_size=454), ArtifactInfo(meta=ArtifactMetaModel(experiment_id='18', experiment_name='PyTorch Example', run_id='de8273f5cd8a4887a9284ca982e2e812', created_at=1601979061.5661917, clazz=\"<class 'pypads.model.storage.ArtifactMetaModel'>\", category='Artifact', uid=UUID('be2fd1f6-e1d3-4b9c-ad2d-a7cd114b1d84'), description='', additional_data=None, path='Generic CPU Run Setup Logger/Cpu Info/9c70d122-23f1-4e4d-9ff5-581540fe767a.json', file_format=<FileFormats.json: 'json'>, type='TrackedObject'), file_size=340), ArtifactInfo(meta=ArtifactMetaModel(experiment_id='18', experiment_name='PyTorch Example', run_id='de8273f5cd8a4887a9284ca982e2e812', created_at=1601979061.8023272, clazz=\"<class 'pypads.model.storage.ArtifactMetaModel'>\", category='Artifact', uid=UUID('b299e572-c065-4190-95b1-d398f1381094'), description='', additional_data=None, path='Generic CPU Run Setup Logger/Output/d3f6b1a4-ab2b-411c-915a-260008644247.json', file_format=<FileFormats.json: 'json'>, type='Output'), file_size=460), ArtifactInfo(meta=ArtifactMetaModel(experiment_id='18', experiment_name='PyTorch Example', run_id='de8273f5cd8a4887a9284ca982e2e812', created_at=1601979070.626616, clazz=\"<class 'pypads.model.storage.ArtifactMetaModel'>\", category='Artifact', uid=UUID('43878797-7e48-4136-9c2d-46414b13a56a'), description='', additional_data=None, path='Generic Git Run Setup Logger/Call/b1de9c89-8e98-4a65-ab2f-cf47b2926666.json', file_format=<FileFormats.json: 'json'>, type='Call'), file_size=452), ArtifactInfo(meta=ArtifactMetaModel(experiment_id='18', experiment_name='PyTorch Example', run_id='de8273f5cd8a4887a9284ca982e2e812', created_at=1601979070.4451244, clazz=\"<class 'pypads.model.storage.ArtifactMetaModel'>\", category='Artifact', uid=UUID('6a4f0cc0-1130-4cff-9372-abe8638852ba'), description='', additional_data=None, path='Generic Git Run Setup Logger/Output/fac73fd4-b88b-4429-ac57-372167a28c8b.json', file_format=<FileFormats.json: 'json'>, type='Output'), file_size=383), ArtifactInfo(meta=ArtifactMetaModel(experiment_id='18', experiment_name='PyTorch Example', run_id='de8273f5cd8a4887a9284ca982e2e812', created_at=1601979077.3182926, clazz=\"<class 'pypads.model.storage.ArtifactMetaModel'>\", category='Artifact', uid=UUID('b9feefd5-baa0-4f1d-8d2d-34847674b747'), description='', additional_data=None, path='Generic Hyperparameter Logger/Call/0eba8c68-da66-4b13-8cfe-f195ca63f9c1.json', file_format=<FileFormats.json: 'json'>, type='Call'), file_size=1041), ArtifactInfo(meta=ArtifactMetaModel(experiment_id='18', experiment_name='PyTorch Example', run_id='de8273f5cd8a4887a9284ca982e2e812', created_at=1601979076.6312933, clazz=\"<class 'pypads.model.storage.ArtifactMetaModel'>\", category='Artifact', uid=UUID('1fb7f779-9cd6-44d6-a742-3204260f4e7c'), description='', additional_data=None, path='Generic Hyperparameter Logger/Call/2e3acc7a-c4ce-417c-9808-624723e44713.json', file_format=<FileFormats.json: 'json'>, type='Call'), file_size=1040), ArtifactInfo(meta=ArtifactMetaModel(experiment_id='18', experiment_name='PyTorch Example', run_id='de8273f5cd8a4887a9284ca982e2e812', created_at=1601979075.8680685, clazz=\"<class 'pypads.model.storage.ArtifactMetaModel'>\", category='Artifact', uid=UUID('d54a7a7f-92b8-4dd6-a59c-fcb8cbfe8990'), description='', additional_data=None, path='Generic Hyperparameter Logger/Call/b16c0023-5d5e-4b9d-bfd7-c26de6206e05.json', file_format=<FileFormats.json: 'json'>, type='Call'), file_size=1039), ArtifactInfo(meta=ArtifactMetaModel(experiment_id='18', experiment_name='PyTorch Example', run_id='de8273f5cd8a4887a9284ca982e2e812', created_at=1601979075.0415752, clazz=\"<class 'pypads.model.storage.ArtifactMetaModel'>\", category='Artifact', uid=UUID('1c92e286-e39f-4c7d-b0d7-16959022051c'), description='', additional_data=None, path='Generic Hyperparameter Logger/Call/f3088eed-5a42-4a8f-8f15-7e1711f04aa5.json', file_format=<FileFormats.json: 'json'>, type='Call'), file_size=1043), ArtifactInfo(meta=ArtifactMetaModel(experiment_id='18', experiment_name='PyTorch Example', run_id='de8273f5cd8a4887a9284ca982e2e812', created_at=1601979076.173908, clazz=\"<class 'pypads.model.storage.ArtifactMetaModel'>\", category='Artifact', uid=UUID('ab93cedb-8ba9-40b7-92c6-b92c961b8b77'), description='', additional_data=None, path='Generic Hyperparameter Logger/GenericTrackedObject/09efd514-0c83-4e2f-a3ca-d6557941b87e.json', file_format=<FileFormats.json: 'json'>, type='TrackedObject'), file_size=532), ArtifactInfo(meta=ArtifactMetaModel(experiment_id='18', experiment_name='PyTorch Example', run_id='de8273f5cd8a4887a9284ca982e2e812', created_at=1601979076.9228742, clazz=\"<class 'pypads.model.storage.ArtifactMetaModel'>\", category='Artifact', uid=UUID('41a7eb03-c6a8-46bf-929d-e4edbf1b1114'), description='', additional_data=None, path='Generic Hyperparameter Logger/GenericTrackedObject/8ef21b55-3186-45cc-ba3d-4db29c7eb383.json', file_format=<FileFormats.json: 'json'>, type='TrackedObject'), file_size=532), ArtifactInfo(meta=ArtifactMetaModel(experiment_id='18', experiment_name='PyTorch Example', run_id='de8273f5cd8a4887a9284ca982e2e812', created_at=1601979075.3642004, clazz=\"<class 'pypads.model.storage.ArtifactMetaModel'>\", category='Artifact', uid=UUID('c22b48ed-b8ef-4a63-8fef-c66118a0450c'), description='', additional_data=None, path='Generic Hyperparameter Logger/GenericTrackedObject/96197533-5eeb-433b-bcc4-698dd55bcb58.json', file_format=<FileFormats.json: 'json'>, type='TrackedObject'), file_size=532), ArtifactInfo(meta=ArtifactMetaModel(experiment_id='18', experiment_name='PyTorch Example', run_id='de8273f5cd8a4887a9284ca982e2e812', created_at=1601979074.617581, clazz=\"<class 'pypads.model.storage.ArtifactMetaModel'>\", category='Artifact', uid=UUID('da1af973-e71e-476b-a3bf-d2957f3bbca2'), description='', additional_data=None, path='Generic Hyperparameter Logger/GenericTrackedObject/a5e2d7ec-4d9a-46c0-90e6-e74bac2f0224.json', file_format=<FileFormats.json: 'json'>, type='TrackedObject'), file_size=532), ArtifactInfo(meta=ArtifactMetaModel(experiment_id='18', experiment_name='PyTorch Example', run_id='de8273f5cd8a4887a9284ca982e2e812', created_at=1601979075.6263094, clazz=\"<class 'pypads.model.storage.ArtifactMetaModel'>\", category='Artifact', uid=UUID('479ee680-64fe-48a4-b8f9-608ca9d1f8b1'), description='', additional_data=None, path='Generic Hyperparameter Logger/Output/1366a31b-1846-4c3e-8102-a44a46349d03.json', file_format=<FileFormats.json: 'json'>, type='Output'), file_size=556), ArtifactInfo(meta=ArtifactMetaModel(experiment_id='18', experiment_name='PyTorch Example', run_id='de8273f5cd8a4887a9284ca982e2e812', created_at=1601979076.4350166, clazz=\"<class 'pypads.model.storage.ArtifactMetaModel'>\", category='Artifact', uid=UUID('012b7da9-2ce3-4827-a2e6-1004ca2eab80'), description='', additional_data=None, path='Generic Hyperparameter Logger/Output/653450df-728b-4f9a-8227-d635628fdf34.json', file_format=<FileFormats.json: 'json'>, type='Output'), file_size=556), ArtifactInfo(meta=ArtifactMetaModel(experiment_id='18', experiment_name='PyTorch Example', run_id='de8273f5cd8a4887a9284ca982e2e812', created_at=1601979077.1508162, clazz=\"<class 'pypads.model.storage.ArtifactMetaModel'>\", category='Artifact', uid=UUID('59976398-4e39-4c40-b3cc-ac7f3e87dee3'), description='', additional_data=None, path='Generic Hyperparameter Logger/Output/76d54893-5a30-42c1-8367-5e83df8a3438.json', file_format=<FileFormats.json: 'json'>, type='Output'), file_size=556), ArtifactInfo(meta=ArtifactMetaModel(experiment_id='18', experiment_name='PyTorch Example', run_id='de8273f5cd8a4887a9284ca982e2e812', created_at=1601979074.852277, clazz=\"<class 'pypads.model.storage.ArtifactMetaModel'>\", category='Artifact', uid=UUID('3893de0f-63ed-403d-99cc-51f4f66638c7'), description='', additional_data=None, path='Generic Hyperparameter Logger/Output/8fccae3b-4394-4db4-92ab-ccae2b5b5e13.json', file_format=<FileFormats.json: 'json'>, type='Output'), file_size=556), ArtifactInfo(meta=ArtifactMetaModel(experiment_id='18', experiment_name='PyTorch Example', run_id='de8273f5cd8a4887a9284ca982e2e812', created_at=1601979063.9666176, clazz=\"<class 'pypads.model.storage.ArtifactMetaModel'>\", category='Artifact', uid=UUID('032b82c7-168c-427d-986a-b19ce177f7bb'), description='', additional_data=None, path='Generic MacAddress Run Setup Logger/Call/5e872db7-2052-499e-8c39-65373db180ca.json', file_format=<FileFormats.json: 'json'>, type='Call'), file_size=467), ArtifactInfo(meta=ArtifactMetaModel(experiment_id='18', experiment_name='PyTorch Example', run_id='de8273f5cd8a4887a9284ca982e2e812', created_at=1601979063.5656683, clazz=\"<class 'pypads.model.storage.ArtifactMetaModel'>\", category='Artifact', uid=UUID('95d8077a-c128-42fd-ad71-f5afeefc1d23'), description='', additional_data=None, path='Generic MacAddress Run Setup Logger/Mac Address/2505d9cd-1ccf-40be-8eab-3bcb14bd68ea.json', file_format=<FileFormats.json: 'json'>, type='TrackedObject'), file_size=376), ArtifactInfo(meta=ArtifactMetaModel(experiment_id='18', experiment_name='PyTorch Example', run_id='de8273f5cd8a4887a9284ca982e2e812', created_at=1601979063.8012462, clazz=\"<class 'pypads.model.storage.ArtifactMetaModel'>\", category='Artifact', uid=UUID('147f76e4-174c-44a6-b127-5cf9a1cb41ff'), description='', additional_data=None, path='Generic MacAddress Run Setup Logger/Output/fbc778cb-f5ff-43c6-a87b-46b57c3f23aa.json', file_format=<FileFormats.json: 'json'>, type='Output'), file_size=501), ArtifactInfo(meta=ArtifactMetaModel(experiment_id='18', experiment_name='PyTorch Example', run_id='de8273f5cd8a4887a9284ca982e2e812', created_at=1601979067.3539445, clazz=\"<class 'pypads.model.storage.ArtifactMetaModel'>\", category='Artifact', uid=UUID('83fbcea8-350b-4a8f-9f04-d5cd4767482d'), description='', additional_data=None, path='Generic Ram Run Setup Logger/Call/31f5ccd9-7839-4d1e-887b-eba2150649c8.json', file_format=<FileFormats.json: 'json'>, type='Call'), file_size=454), ArtifactInfo(meta=ArtifactMetaModel(experiment_id='18', experiment_name='PyTorch Example', run_id='de8273f5cd8a4887a9284ca982e2e812', created_at=1601979066.9424865, clazz=\"<class 'pypads.model.storage.ArtifactMetaModel'>\", category='Artifact', uid=UUID('6ced315b-b489-4398-891b-efb791d660b7'), description='', additional_data=None, path='Generic Ram Run Setup Logger/Memory Info/ab09f545-6ab6-4c54-bb50-75ed97f180ae.json', file_format=<FileFormats.json: 'json'>, type='TrackedObject'), file_size=343), ArtifactInfo(meta=ArtifactMetaModel(experiment_id='18', experiment_name='PyTorch Example', run_id='de8273f5cd8a4887a9284ca982e2e812', created_at=1601979067.1724656, clazz=\"<class 'pypads.model.storage.ArtifactMetaModel'>\", category='Artifact', uid=UUID('fd0f454e-433d-4899-9559-6e35f7fd16cc'), description='', additional_data=None, path='Generic Ram Run Setup Logger/Output/8200b432-b4ce-4215-b88c-0507d3095593.json', file_format=<FileFormats.json: 'json'>, type='Output'), file_size=466), ArtifactInfo(meta=ArtifactMetaModel(experiment_id='18', experiment_name='PyTorch Example', run_id='de8273f5cd8a4887a9284ca982e2e812', created_at=1601979066.3957214, clazz=\"<class 'pypads.model.storage.ArtifactMetaModel'>\", category='Artifact', uid=UUID('a5adb344-d235-402f-9519-b1621fc677d9'), description='', additional_data=None, path='Generic System Run Setup Logger/Call/be8f8975-8706-4ccd-a8a2-a149f28d8224.json', file_format=<FileFormats.json: 'json'>, type='Call'), file_size=460), ArtifactInfo(meta=ArtifactMetaModel(experiment_id='18', experiment_name='PyTorch Example', run_id='de8273f5cd8a4887a9284ca982e2e812', created_at=1601979066.229257, clazz=\"<class 'pypads.model.storage.ArtifactMetaModel'>\", category='Artifact', uid=UUID('d04678dc-e351-47f2-a83a-4175030842de'), description='', additional_data=None, path='Generic System Run Setup Logger/Output/4a549c09-b5f6-41e8-a673-1bb0d71e2f82.json', file_format=<FileFormats.json: 'json'>, type='Output'), file_size=481), ArtifactInfo(meta=ArtifactMetaModel(experiment_id='18', experiment_name='PyTorch Example', run_id='de8273f5cd8a4887a9284ca982e2e812', created_at=1601979065.9915488, clazz=\"<class 'pypads.model.storage.ArtifactMetaModel'>\", category='Artifact', uid=UUID('8430a5e8-ebc1-40d5-94ab-65fc0dfde880'), description='', additional_data=None, path='Generic System Run Setup Logger/System Info/e79b9077-02ba-43f3-99a5-6d364ea756da.json', file_format=<FileFormats.json: 'json'>, type='TrackedObject'), file_size=485), ArtifactInfo(meta=ArtifactMetaModel(experiment_id='18', experiment_name='PyTorch Example', run_id='de8273f5cd8a4887a9284ca982e2e812', created_at=1601979071.7437203, clazz=\"<class 'pypads.model.storage.ArtifactMetaModel'>\", category='Artifact', uid=UUID('eec0a47c-eb59-4f42-bb30-3daf714f532f'), description='', additional_data=None, path='Generic Tracking Function/Call/3be75059-530d-44dd-a6a4-3b7774d00405.json', file_format=<FileFormats.json: 'json'>, type='Call'), file_size=365), ArtifactInfo(meta=ArtifactMetaModel(experiment_id='18', experiment_name='PyTorch Example', run_id='de8273f5cd8a4887a9284ca982e2e812', created_at=1601979060.61864, clazz=\"<class 'pypads.model.storage.ArtifactMetaModel'>\", category='Artifact', uid=UUID('27fe2950-13ae-44ad-9a83-6b61d14b3300'), description='', additional_data=None, path='Loguru Run Setup Logger/Call/fcaf3343-6ff7-47ad-b262-03dad0236aae.json', file_format=<FileFormats.json: 'json'>, type='Call'), file_size=445), ArtifactInfo(meta=ArtifactMetaModel(experiment_id='18', experiment_name='PyTorch Example', run_id='de8273f5cd8a4887a9284ca982e2e812', created_at=1601979060.2289243, clazz=\"<class 'pypads.model.storage.ArtifactMetaModel'>\", category='Artifact', uid=UUID('722aa094-525c-49e0-97ef-db3ec577e608'), description='', additional_data=None, path='Loguru Run Setup Logger/GenericTrackedObject/e20c6a8f-b0e0-41fc-871e-44525294b43e.json', file_format=<FileFormats.json: 'json'>, type='TrackedObject'), file_size=435), ArtifactInfo(meta=ArtifactMetaModel(experiment_id='18', experiment_name='PyTorch Example', run_id='de8273f5cd8a4887a9284ca982e2e812', created_at=1601979060.4563217, clazz=\"<class 'pypads.model.storage.ArtifactMetaModel'>\", category='Artifact', uid=UUID('5e6cd18d-4574-4943-8bf5-a9bf68a09ae5'), description='', additional_data=None, path='Loguru Run Setup Logger/Output/a1fce147-b298-412c-8732-3f5b1ad72558.json', file_format=<FileFormats.json: 'json'>, type='Output'), file_size=466), ArtifactInfo(meta=ArtifactMetaModel(experiment_id='18', experiment_name='PyTorch Example', run_id='de8273f5cd8a4887a9284ca982e2e812', created_at=1601979063.1690145, clazz=\"<class 'pypads.model.storage.ArtifactMetaModel'>\", category='Artifact', uid=UUID('1e4e455b-04ab-44d3-8b5b-ad7f1a7a2f8e'), description='', additional_data=None, path='Process Run Setup Logger/Call/c29d6834-1aa4-4122-a8c1-908a23f98e7c.json', file_format=<FileFormats.json: 'json'>, type='Call'), file_size=445), ArtifactInfo(meta=ArtifactMetaModel(experiment_id='18', experiment_name='PyTorch Example', run_id='de8273f5cd8a4887a9284ca982e2e812', created_at=1601979063.0043325, clazz=\"<class 'pypads.model.storage.ArtifactMetaModel'>\", category='Artifact', uid=UUID('c05a60b8-819a-454d-9cbd-d2e72ad2df41'), description='', additional_data=None, path='Process Run Setup Logger/Output/38fe14f3-9ccb-4785-9df4-de7b93d3a3e9.json', file_format=<FileFormats.json: 'json'>, type='Output'), file_size=460), ArtifactInfo(meta=ArtifactMetaModel(experiment_id='18', experiment_name='PyTorch Example', run_id='de8273f5cd8a4887a9284ca982e2e812', created_at=1601979062.7749615, clazz=\"<class 'pypads.model.storage.ArtifactMetaModel'>\", category='Artifact', uid=UUID('5ff3760f-8947-4fc5-bd82-4069232a7ff2'), description='', additional_data=None, path='Process Run Setup Logger/Process Info/d6ad8fea-d4c5-4ed8-a409-4511f4472774.json', file_format=<FileFormats.json: 'json'>, type='TrackedObject'), file_size=468), ArtifactInfo(meta=ArtifactMetaModel(experiment_id='18', experiment_name='PyTorch Example', run_id='de8273f5cd8a4887a9284ca982e2e812', created_at=1601979069.1400106, clazz=\"<class 'pypads.model.storage.ArtifactMetaModel'>\", category='Artifact', uid=UUID('6bfbe8fe-5e97-4bc2-b7ea-c47289b3470f'), description='', additional_data=None, path='Socket Run Setup Logger/Call/7f0047c6-1c82-43c4-bc05-c2a3cc85cb16.json', file_format=<FileFormats.json: 'json'>, type='Call'), file_size=445), ArtifactInfo(meta=ArtifactMetaModel(experiment_id='18', experiment_name='PyTorch Example', run_id='de8273f5cd8a4887a9284ca982e2e812', created_at=1601979068.961401, clazz=\"<class 'pypads.model.storage.ArtifactMetaModel'>\", category='Artifact', uid=UUID('32eff953-90d4-480c-8dc3-826aca25cf93'), description='', additional_data=None, path='Socket Run Setup Logger/Output/f33ee4b2-68da-4e7e-ae6a-ddcb4647c884.json', file_format=<FileFormats.json: 'json'>, type='Output'), file_size=477), ArtifactInfo(meta=ArtifactMetaModel(experiment_id='18', experiment_name='PyTorch Example', run_id='de8273f5cd8a4887a9284ca982e2e812', created_at=1601979068.7207112, clazz=\"<class 'pypads.model.storage.ArtifactMetaModel'>\", category='Artifact', uid=UUID('8ac5fa6f-8172-49ab-90ee-1ca5eddb400a'), description='', additional_data=None, path='Socket Run Setup Logger/Socket Info/3a3fbd6f-bb60-4724-b2b5-8f4bb84e05b3.json', file_format=<FileFormats.json: 'json'>, type='TrackedObject'), file_size=390)]\n"
     ]
    }
   ],
   "source": [
    "artifacts = tracker.api.get_artifacts(run_id=tracker.api.active_run().info.run_id, path=\"*\")\n",
    "print(artifacts)"
   ]
  },
  {
   "cell_type": "markdown",
   "metadata": {},
   "source": [
    "### Metrics Information"
   ]
  },
  {
   "cell_type": "code",
   "execution_count": 21,
   "metadata": {},
   "outputs": [
    {
     "name": "stdout",
     "output_type": "stream",
     "text": [
      "[MetricInfo(meta=MetricMetaModel(experiment_id='18', experiment_name='PyTorch Example', run_id='de8273f5cd8a4887a9284ca982e2e812', created_at=1601979077.422258, clazz=\"<class 'pypads.model.storage.MetricMetaModel'>\", category='MLMetric', uid=UUID('755fa7ab-1ecf-47ef-8a12-4a8b29731134'), description='Accuracy of the model', additional_data=None, name='accuracy', step=0), content=[<Metric: key='accuracy', step=10, timestamp=1601979072701, value=0.65>, <Metric: key='accuracy', step=20, timestamp=1601979072923, value=0.65>, <Metric: key='accuracy', step=30, timestamp=1601979073152, value=0.65>, <Metric: key='accuracy', step=40, timestamp=1601979073365, value=0.6666666666666666>, <Metric: key='accuracy', step=50, timestamp=1601979073588, value=0.75>, <Metric: key='accuracy', step=60, timestamp=1601979073795, value=0.9333333333333333>, <Metric: key='accuracy', step=70, timestamp=1601979074013, value=0.9666666666666667>, <Metric: key='accuracy', step=0, timestamp=1601979077422, value=0.95>])]\n"
     ]
    }
   ],
   "source": [
    "metrics = tracker.api.get_metrics(run_id=tracker.api.active_run().info.run_id, history=True)\n",
    "print(metrics)"
   ]
  },
  {
   "cell_type": "markdown",
   "metadata": {},
   "source": [
    "### Tracked Parameter Information"
   ]
  },
  {
   "cell_type": "code",
   "execution_count": 22,
   "metadata": {},
   "outputs": [
    {
     "name": "stdout",
     "output_type": "stream",
     "text": [
      "[ParameterInfo(meta=ParameterMetaModel(experiment_id='18', experiment_name='PyTorch Example', run_id='de8273f5cd8a4887a9284ca982e2e812', created_at=1601979072.3355453, clazz=\"<class 'pypads.model.storage.ParameterMetaModel'>\", category='HyperParameter', uid=UUID('36d557cf-4c06-45e7-91e8-8d48bf9fb76e'), description='Learning rate', additional_data=None, name='lr', value_format=\"<class 'float'>\"), content='0.005'), ParameterInfo(meta=ParameterMetaModel(experiment_id='18', experiment_name='PyTorch Example', run_id='de8273f5cd8a4887a9284ca982e2e812', created_at=1601979072.4534943, clazz=\"<class 'pypads.model.storage.ParameterMetaModel'>\", category='HyperParameter', uid=UUID('9716bdfa-5e83-45dd-b1b4-60af5f95143b'), description='Shape of the fully connected network', additional_data=None, name='networks_shape', value_format=\"<class 'list'>\"), content='[10, 10, 3]')]\n"
     ]
    }
   ],
   "source": [
    "parameters = tracker.api.get_parameters(run_id=tracker.api.active_run().info.run_id)\n",
    "print(parameters)"
   ]
  },
  {
   "cell_type": "markdown",
   "metadata": {},
   "source": [
    "### End tracking of experiment"
   ]
  },
  {
   "cell_type": "code",
   "execution_count": 23,
   "metadata": {},
   "outputs": [],
   "source": [
    "tracker.api.end_run()"
   ]
  }
 ],
 "metadata": {
  "kernelspec": {
   "display_name": "Python 3",
   "language": "python",
   "name": "python3"
  },
  "language_info": {
   "codemirror_mode": {
    "name": "ipython",
    "version": 3
   },
   "file_extension": ".py",
   "mimetype": "text/x-python",
   "name": "python",
   "nbconvert_exporter": "python",
   "pygments_lexer": "ipython3",
   "version": "3.7.9"
  }
 },
 "nbformat": 4,
 "nbformat_minor": 4
}

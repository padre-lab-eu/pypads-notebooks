{
 "cells": [
  {
   "cell_type": "code",
   "execution_count": 1,
   "metadata": {},
   "outputs": [],
   "source": [
    "# Defining the required access keys for uploading the experiment with the server\n",
    "%env AWS_ACCESS_KEY_ID=XSHDLTACETFLQURZSAUJ\n",
    "%env AWS_SECRET_ACCESS_KEY=ISvyN9Aay40ZIaMuQcngOCJdzkSqR85ON1ng9PNZ\n",
    "%env MLFLOW_S3_ENDPOINT_URL=http://s3.padre-lab.eu\n",
    "%env MLFLOW_TRACKING_URI=http://mlflow.padre-lab.eu"
   ]
  },
  {
   "cell_type": "markdown",
   "metadata": {},
   "source": [
    "## Initialize the tracking system of PyPads"
   ]
  },
  {
   "cell_type": "code",
   "execution_count": 2,
   "metadata": {},
   "outputs": [
    {
     "name": "stdout",
     "output_type": "stream",
     "text": [
      "2020-10-05 14:36:51.002 | INFO     | pypads.app.base:activate_tracking:507 - Activating tracking...\n",
      "2020-10-05 14:37:00.885 | INFO     | pypads.injections.setup.misc_setup:_call:72 - Tracking execution to run with id 3f37b1482453464b8cab677047b43c5d\n",
      "2020-10-05 14:37:02.055 | WARNING  | pypads.app.misc.managed_git:preserve_changes:84 - There are uncommitted changes in your git!\n",
      "2020-10-05 14:37:02.146 | INFO     | pypads.app.misc.managed_git:preserve_changes:96 - Using already existing pypads branch PyPads/f1ab4cea22ef4d45b03922e58fdb2d95\n",
      "2020-10-05 14:37:02.361 | WARNING  | pypads.app.misc.managed_git:_handle_error:18 - Couldn't initialized git repository because of exception: Preserving commit failed due to INVALID_PARAMETER_VALUE: Tag value 'diff --git a/.idea/workspace.xml b/.idea/workspace.xml\n",
      "new file mode 100644\n",
      "index 0000000..08385ea\n",
      "--- /dev/null\n",
      "+++ b/.idea/workspace.xml\n",
      "@@ -0,0 +1,229 @@\n",
      "+<?xml version=\"1.0\" encoding=\"UTF-8\"?>\n",
      "+<project version=\"4\">\n",
      "+  <component name=\"BranchesTr' had length 24822, which exceeded length limit of 5000\n",
      "2020-10-05 14:37:02.794 | WARNING  | pypads.app.base:start_track:620 - Active experiment_id of run doesn't match given input name PyTorch Example. Recreating new run.\n",
      "2020-10-05 14:37:11.557 | INFO     | pypads.injections.setup.misc_setup:_call:72 - Tracking execution to run with id 5cca87cdda4d4193880c75ce3363f279\n",
      "2020-10-05 14:37:12.622 | WARNING  | pypads.app.misc.managed_git:preserve_changes:84 - There are uncommitted changes in your git!\n",
      "2020-10-05 14:37:12.770 | INFO     | pypads.app.misc.managed_git:preserve_changes:96 - Using already existing pypads branch PyPads/f1ab4cea22ef4d45b03922e58fdb2d95\n",
      "2020-10-05 14:37:13.029 | WARNING  | pypads.app.misc.managed_git:_handle_error:18 - Couldn't initialized git repository because of exception: Preserving commit failed due to INVALID_PARAMETER_VALUE: Tag value 'diff --git a/.idea/workspace.xml b/.idea/workspace.xml\n",
      "new file mode 100644\n",
      "index 0000000..08385ea\n",
      "--- /dev/null\n",
      "+++ b/.idea/workspace.xml\n",
      "@@ -0,0 +1,229 @@\n",
      "+<?xml version=\"1.0\" encoding=\"UTF-8\"?>\n",
      "+<project version=\"4\">\n",
      "+  <component name=\"BranchesTr' had length 24822, which exceeded length limit of 5000\n"
     ]
    },
    {
     "data": {
      "text/plain": [
       "<pypads.app.base.PyPads at 0x7f64588c6ed0>"
      ]
     },
     "execution_count": 2,
     "metadata": {},
     "output_type": "execute_result"
    }
   ],
   "source": [
    "from pypads.app.base import PyPads\n",
    "\n",
    "tracker = PyPads(uri=\"http://mlflow.padre-lab.eu\")\n",
    "tracker.activate_tracking()\n",
    "tracker.start_track(experiment_name=\"PyTorch Example\")"
   ]
  },
  {
   "cell_type": "code",
   "execution_count": 3,
   "metadata": {},
   "outputs": [
    {
     "name": "stderr",
     "output_type": "stream",
     "text": [
      "/home/christofer/PycharmProjects/pypads-notebooks/venv/lib/python3.7/site-packages/ipykernel/ipkernel.py:287: DeprecationWarning: `should_run_async` will not call `transform_cell` automatically in the future. Please pass the result to `transformed_cell` argument and any exception that happen during thetransform in `preprocessing_exc_tuple` in IPython 7.17 and above.\n",
      "  and should_run_async(code)\n",
      "/home/christofer/PycharmProjects/pypads-notebooks/venv/lib/python3.7/site-packages/torch/distributed/distributed_c10d.py:125: UserWarning: torch.distributed.reduce_op is deprecated, please use torch.distributed.ReduceOp instead\n",
      "  warnings.warn(\"torch.distributed.reduce_op is deprecated, please use \"\n"
     ]
    }
   ],
   "source": [
    "# Set the random seed to 1\n",
    "tracker.actuators.set_random_seed(seed=1)"
   ]
  },
  {
   "cell_type": "markdown",
   "metadata": {},
   "source": [
    "## Import the dataset from Scikit-learn"
   ]
  },
  {
   "cell_type": "code",
   "execution_count": 4,
   "metadata": {},
   "outputs": [
    {
     "name": "stderr",
     "output_type": "stream",
     "text": [
      "/home/christofer/PycharmProjects/pypads-notebooks/venv/lib/python3.7/site-packages/ipykernel/ipkernel.py:287: DeprecationWarning: `should_run_async` will not call `transform_cell` automatically in the future. Please pass the result to `transformed_cell` argument and any exception that happen during thetransform in `preprocessing_exc_tuple` in IPython 7.17 and above.\n",
      "  and should_run_async(code)\n"
     ]
    }
   ],
   "source": [
    "from sklearn import datasets\n",
    "\n",
    "# load the iris datasets\n",
    "dataset = datasets.load_iris()\n",
    "X = dataset.data\n",
    "y = dataset.target\n"
   ]
  },
  {
   "cell_type": "markdown",
   "metadata": {},
   "source": [
    "### Do the test train split"
   ]
  },
  {
   "cell_type": "code",
   "execution_count": 5,
   "metadata": {},
   "outputs": [
    {
     "name": "stderr",
     "output_type": "stream",
     "text": [
      "/home/christofer/PycharmProjects/pypads-notebooks/venv/lib/python3.7/site-packages/ipykernel/ipkernel.py:287: DeprecationWarning: `should_run_async` will not call `transform_cell` automatically in the future. Please pass the result to `transformed_cell` argument and any exception that happen during thetransform in `preprocessing_exc_tuple` in IPython 7.17 and above.\n",
      "  and should_run_async(code)\n"
     ]
    },
    {
     "data": {
      "text/plain": [
       "(90, 5)"
      ]
     },
     "execution_count": 5,
     "metadata": {},
     "output_type": "execute_result"
    }
   ],
   "source": [
    "from sklearn.model_selection import train_test_split\n",
    "from sklearn.metrics import classification_report, accuracy_score\n",
    "import numpy as np\n",
    "\n",
    "X_train, X_test, y_train, y_test = train_test_split(X, y, test_size=.4)\n",
    "\n",
    "train = np.append(X_train, y_train.reshape((y_train.shape[0],1)), axis=1)\n",
    "train.shape"
   ]
  },
  {
   "cell_type": "markdown",
   "metadata": {},
   "source": [
    "## Create Torch class for accepting neural network shapes"
   ]
  },
  {
   "cell_type": "code",
   "execution_count": 6,
   "metadata": {},
   "outputs": [],
   "source": [
    "import torch\n",
    "from torch import nn\n",
    "from typing import Any\n",
    "from collections import OrderedDict\n",
    "\n",
    "class Model(nn.Module):\n",
    "    def _forward_unimplemented(self, *input: Any) -> None:\n",
    "        pass\n",
    "    \n",
    "    def __init__(self, feature_shape, leaky_value=0.05, shape=[30, 50, 1]):\n",
    "        super(Model, self).__init__()\n",
    "        layers = [feature_shape] + shape\n",
    "        layer_list = OrderedDict()\n",
    "        for idx in range(1, len(layers)):\n",
    "            layer_list[str(idx)] = nn.Linear(layers[idx-1], layers[idx])\n",
    "            layer_list['Relu' + str(idx)] = nn.LeakyReLU(leaky_value, inplace=True)\n",
    "\n",
    "        layer_list['Sigmoid'] = nn.Sigmoid()\n",
    "        self.model = nn.Sequential(layer_list)\n",
    "\n",
    "    def forward(self, img):\n",
    "        img_flat = img.view(img.size(0), -1)\n",
    "        validity = self.model(img_flat)\n",
    "        return validity\n",
    "    "
   ]
  },
  {
   "cell_type": "code",
   "execution_count": 7,
   "metadata": {},
   "outputs": [],
   "source": [
    "# Define the various training parameters\n",
    "num_features = X.shape[1]\n",
    "num_labels = 3\n",
    "num_epochs = 75\n",
    "test_every = 10\n",
    "h_lr = 0.005\n",
    "h_b1 = 0.5\n",
    "h_b2 = 0.999\n",
    "batch_size = 10\n",
    "neural_network_shape = [10, 10, 3]"
   ]
  },
  {
   "cell_type": "code",
   "execution_count": 8,
   "metadata": {},
   "outputs": [],
   "source": [
    "# Create the model\n",
    "model = Model(feature_shape=num_features, shape=neural_network_shape)"
   ]
  },
  {
   "cell_type": "code",
   "execution_count": 9,
   "metadata": {},
   "outputs": [],
   "source": [
    "# Create the optimizer\n",
    "optimizer = torch.optim.Adam(model.parameters(), lr=h_lr, betas=(h_b1, h_b2))"
   ]
  },
  {
   "cell_type": "code",
   "execution_count": 10,
   "metadata": {},
   "outputs": [],
   "source": [
    "# Create the loss function\n",
    "loss_ = torch.nn.BCELoss()"
   ]
  },
  {
   "cell_type": "code",
   "execution_count": 11,
   "metadata": {},
   "outputs": [],
   "source": [
    "# Function to train for one epoch\n",
    "from torch.utils.data import DataLoader\n",
    "\n",
    "def train_one_epoch(model, loader: DataLoader, tensor, optimizer, loss_, scheduler=None):\n",
    "    total_loss = 0\n",
    "    n_iter = 0\n",
    "    for batch_idx, (batch_train_features, batch_train_labels) in enumerate(loader):\n",
    "\n",
    "        features_batch = tensor(batch_train_features.type(torch.FloatTensor))\n",
    "        labels_batch = tensor(batch_train_labels)\n",
    "        \n",
    "        optimizer.zero_grad()\n",
    "\n",
    "        # Compute loss\n",
    "        forward = model.forward(features_batch)\n",
    "        _loss = loss_(forward, labels_batch)\n",
    "\n",
    "        _loss.backward()\n",
    "        optimizer.step()\n",
    "\n",
    "        if scheduler is not None:\n",
    "            scheduler.step()\n",
    "\n",
    "        total_loss += _loss\n",
    "        n_iter += 1\n",
    "\n",
    "    return total_loss / n_iter"
   ]
  },
  {
   "cell_type": "code",
   "execution_count": 12,
   "metadata": {},
   "outputs": [],
   "source": [
    "# Function to split the batch into features and labels\n",
    "def sample_collate(batch):\n",
    "    one_hot = True\n",
    "    num_labels = 3\n",
    "    X = torch.stack([torch.tensor(x[:-1]) for x in batch])\n",
    "    if one_hot is False:\n",
    "        Y = [y[-1] for y in batch]\n",
    "    else:\n",
    "        Y = torch.zeros(len(batch), num_labels)\n",
    "        for idx in range(len(batch)):\n",
    "            Y[idx][int(batch[idx][-1])] = 1\n",
    "            \n",
    "    return X, Y"
   ]
  },
  {
   "cell_type": "code",
   "execution_count": 13,
   "metadata": {},
   "outputs": [],
   "source": [
    "# Create the data loader for training\n",
    "loader = DataLoader(train, batch_size=10, shuffle=True, collate_fn=sample_collate)"
   ]
  },
  {
   "cell_type": "code",
   "execution_count": 14,
   "metadata": {},
   "outputs": [
    {
     "name": "stdout",
     "output_type": "stream",
     "text": [
      "Initial accuracy is 0.633333 \n",
      "Average loss during epoch 0: 0.682202 with execution time: 0.01\n",
      "Average loss during epoch 1: 0.675866 with execution time: 0.01\n",
      "Average loss during epoch 2: 0.668212 with execution time: 0.01\n",
      "Average loss during epoch 3: 0.659434 with execution time: 0.01\n",
      "Average loss during epoch 4: 0.648030 with execution time: 0.01\n",
      "Average loss during epoch 5: 0.633524 with execution time: 0.01\n",
      "Average loss during epoch 6: 0.615018 with execution time: 0.01\n",
      "Average loss during epoch 7: 0.592594 with execution time: 0.01\n",
      "Average loss during epoch 8: 0.537318 with execution time: 0.01\n",
      "Average loss during epoch 9: 0.516329 with execution time: 0.01\n",
      "Accuracy at 10 epoch is 0.650000 \n",
      "Average loss during epoch 10: 0.505683 with execution time: 0.01\n",
      "Average loss during epoch 11: 0.483489 with execution time: 0.01\n",
      "Average loss during epoch 12: 0.473819 with execution time: 0.01\n",
      "Average loss during epoch 13: 0.462664 with execution time: 0.01\n",
      "Average loss during epoch 14: 0.447927 with execution time: 0.01\n",
      "Average loss during epoch 15: 0.431787 with execution time: 0.01\n",
      "Average loss during epoch 16: 0.416558 with execution time: 0.01\n",
      "Average loss during epoch 17: 0.423921 with execution time: 0.01\n",
      "Average loss during epoch 18: 0.411870 with execution time: 0.01\n",
      "Average loss during epoch 19: 0.384897 with execution time: 0.01\n",
      "Accuracy at 20 epoch is 0.650000 \n",
      "Average loss during epoch 20: 0.384347 with execution time: 0.01\n",
      "Average loss during epoch 21: 0.382977 with execution time: 0.01\n",
      "Average loss during epoch 22: 0.367555 with execution time: 0.01\n",
      "Average loss during epoch 23: 0.379936 with execution time: 0.01\n",
      "Average loss during epoch 24: 0.350976 with execution time: 0.01\n",
      "Average loss during epoch 25: 0.350120 with execution time: 0.01\n",
      "Average loss during epoch 26: 0.348260 with execution time: 0.01\n",
      "Average loss during epoch 27: 0.349278 with execution time: 0.01\n",
      "Average loss during epoch 28: 0.333166 with execution time: 0.01\n",
      "Average loss during epoch 29: 0.331310 with execution time: 0.01\n",
      "Accuracy at 30 epoch is 0.650000 \n",
      "Average loss during epoch 30: 0.334108 with execution time: 0.01\n",
      "Average loss during epoch 31: 0.322480 with execution time: 0.01\n",
      "Average loss during epoch 32: 0.312741 with execution time: 0.01\n",
      "Average loss during epoch 33: 0.326355 with execution time: 0.01\n",
      "Average loss during epoch 34: 0.329043 with execution time: 0.01\n",
      "Average loss during epoch 35: 0.316547 with execution time: 0.01\n",
      "Average loss during epoch 36: 0.317304 with execution time: 0.01\n",
      "Average loss during epoch 37: 0.310586 with execution time: 0.01\n",
      "Average loss during epoch 38: 0.296103 with execution time: 0.01\n",
      "Average loss during epoch 39: 0.298967 with execution time: 0.01\n",
      "Accuracy at 40 epoch is 0.666667 \n",
      "Average loss during epoch 40: 0.299661 with execution time: 0.01\n",
      "Average loss during epoch 41: 0.302193 with execution time: 0.01\n",
      "Average loss during epoch 42: 0.288491 with execution time: 0.01\n",
      "Average loss during epoch 43: 0.301859 with execution time: 0.01\n",
      "Average loss during epoch 44: 0.304358 with execution time: 0.01\n",
      "Average loss during epoch 45: 0.281517 with execution time: 0.01\n",
      "Average loss during epoch 46: 0.293113 with execution time: 0.01\n",
      "Average loss during epoch 47: 0.279373 with execution time: 0.01\n",
      "Average loss during epoch 48: 0.294310 with execution time: 0.01\n",
      "Average loss during epoch 49: 0.295048 with execution time: 0.01\n",
      "Accuracy at 50 epoch is 0.750000 \n",
      "Average loss during epoch 50: 0.287552 with execution time: 0.01\n",
      "Average loss during epoch 51: 0.280541 with execution time: 0.01\n",
      "Average loss during epoch 52: 0.285465 with execution time: 0.01\n",
      "Average loss during epoch 53: 0.281586 with execution time: 0.01\n",
      "Average loss during epoch 54: 0.281233 with execution time: 0.01\n",
      "Average loss during epoch 55: 0.281929 with execution time: 0.01\n",
      "Average loss during epoch 56: 0.280396 with execution time: 0.01\n",
      "Average loss during epoch 57: 0.275505 with execution time: 0.01\n",
      "Average loss during epoch 58: 0.271287 with execution time: 0.01\n",
      "Average loss during epoch 59: 0.289972 with execution time: 0.01\n",
      "Accuracy at 60 epoch is 0.933333 \n",
      "Average loss during epoch 60: 0.288080 with execution time: 0.01\n",
      "Average loss during epoch 61: 0.267712 with execution time: 0.01\n",
      "Average loss during epoch 62: 0.264819 with execution time: 0.01\n",
      "Average loss during epoch 63: 0.285846 with execution time: 0.01\n",
      "Average loss during epoch 64: 0.266947 with execution time: 0.01\n",
      "Average loss during epoch 65: 0.281895 with execution time: 0.01\n",
      "Average loss during epoch 66: 0.265253 with execution time: 0.01\n",
      "Average loss during epoch 67: 0.274912 with execution time: 0.01\n",
      "Average loss during epoch 68: 0.255481 with execution time: 0.01\n",
      "Average loss during epoch 69: 0.258187 with execution time: 0.01\n",
      "Accuracy at 70 epoch is 0.966667 \n",
      "Average loss during epoch 70: 0.259931 with execution time: 0.01\n",
      "Average loss during epoch 71: 0.265738 with execution time: 0.01\n",
      "Average loss during epoch 72: 0.253350 with execution time: 0.01\n",
      "Average loss during epoch 73: 0.282969 with execution time: 0.01\n",
      "Average loss during epoch 74: 0.259133 with execution time: 0.01\n"
     ]
    }
   ],
   "source": [
    "# Train the model\n",
    "\n",
    "from time import time\n",
    "\n",
    "labels = [i for i in range(num_labels)]\n",
    "\n",
    "cuda = True if torch.cuda.is_available() else False\n",
    "tensor = torch.cuda.FloatStorage if cuda else torch.FloatTensor\n",
    "\n",
    "results = model.forward(tensor(X_test))\n",
    "predicted = torch.max(results.data, 1)\n",
    "y_pred = predicted.indices.tolist()\n",
    "print('Initial accuracy is %f ' % accuracy_score(y_true=y_test.tolist(), y_pred=y_pred))\n",
    "\n",
    "epochs_trained = 0\n",
    "\n",
    "for idx in range(num_epochs):\n",
    "\n",
    "    t1 = time()\n",
    "    n_iter = 0\n",
    "    total_loss = 0.0\n",
    "\n",
    "    total_loss = train_one_epoch(model=model, loader=loader, optimizer=optimizer, loss_=loss_, tensor=tensor)\n",
    "\n",
    "    t2 = time()\n",
    "    print('Average loss during epoch %d: %f with execution time: %0.2f' % (idx, total_loss, (t2 - t1)))\n",
    "    \n",
    "    epochs_trained += 1\n",
    "    if epochs_trained % test_every == 0:\n",
    "        results = model.forward(tensor(X_test))\n",
    "        predicted = torch.max(results.data, 1)\n",
    "        y_pred = predicted.indices.tolist()\n",
    "        print('Accuracy at %d epoch is %f ' % (epochs_trained, accuracy_score(y_true=y_test.tolist(), y_pred=y_pred)))"
   ]
  },
  {
   "cell_type": "code",
   "execution_count": 15,
   "metadata": {},
   "outputs": [
    {
     "name": "stdout",
     "output_type": "stream",
     "text": [
      "2020-10-05 14:37:15.890 | WARNING  | pypads.injections.analysis.parameters:__post__:85 - No parameters are defined on the mapping file for <class 'sklearn.preprocessing._label.LabelEncoder'>. Trying to extract by other means...\n",
      "2020-10-05 14:37:16.626 | WARNING  | pypads.injections.analysis.parameters:__post__:85 - No parameters are defined on the mapping file for <class 'sklearn.preprocessing._label.LabelEncoder'>. Trying to extract by other means...\n",
      "2020-10-05 14:37:17.358 | WARNING  | pypads.injections.analysis.parameters:__post__:85 - No parameters are defined on the mapping file for <class 'sklearn.preprocessing._label.LabelEncoder'>. Trying to extract by other means...\n",
      "2020-10-05 14:37:18.094 | WARNING  | pypads.injections.analysis.parameters:__post__:85 - No parameters are defined on the mapping file for <class 'sklearn.preprocessing._label.LabelEncoder'>. Trying to extract by other means...\n",
      "              precision    recall  f1-score   support\n",
      "\n",
      "           0       1.00      1.00      1.00        19\n",
      "           1       1.00      0.86      0.92        21\n",
      "           2       0.87      1.00      0.93        20\n",
      "\n",
      "    accuracy                           0.95        60\n",
      "   macro avg       0.96      0.95      0.95        60\n",
      "weighted avg       0.96      0.95      0.95        60\n",
      "\n"
     ]
    }
   ],
   "source": [
    "# Print the classification report\n",
    "results = model.forward(tensor(X_test))\n",
    "predicted = torch.max(results.data, 1)\n",
    "y_pred = predicted.indices.tolist()\n",
    "print(classification_report(y_true=y_test.tolist(), y_pred=y_pred, labels=labels))"
   ]
  },
  {
   "cell_type": "markdown",
   "metadata": {},
   "source": [
    "## Tracked Information"
   ]
  },
  {
   "cell_type": "code",
   "execution_count": 18,
   "metadata": {},
   "outputs": [
    {
     "data": {
      "text/plain": [
       "<RunInfo: artifact_uri='s3://pypads/18/5cca87cdda4d4193880c75ce3363f279/artifacts', end_time=None, experiment_id='18', lifecycle_stage='active', run_id='5cca87cdda4d4193880c75ce3363f279', run_uuid='5cca87cdda4d4193880c75ce3363f279', start_time=1601901422799, status='RUNNING', user_id='christofer'>"
      ]
     },
     "execution_count": 18,
     "metadata": {},
     "output_type": "execute_result"
    }
   ],
   "source": [
    "tracker.api.active_run().info"
   ]
  },
  {
   "cell_type": "code",
   "execution_count": 19,
   "metadata": {},
   "outputs": [
    {
     "name": "stdout",
     "output_type": "stream",
     "text": [
      "[]\n"
     ]
    }
   ],
   "source": [
    "metrics = tracker.api.get_metrics(run_id=tracker.api.active_run().info.run_id, history=True)\n",
    "print(metrics)"
   ]
  },
  {
   "cell_type": "markdown",
   "metadata": {},
   "source": [
    "### Get all the artefacts"
   ]
  },
  {
   "cell_type": "code",
   "execution_count": 23,
   "metadata": {},
   "outputs": [
    {
     "name": "stdout",
     "output_type": "stream",
     "text": [
      "[ArtifactInfo(meta=ArtifactMetaModel(experiment_id='18', experiment_name='PyTorch Example', run_id='5cca87cdda4d4193880c75ce3363f279', created_at=1601901432.4173603, clazz=\"<class 'pypads.model.storage.ArtifactMetaModel'>\", category='Artifact', uid=UUID('39c22a65-2773-4e59-a3c5-54980fc6c095'), description='', additional_data=None, path='Dependencies Run Setup Logger/Call/9c87d851-03b0-4ba9-870c-d82bcf74a0a9.json', file_format=<FileFormats.json: 'json'>, type='Call'), file_size=456), ArtifactInfo(meta=ArtifactMetaModel(experiment_id='18', experiment_name='PyTorch Example', run_id='5cca87cdda4d4193880c75ce3363f279', created_at=1601901431.7438211, clazz=\"<class 'pypads.model.storage.ArtifactMetaModel'>\", category='Artifact', uid=UUID('6c9af162-1678-43ed-a443-7e99cc57d327'), description='dependency list from pip freeze', additional_data=None, path='Dependencies Run Setup Logger/GenericTrackedObject/76b83971-4ba5-4de4-9e30-53ba92d625c8/pip_freeze.txt', file_format=<FileFormats.text: 'txt'>, type=None), file_size=2473), ArtifactInfo(meta=ArtifactMetaModel(experiment_id='18', experiment_name='PyTorch Example', run_id='5cca87cdda4d4193880c75ce3363f279', created_at=1601901432.0005558, clazz=\"<class 'pypads.model.storage.ArtifactMetaModel'>\", category='Artifact', uid=UUID('a812b0bb-411e-4de9-b6b2-79c9090b31fc'), description='', additional_data=None, path='Dependencies Run Setup Logger/GenericTrackedObject/76b83971-4ba5-4de4-9e30-53ba92d625c8.json', file_format=<FileFormats.json: 'json'>, type='TrackedObject'), file_size=26973), ArtifactInfo(meta=ArtifactMetaModel(experiment_id='18', experiment_name='PyTorch Example', run_id='5cca87cdda4d4193880c75ce3363f279', created_at=1601901432.246581, clazz=\"<class 'pypads.model.storage.ArtifactMetaModel'>\", category='Artifact', uid=UUID('4f43a1a5-35ec-4090-8309-77cb3539fb3c'), description='', additional_data=None, path='Dependencies Run Setup Logger/Output/f1827aa4-2bff-483b-80d4-a3cbd73480f3.json', file_format=<FileFormats.json: 'json'>, type='Output'), file_size=498), ArtifactInfo(meta=ArtifactMetaModel(experiment_id='18', experiment_name='PyTorch Example', run_id='5cca87cdda4d4193880c75ce3363f279', created_at=1601901430.3957028, clazz=\"<class 'pypads.model.storage.ArtifactMetaModel'>\", category='Artifact', uid=UUID('bdd4c174-f24c-4163-b889-11fb8a63d2b4'), description='', additional_data=None, path='Disk Run Setup Logger/Call/2a22827d-79b6-429e-b643-e604697686d7.json', file_format=<FileFormats.json: 'json'>, type='Call'), file_size=440), ArtifactInfo(meta=ArtifactMetaModel(experiment_id='18', experiment_name='PyTorch Example', run_id='5cca87cdda4d4193880c75ce3363f279', created_at=1601901429.967328, clazz=\"<class 'pypads.model.storage.ArtifactMetaModel'>\", category='Artifact', uid=UUID('ecc237ac-d25c-427d-8de2-76e161ada6eb'), description='', additional_data=None, path='Disk Run Setup Logger/Disk Info/19a18506-18f8-4877-9ec0-1fc3f124d73a.json', file_format=<FileFormats.json: 'json'>, type='TrackedObject'), file_size=334), ArtifactInfo(meta=ArtifactMetaModel(experiment_id='18', experiment_name='PyTorch Example', run_id='5cca87cdda4d4193880c75ce3363f279', created_at=1601901430.2102773, clazz=\"<class 'pypads.model.storage.ArtifactMetaModel'>\", category='Artifact', uid=UUID('08dfbafe-4f97-4162-8fb5-6dce773f175a'), description='', additional_data=None, path='Disk Run Setup Logger/Output/8404b56f-321e-4606-8961-04aa6991ff78.json', file_format=<FileFormats.json: 'json'>, type='Output'), file_size=451), ArtifactInfo(meta=ArtifactMetaModel(experiment_id='18', experiment_name='PyTorch Example', run_id='5cca87cdda4d4193880c75ce3363f279', created_at=1601901424.7876565, clazz=\"<class 'pypads.model.storage.ArtifactMetaModel'>\", category='Artifact', uid=UUID('ec0cc3c5-29ff-4f90-8ed5-07fbc17ca60c'), description='', additional_data=None, path='Generic CPU Run Setup Logger/Call/d3eaceb0-b490-4590-8e45-6e0df955f2c2.json', file_format=<FileFormats.json: 'json'>, type='Call'), file_size=454), ArtifactInfo(meta=ArtifactMetaModel(experiment_id='18', experiment_name='PyTorch Example', run_id='5cca87cdda4d4193880c75ce3363f279', created_at=1601901424.379503, clazz=\"<class 'pypads.model.storage.ArtifactMetaModel'>\", category='Artifact', uid=UUID('7174ca83-0658-4eca-8e16-168eb52355b7'), description='', additional_data=None, path='Generic CPU Run Setup Logger/Cpu Info/b72d86cd-1f53-4b27-b1ea-cf7b4b7d5e82.json', file_format=<FileFormats.json: 'json'>, type='TrackedObject'), file_size=340), ArtifactInfo(meta=ArtifactMetaModel(experiment_id='18', experiment_name='PyTorch Example', run_id='5cca87cdda4d4193880c75ce3363f279', created_at=1601901424.616879, clazz=\"<class 'pypads.model.storage.ArtifactMetaModel'>\", category='Artifact', uid=UUID('7888d237-c476-49b9-ba7a-484d79636c39'), description='', additional_data=None, path='Generic CPU Run Setup Logger/Output/57c3efc6-08a5-4c52-8175-164881f81295.json', file_format=<FileFormats.json: 'json'>, type='Output'), file_size=460), ArtifactInfo(meta=ArtifactMetaModel(experiment_id='18', experiment_name='PyTorch Example', run_id='5cca87cdda4d4193880c75ce3363f279', created_at=1601901433.3868823, clazz=\"<class 'pypads.model.storage.ArtifactMetaModel'>\", category='Artifact', uid=UUID('8dffd80f-026e-43de-92bd-c60f370643e6'), description='', additional_data=None, path='Generic Git Run Setup Logger/Call/13a3dc06-6c34-4d78-8024-c737cd7d7487.json', file_format=<FileFormats.json: 'json'>, type='Call'), file_size=453), ArtifactInfo(meta=ArtifactMetaModel(experiment_id='18', experiment_name='PyTorch Example', run_id='5cca87cdda4d4193880c75ce3363f279', created_at=1601901433.2042549, clazz=\"<class 'pypads.model.storage.ArtifactMetaModel'>\", category='Artifact', uid=UUID('c30f62d3-de46-4bd8-8462-d8dd1ea94182'), description='', additional_data=None, path='Generic Git Run Setup Logger/Output/301184f3-f2f4-45a6-af98-bd692db52532.json', file_format=<FileFormats.json: 'json'>, type='Output'), file_size=383), ArtifactInfo(meta=ArtifactMetaModel(experiment_id='18', experiment_name='PyTorch Example', run_id='5cca87cdda4d4193880c75ce3363f279', created_at=1601901436.4748783, clazz=\"<class 'pypads.model.storage.ArtifactMetaModel'>\", category='Artifact', uid=UUID('75dcfaa4-de3a-4303-bbbf-a517cf13fd00'), description='', additional_data=None, path='Generic Hyperparameter Logger/Call/0090f740-bc76-4a49-a500-5e576b223338.json', file_format=<FileFormats.json: 'json'>, type='Call'), file_size=1042), ArtifactInfo(meta=ArtifactMetaModel(experiment_id='18', experiment_name='PyTorch Example', run_id='5cca87cdda4d4193880c75ce3363f279', created_at=1601901438.686045, clazz=\"<class 'pypads.model.storage.ArtifactMetaModel'>\", category='Artifact', uid=UUID('d81cf065-2956-43a5-abb7-beb533f75b5c'), description='', additional_data=None, path='Generic Hyperparameter Logger/Call/ec9703de-0062-4b6f-a762-a34eef7cefec.json', file_format=<FileFormats.json: 'json'>, type='Call'), file_size=1042), ArtifactInfo(meta=ArtifactMetaModel(experiment_id='18', experiment_name='PyTorch Example', run_id='5cca87cdda4d4193880c75ce3363f279', created_at=1601901437.2134533, clazz=\"<class 'pypads.model.storage.ArtifactMetaModel'>\", category='Artifact', uid=UUID('ef998a81-82da-4c21-b0db-222d0efab859'), description='', additional_data=None, path='Generic Hyperparameter Logger/Call/f23857e1-98b7-487c-922c-69347e23513e.json', file_format=<FileFormats.json: 'json'>, type='Call'), file_size=1040), ArtifactInfo(meta=ArtifactMetaModel(experiment_id='18', experiment_name='PyTorch Example', run_id='5cca87cdda4d4193880c75ce3363f279', created_at=1601901437.9498744, clazz=\"<class 'pypads.model.storage.ArtifactMetaModel'>\", category='Artifact', uid=UUID('cd0522f7-e3dd-43ce-8110-f89a6046dcfc'), description='', additional_data=None, path='Generic Hyperparameter Logger/Call/f296bd3b-79db-4eeb-9c84-5ef822c43abc.json', file_format=<FileFormats.json: 'json'>, type='Call'), file_size=1040), ArtifactInfo(meta=ArtifactMetaModel(experiment_id='18', experiment_name='PyTorch Example', run_id='5cca87cdda4d4193880c75ce3363f279', created_at=1601901436.7972345, clazz=\"<class 'pypads.model.storage.ArtifactMetaModel'>\", category='Artifact', uid=UUID('462841a2-601a-4d45-ac15-f6bd082ce0bd'), description='', additional_data=None, path='Generic Hyperparameter Logger/GenericTrackedObject/241a4266-4cce-4b50-bd44-3f12107b39af.json', file_format=<FileFormats.json: 'json'>, type='TrackedObject'), file_size=532), ArtifactInfo(meta=ArtifactMetaModel(experiment_id='18', experiment_name='PyTorch Example', run_id='5cca87cdda4d4193880c75ce3363f279', created_at=1601901436.060269, clazz=\"<class 'pypads.model.storage.ArtifactMetaModel'>\", category='Artifact', uid=UUID('874904c3-25fe-464c-b8a4-f13a0976d7b0'), description='', additional_data=None, path='Generic Hyperparameter Logger/GenericTrackedObject/6141d393-baab-4656-b893-f8222e2134cb.json', file_format=<FileFormats.json: 'json'>, type='TrackedObject'), file_size=532), ArtifactInfo(meta=ArtifactMetaModel(experiment_id='18', experiment_name='PyTorch Example', run_id='5cca87cdda4d4193880c75ce3363f279', created_at=1601901438.2607672, clazz=\"<class 'pypads.model.storage.ArtifactMetaModel'>\", category='Artifact', uid=UUID('e1b007ff-9fc0-4130-92bc-34113e307bb8'), description='', additional_data=None, path='Generic Hyperparameter Logger/GenericTrackedObject/9d5c137e-e518-4135-83ef-6dd8b26ff716.json', file_format=<FileFormats.json: 'json'>, type='TrackedObject'), file_size=532), ArtifactInfo(meta=ArtifactMetaModel(experiment_id='18', experiment_name='PyTorch Example', run_id='5cca87cdda4d4193880c75ce3363f279', created_at=1601901437.5313954, clazz=\"<class 'pypads.model.storage.ArtifactMetaModel'>\", category='Artifact', uid=UUID('ccfed46d-da0e-48c8-8a23-c76d34143403'), description='', additional_data=None, path='Generic Hyperparameter Logger/GenericTrackedObject/e39850e8-09b2-42dc-8fce-37bd300e7a76.json', file_format=<FileFormats.json: 'json'>, type='TrackedObject'), file_size=532), ArtifactInfo(meta=ArtifactMetaModel(experiment_id='18', experiment_name='PyTorch Example', run_id='5cca87cdda4d4193880c75ce3363f279', created_at=1601901437.038047, clazz=\"<class 'pypads.model.storage.ArtifactMetaModel'>\", category='Artifact', uid=UUID('545606e8-832a-41b9-860c-2ddfae49c301'), description='', additional_data=None, path='Generic Hyperparameter Logger/Output/3527ff39-170b-4953-8ddb-5f378ce78969.json', file_format=<FileFormats.json: 'json'>, type='Output'), file_size=556), ArtifactInfo(meta=ArtifactMetaModel(experiment_id='18', experiment_name='PyTorch Example', run_id='5cca87cdda4d4193880c75ce3363f279', created_at=1601901438.5097299, clazz=\"<class 'pypads.model.storage.ArtifactMetaModel'>\", category='Artifact', uid=UUID('f2f36517-6f70-486b-acdd-cabccaa82bb0'), description='', additional_data=None, path='Generic Hyperparameter Logger/Output/3df0fe27-cd97-4af6-8b4b-ee722c6f942e.json', file_format=<FileFormats.json: 'json'>, type='Output'), file_size=556), ArtifactInfo(meta=ArtifactMetaModel(experiment_id='18', experiment_name='PyTorch Example', run_id='5cca87cdda4d4193880c75ce3363f279', created_at=1601901437.7740037, clazz=\"<class 'pypads.model.storage.ArtifactMetaModel'>\", category='Artifact', uid=UUID('c30f4f01-f48b-460f-8181-14a009d30e42'), description='', additional_data=None, path='Generic Hyperparameter Logger/Output/65dcf0e7-6efd-4667-913f-80fd2b27b61c.json', file_format=<FileFormats.json: 'json'>, type='Output'), file_size=556), ArtifactInfo(meta=ArtifactMetaModel(experiment_id='18', experiment_name='PyTorch Example', run_id='5cca87cdda4d4193880c75ce3363f279', created_at=1601901436.3047376, clazz=\"<class 'pypads.model.storage.ArtifactMetaModel'>\", category='Artifact', uid=UUID('24e6de08-d673-4fdf-83e6-eaeee1ee0bbc'), description='', additional_data=None, path='Generic Hyperparameter Logger/Output/f8f0f233-3d52-4888-9d6f-33cfd4257661.json', file_format=<FileFormats.json: 'json'>, type='Output'), file_size=556), ArtifactInfo(meta=ArtifactMetaModel(experiment_id='18', experiment_name='PyTorch Example', run_id='5cca87cdda4d4193880c75ce3363f279', created_at=1601901427.032835, clazz=\"<class 'pypads.model.storage.ArtifactMetaModel'>\", category='Artifact', uid=UUID('73efcbcb-45b0-40f1-ba7d-fcac6b1c7a1c'), description='', additional_data=None, path='Generic MacAddress Run Setup Logger/Call/674ce60e-824e-43f6-ad01-80948b3fd2c7.json', file_format=<FileFormats.json: 'json'>, type='Call'), file_size=467), ArtifactInfo(meta=ArtifactMetaModel(experiment_id='18', experiment_name='PyTorch Example', run_id='5cca87cdda4d4193880c75ce3363f279', created_at=1601901426.61624, clazz=\"<class 'pypads.model.storage.ArtifactMetaModel'>\", category='Artifact', uid=UUID('2c016570-c24f-4ca9-8bd2-af96410eff1a'), description='', additional_data=None, path='Generic MacAddress Run Setup Logger/Mac Address/5cb8bb9b-f644-4158-86fa-17bb97bea4e2.json', file_format=<FileFormats.json: 'json'>, type='TrackedObject'), file_size=376), ArtifactInfo(meta=ArtifactMetaModel(experiment_id='18', experiment_name='PyTorch Example', run_id='5cca87cdda4d4193880c75ce3363f279', created_at=1601901426.8603423, clazz=\"<class 'pypads.model.storage.ArtifactMetaModel'>\", category='Artifact', uid=UUID('1dca17b0-3f7e-40c8-8ac1-c037b0a73288'), description='', additional_data=None, path='Generic MacAddress Run Setup Logger/Output/14f6e31d-68f7-41c4-be7d-de0c91ed4a79.json', file_format=<FileFormats.json: 'json'>, type='Output'), file_size=501), ArtifactInfo(meta=ArtifactMetaModel(experiment_id='18', experiment_name='PyTorch Example', run_id='5cca87cdda4d4193880c75ce3363f279', created_at=1601901429.522611, clazz=\"<class 'pypads.model.storage.ArtifactMetaModel'>\", category='Artifact', uid=UUID('bb35c97c-da9f-4b82-9afc-ad018aa7a164'), description='', additional_data=None, path='Generic Ram Run Setup Logger/Call/b44c22b5-d543-48ed-82ef-4348b964ede8.json', file_format=<FileFormats.json: 'json'>, type='Call'), file_size=454), ArtifactInfo(meta=ArtifactMetaModel(experiment_id='18', experiment_name='PyTorch Example', run_id='5cca87cdda4d4193880c75ce3363f279', created_at=1601901429.0992625, clazz=\"<class 'pypads.model.storage.ArtifactMetaModel'>\", category='Artifact', uid=UUID('3b9401e4-a547-4af4-952a-17840df20dc3'), description='', additional_data=None, path='Generic Ram Run Setup Logger/Memory Info/b2197458-1701-44af-beba-1aacba2e0a4b.json', file_format=<FileFormats.json: 'json'>, type='TrackedObject'), file_size=343), ArtifactInfo(meta=ArtifactMetaModel(experiment_id='18', experiment_name='PyTorch Example', run_id='5cca87cdda4d4193880c75ce3363f279', created_at=1601901429.3442092, clazz=\"<class 'pypads.model.storage.ArtifactMetaModel'>\", category='Artifact', uid=UUID('def62845-996a-47c2-8fdb-046b1c8101e4'), description='', additional_data=None, path='Generic Ram Run Setup Logger/Output/bcae4ec8-3535-40ba-9025-eacc9407a52d.json', file_format=<FileFormats.json: 'json'>, type='Output'), file_size=466), ArtifactInfo(meta=ArtifactMetaModel(experiment_id='18', experiment_name='PyTorch Example', run_id='5cca87cdda4d4193880c75ce3363f279', created_at=1601901428.5324209, clazz=\"<class 'pypads.model.storage.ArtifactMetaModel'>\", category='Artifact', uid=UUID('50dbff67-7ecf-430c-bc78-3226b9c01aa7'), description='', additional_data=None, path='Generic System Run Setup Logger/Call/54af2404-9625-47af-aa8b-7be044c1f2f2.json', file_format=<FileFormats.json: 'json'>, type='Call'), file_size=460), ArtifactInfo(meta=ArtifactMetaModel(experiment_id='18', experiment_name='PyTorch Example', run_id='5cca87cdda4d4193880c75ce3363f279', created_at=1601901428.346634, clazz=\"<class 'pypads.model.storage.ArtifactMetaModel'>\", category='Artifact', uid=UUID('ec8621cb-5c26-4726-a813-39b46de5f28e'), description='', additional_data=None, path='Generic System Run Setup Logger/Output/2135940d-547e-4fba-81e3-28e0bb70ee8c.json', file_format=<FileFormats.json: 'json'>, type='Output'), file_size=481), ArtifactInfo(meta=ArtifactMetaModel(experiment_id='18', experiment_name='PyTorch Example', run_id='5cca87cdda4d4193880c75ce3363f279', created_at=1601901428.0955687, clazz=\"<class 'pypads.model.storage.ArtifactMetaModel'>\", category='Artifact', uid=UUID('a09db069-c7a5-499b-a5ac-0260098d2dff'), description='', additional_data=None, path='Generic System Run Setup Logger/System Info/e2fffb07-fc8b-4477-ae1a-36fd515972a9.json', file_format=<FileFormats.json: 'json'>, type='TrackedObject'), file_size=485), ArtifactInfo(meta=ArtifactMetaModel(experiment_id='18', experiment_name='PyTorch Example', run_id='5cca87cdda4d4193880c75ce3363f279', created_at=1601901434.481121, clazz=\"<class 'pypads.model.storage.ArtifactMetaModel'>\", category='Artifact', uid=UUID('abd45d1d-3ee6-4355-9247-f271ce8d856a'), description='', additional_data=None, path='Generic Tracking Function/Call/f95178f6-1838-4b94-aaad-0dae76bf14f1.json', file_format=<FileFormats.json: 'json'>, type='Call'), file_size=365), ArtifactInfo(meta=ArtifactMetaModel(experiment_id='18', experiment_name='PyTorch Example', run_id='5cca87cdda4d4193880c75ce3363f279', created_at=1601901423.4119198, clazz=\"<class 'pypads.model.storage.ArtifactMetaModel'>\", category='Artifact', uid=UUID('0226cc27-e73e-4fe3-b292-6580b57f7529'), description='', additional_data=None, path='Loguru Run Setup Logger/Call/5fca21f0-a4f9-4208-a794-9b7e6db54d58.json', file_format=<FileFormats.json: 'json'>, type='Call'), file_size=445), ArtifactInfo(meta=ArtifactMetaModel(experiment_id='18', experiment_name='PyTorch Example', run_id='5cca87cdda4d4193880c75ce3363f279', created_at=1601901423.0897648, clazz=\"<class 'pypads.model.storage.ArtifactMetaModel'>\", category='Artifact', uid=UUID('e16ba3ab-65a7-49c4-9d6a-59cb4e09e137'), description='', additional_data=None, path='Loguru Run Setup Logger/GenericTrackedObject/b9cb03ec-3482-4db5-8d8c-e28eb4057e7e.json', file_format=<FileFormats.json: 'json'>, type='TrackedObject'), file_size=435), ArtifactInfo(meta=ArtifactMetaModel(experiment_id='18', experiment_name='PyTorch Example', run_id='5cca87cdda4d4193880c75ce3363f279', created_at=1601901423.2784812, clazz=\"<class 'pypads.model.storage.ArtifactMetaModel'>\", category='Artifact', uid=UUID('942ebdf5-2929-4b9f-9f3f-5aa91fa4552a'), description='', additional_data=None, path='Loguru Run Setup Logger/Output/d852a485-5f3e-4f64-8d61-ef8ea47b32d9.json', file_format=<FileFormats.json: 'json'>, type='Output'), file_size=466), ArtifactInfo(meta=ArtifactMetaModel(experiment_id='18', experiment_name='PyTorch Example', run_id='5cca87cdda4d4193880c75ce3363f279', created_at=1601901426.1664004, clazz=\"<class 'pypads.model.storage.ArtifactMetaModel'>\", category='Artifact', uid=UUID('fa722502-c70c-443e-8caf-6bd2bbb5abf3'), description='', additional_data=None, path='Process Run Setup Logger/Call/b79f7a49-7baf-483f-b11a-eafeef713b9e.json', file_format=<FileFormats.json: 'json'>, type='Call'), file_size=445), ArtifactInfo(meta=ArtifactMetaModel(experiment_id='18', experiment_name='PyTorch Example', run_id='5cca87cdda4d4193880c75ce3363f279', created_at=1601901425.9961352, clazz=\"<class 'pypads.model.storage.ArtifactMetaModel'>\", category='Artifact', uid=UUID('3fd257aa-5147-4578-a7cc-55955b42c5c2'), description='', additional_data=None, path='Process Run Setup Logger/Output/ebea0d15-1286-4dd7-a80f-608c7578fceb.json', file_format=<FileFormats.json: 'json'>, type='Output'), file_size=460), ArtifactInfo(meta=ArtifactMetaModel(experiment_id='18', experiment_name='PyTorch Example', run_id='5cca87cdda4d4193880c75ce3363f279', created_at=1601901425.7604299, clazz=\"<class 'pypads.model.storage.ArtifactMetaModel'>\", category='Artifact', uid=UUID('6d3c009c-bfdb-45d7-89cc-641f22fc63d9'), description='', additional_data=None, path='Process Run Setup Logger/Process Info/babd5a55-5e7b-40d1-83c9-b5e21d4e9992.json', file_format=<FileFormats.json: 'json'>, type='TrackedObject'), file_size=468), ArtifactInfo(meta=ArtifactMetaModel(experiment_id='18', experiment_name='PyTorch Example', run_id='5cca87cdda4d4193880c75ce3363f279', created_at=1601901431.412684, clazz=\"<class 'pypads.model.storage.ArtifactMetaModel'>\", category='Artifact', uid=UUID('d489b90b-8798-4eda-adb7-bb032c6d9c17'), description='', additional_data=None, path='Socket Run Setup Logger/Call/50f58698-3023-4c3e-ac73-50cc96ea85ac.json', file_format=<FileFormats.json: 'json'>, type='Call'), file_size=444), ArtifactInfo(meta=ArtifactMetaModel(experiment_id='18', experiment_name='PyTorch Example', run_id='5cca87cdda4d4193880c75ce3363f279', created_at=1601901431.2337167, clazz=\"<class 'pypads.model.storage.ArtifactMetaModel'>\", category='Artifact', uid=UUID('ba606409-7c0c-4eab-ad36-f431263a8eb4'), description='', additional_data=None, path='Socket Run Setup Logger/Output/e30028c9-b8d0-4ac8-877b-0f733396f83e.json', file_format=<FileFormats.json: 'json'>, type='Output'), file_size=477), ArtifactInfo(meta=ArtifactMetaModel(experiment_id='18', experiment_name='PyTorch Example', run_id='5cca87cdda4d4193880c75ce3363f279', created_at=1601901430.9846916, clazz=\"<class 'pypads.model.storage.ArtifactMetaModel'>\", category='Artifact', uid=UUID('a7c0a61c-a2fe-4f17-9508-511fcce0e6a4'), description='', additional_data=None, path='Socket Run Setup Logger/Socket Info/51c00580-3ae4-479e-808f-d63bb5fd9b90.json', file_format=<FileFormats.json: 'json'>, type='TrackedObject'), file_size=390)]\n"
     ]
    }
   ],
   "source": [
    "artifacts = tracker.api.get_artifacts(run_id=tracker.api.active_run().info.run_id, path=\"*\")\n",
    "print(artifacts)"
   ]
  },
  {
   "cell_type": "markdown",
   "metadata": {},
   "source": [
    "### Metrics Information"
   ]
  },
  {
   "cell_type": "code",
   "execution_count": 24,
   "metadata": {},
   "outputs": [
    {
     "name": "stdout",
     "output_type": "stream",
     "text": [
      "[]\n"
     ]
    }
   ],
   "source": [
    "metrics = tracker.api.get_metrics(run_id=tracker.api.active_run().info.run_id, history=True)\n",
    "print(metrics)"
   ]
  },
  {
   "cell_type": "markdown",
   "metadata": {},
   "source": [
    "### Tracked Parameter Information"
   ]
  },
  {
   "cell_type": "code",
   "execution_count": 26,
   "metadata": {},
   "outputs": [
    {
     "name": "stdout",
     "output_type": "stream",
     "text": [
      "[]\n"
     ]
    }
   ],
   "source": [
    "parameters = tracker.api.get_parameters(run_id=tracker.api.active_run().info.run_id)\n",
    "print(parameters)"
   ]
  },
  {
   "cell_type": "markdown",
   "metadata": {},
   "source": [
    "### End tracking of experiment"
   ]
  },
  {
   "cell_type": "code",
   "execution_count": 28,
   "metadata": {},
   "outputs": [],
   "source": [
    "tracker.api.end_run()"
   ]
  }
 ],
 "metadata": {
  "kernelspec": {
   "display_name": "Python 3",
   "language": "python",
   "name": "python3"
  },
  "language_info": {
   "codemirror_mode": {
    "name": "ipython",
    "version": 3
   },
   "file_extension": ".py",
   "mimetype": "text/x-python",
   "name": "python",
   "nbconvert_exporter": "python",
   "pygments_lexer": "ipython3",
   "version": "3.7.9"
  }
 },
 "nbformat": 4,
 "nbformat_minor": 4
}

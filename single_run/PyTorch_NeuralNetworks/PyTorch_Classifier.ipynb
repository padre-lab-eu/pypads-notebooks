{
 "cells": [
  {
   "cell_type": "code",
   "execution_count": 1,
   "metadata": {},
   "outputs": [
    {
     "name": "stdout",
     "output_type": "stream",
     "text": [
      "env: AWS_ACCESS_KEY_ID=XSHDLTACETFLQURZSAUJ\n",
      "env: AWS_SECRET_ACCESS_KEY=ISvyN9Aay40ZIaMuQcngOCJdzkSqR85ON1ng9PNZ\n",
      "env: MLFLOW_S3_ENDPOINT_URL=http://s3.padre-lab.eu\n",
      "env: MLFLOW_TRACKING_URI=http://mlflow.padre-lab.eu\n",
      "env: MONGO_DB=pypads\n",
      "env: MONGO_USER=pypads\n",
      "env: MONGO_URL=mongodb://www.padre-lab.eu:2222\n",
      "env: MONGO_PW=8CN7OqknwhYr3RO\n"
     ]
    }
   ],
   "source": [
    "# Defining the required access keys for uploading the experiment with the server\n",
    "%env AWS_ACCESS_KEY_ID=XSHDLTACETFLQURZSAUJ\n",
    "%env AWS_SECRET_ACCESS_KEY=ISvyN9Aay40ZIaMuQcngOCJdzkSqR85ON1ng9PNZ\n",
    "%env MLFLOW_S3_ENDPOINT_URL=http://s3.padre-lab.eu\n",
    "%env MLFLOW_TRACKING_URI=http://mlflow.padre-lab.eu\n",
    "%env MONGO_DB = pypads\n",
    "%env MONGO_USER=pypads\n",
    "%env MONGO_URL=mongodb://www.padre-lab.eu:2222\n",
    "%env MONGO_PW=8CN7OqknwhYr3RO"
   ]
  },
  {
   "cell_type": "markdown",
   "metadata": {},
   "source": [
    "## Initialize the tracking system of PyPads"
   ]
  },
  {
   "cell_type": "code",
   "execution_count": 2,
   "metadata": {},
   "outputs": [
    {
     "name": "stdout",
     "output_type": "stream",
     "text": [
      "2020-10-13 08:08:02.450 | INFO     | pypads.app.base:activate_tracking:561 - Activating tracking by extending importlib...\n",
      "2020-10-13 08:08:02.753 | INFO     | pypads.injections.setup.misc_setup:_call:74 - Tracking execution to run with id 97893d2dd0374fc98d0a5ea7a2548ae7\n",
      "2020-10-13 08:08:04.557 | WARNING  | pypads.app.misc.managed_git:preserve_changes:84 - There are uncommitted changes in your git!\n",
      "2020-10-13 08:08:04.979 | WARNING  | pypads.app.misc.managed_git:create_tracking_branch:134 - Stashing, branching out, committing, reverting back and unstashing...\n",
      "2020-10-13 08:08:05.307 | INFO     | pypads.app.misc.managed_git:preserve_changes:91 - Created branch PyPads/97893d2dd0374fc98d0a5ea7a2548ae7\n",
      "2020-10-13 08:08:05.604 | WARNING  | pypads.app.misc.managed_git:_handle_error:19 - Couldn't initialized git repository because of exception: Preserving commit failed due to INVALID_PARAMETER_VALUE: Tag value 'diff --git a/.idea/.gitignore b/.idea/.gitignore\n",
      "new file mode 100644\n",
      "index 0000000..73f69e0\n",
      "--- /dev/null\n",
      "+++ b/.idea/.gitignore\n",
      "@@ -0,0 +1,8 @@\n",
      "+# Default ignored files\n",
      "+/shelf/\n",
      "+/workspace.xml\n",
      "+# Datasource local storage ignored files\n",
      "+/dataSource' had length 415051, which exceeded length limit of 5000\n"
     ]
    },
    {
     "data": {
      "text/plain": [
       "<pypads.app.base.PyPads at 0x7f597c8aefd0>"
      ]
     },
     "execution_count": 2,
     "metadata": {},
     "output_type": "execute_result"
    },
    {
     "name": "stdout",
     "output_type": "stream",
     "text": [
      "Initial accuracy is 0.633333 \n",
      "Loss\n",
      "\tloss             \t (min:    0.682, max:    0.682, cur:    0.682)\n",
      "time\n",
      "\ttime             \t (min:    0.008, max:    0.008, cur:    0.008)\n",
      "Loss\n",
      "\tloss             \t (min:    0.676, max:    0.682, cur:    0.676)\n",
      "time\n",
      "\ttime             \t (min:    0.008, max:    0.008, cur:    0.008)\n",
      "Loss\n",
      "\tloss             \t (min:    0.668, max:    0.682, cur:    0.668)\n",
      "time\n",
      "\ttime             \t (min:    0.008, max:    0.011, cur:    0.011)\n",
      "Loss\n",
      "\tloss             \t (min:    0.659, max:    0.682, cur:    0.659)\n",
      "time\n",
      "\ttime             \t (min:    0.007, max:    0.011, cur:    0.007)\n",
      "Loss\n",
      "\tloss             \t (min:    0.648, max:    0.682, cur:    0.648)\n",
      "time\n",
      "\ttime             \t (min:    0.007, max:    0.011, cur:    0.008)\n",
      "Loss\n",
      "\tloss             \t (min:    0.634, max:    0.682, cur:    0.634)\n",
      "time\n",
      "\ttime             \t (min:    0.007, max:    0.011, cur:    0.007)\n",
      "Loss\n",
      "\tloss             \t (min:    0.615, max:    0.682, cur:    0.615)\n",
      "time\n",
      "\ttime             \t (min:    0.007, max:    0.011, cur:    0.007)\n",
      "Loss\n",
      "\tloss             \t (min:    0.593, max:    0.682, cur:    0.593)\n",
      "time\n",
      "\ttime             \t (min:    0.007, max:    0.011, cur:    0.007)\n",
      "Loss\n",
      "\tloss             \t (min:    0.537, max:    0.682, cur:    0.537)\n",
      "time\n",
      "\ttime             \t (min:    0.007, max:    0.011, cur:    0.007)\n",
      "accuracy\n",
      "\taccuracy         \t (min:    0.650, max:    0.650, cur:    0.650)\n",
      "Loss\n",
      "\tloss             \t (min:    0.516, max:    0.682, cur:    0.516)\n",
      "time\n",
      "\ttime             \t (min:    0.007, max:    0.011, cur:    0.007)\n",
      "accuracy\n",
      "\taccuracy         \t (min:    0.650, max:    0.650, cur:    0.650)\n",
      "Loss\n",
      "\tloss             \t (min:    0.506, max:    0.682, cur:    0.506)\n",
      "time\n",
      "\ttime             \t (min:    0.007, max:    0.011, cur:    0.007)\n",
      "accuracy\n",
      "\taccuracy         \t (min:    0.650, max:    0.650, cur:    0.650)\n",
      "Loss\n",
      "\tloss             \t (min:    0.483, max:    0.682, cur:    0.483)\n",
      "time\n",
      "\ttime             \t (min:    0.007, max:    0.011, cur:    0.007)\n",
      "accuracy\n",
      "\taccuracy         \t (min:    0.650, max:    0.650, cur:    0.650)\n",
      "Loss\n",
      "\tloss             \t (min:    0.474, max:    0.682, cur:    0.474)\n",
      "time\n",
      "\ttime             \t (min:    0.007, max:    0.011, cur:    0.007)\n",
      "accuracy\n",
      "\taccuracy         \t (min:    0.650, max:    0.650, cur:    0.650)\n",
      "Loss\n",
      "\tloss             \t (min:    0.463, max:    0.682, cur:    0.463)\n",
      "time\n",
      "\ttime             \t (min:    0.007, max:    0.011, cur:    0.007)\n",
      "accuracy\n",
      "\taccuracy         \t (min:    0.650, max:    0.650, cur:    0.650)\n",
      "Loss\n",
      "\tloss             \t (min:    0.448, max:    0.682, cur:    0.448)\n",
      "time\n",
      "\ttime             \t (min:    0.007, max:    0.011, cur:    0.007)\n",
      "accuracy\n",
      "\taccuracy         \t (min:    0.650, max:    0.650, cur:    0.650)\n",
      "Loss\n",
      "\tloss             \t (min:    0.432, max:    0.682, cur:    0.432)\n",
      "time\n",
      "\ttime             \t (min:    0.007, max:    0.011, cur:    0.008)\n",
      "accuracy\n",
      "\taccuracy         \t (min:    0.650, max:    0.650, cur:    0.650)\n",
      "Loss\n",
      "\tloss             \t (min:    0.417, max:    0.682, cur:    0.417)\n",
      "time\n",
      "\ttime             \t (min:    0.007, max:    0.011, cur:    0.007)\n",
      "accuracy\n",
      "\taccuracy         \t (min:    0.650, max:    0.650, cur:    0.650)\n",
      "Loss\n",
      "\tloss             \t (min:    0.417, max:    0.682, cur:    0.424)\n",
      "time\n",
      "\ttime             \t (min:    0.007, max:    0.011, cur:    0.007)\n",
      "accuracy\n",
      "\taccuracy         \t (min:    0.650, max:    0.650, cur:    0.650)\n",
      "Loss\n",
      "\tloss             \t (min:    0.412, max:    0.682, cur:    0.412)\n",
      "time\n",
      "\ttime             \t (min:    0.007, max:    0.011, cur:    0.007)\n",
      "accuracy\n",
      "\taccuracy         \t (min:    0.650, max:    0.650, cur:    0.650)\n",
      "Loss\n",
      "\tloss             \t (min:    0.385, max:    0.682, cur:    0.385)\n",
      "time\n",
      "\ttime             \t (min:    0.007, max:    0.011, cur:    0.007)\n",
      "accuracy\n",
      "\taccuracy         \t (min:    0.650, max:    0.650, cur:    0.650)\n",
      "Loss\n",
      "\tloss             \t (min:    0.384, max:    0.682, cur:    0.384)\n",
      "time\n",
      "\ttime             \t (min:    0.007, max:    0.011, cur:    0.011)\n",
      "accuracy\n",
      "\taccuracy         \t (min:    0.650, max:    0.650, cur:    0.650)\n",
      "Loss\n",
      "\tloss             \t (min:    0.383, max:    0.682, cur:    0.383)\n",
      "time\n",
      "\ttime             \t (min:    0.007, max:    0.011, cur:    0.008)\n",
      "accuracy\n",
      "\taccuracy         \t (min:    0.650, max:    0.650, cur:    0.650)\n",
      "Loss\n",
      "\tloss             \t (min:    0.368, max:    0.682, cur:    0.368)\n",
      "time\n",
      "\ttime             \t (min:    0.007, max:    0.011, cur:    0.008)\n",
      "accuracy\n",
      "\taccuracy         \t (min:    0.650, max:    0.650, cur:    0.650)\n",
      "Loss\n",
      "\tloss             \t (min:    0.368, max:    0.682, cur:    0.380)\n",
      "time\n",
      "\ttime             \t (min:    0.007, max:    0.011, cur:    0.008)\n",
      "accuracy\n",
      "\taccuracy         \t (min:    0.650, max:    0.650, cur:    0.650)\n",
      "Loss\n",
      "\tloss             \t (min:    0.351, max:    0.682, cur:    0.351)\n",
      "time\n",
      "\ttime             \t (min:    0.007, max:    0.011, cur:    0.008)\n",
      "accuracy\n",
      "\taccuracy         \t (min:    0.650, max:    0.650, cur:    0.650)\n",
      "Loss\n",
      "\tloss             \t (min:    0.350, max:    0.682, cur:    0.350)\n",
      "time\n",
      "\ttime             \t (min:    0.007, max:    0.011, cur:    0.010)\n",
      "accuracy\n",
      "\taccuracy         \t (min:    0.650, max:    0.650, cur:    0.650)\n",
      "Loss\n",
      "\tloss             \t (min:    0.348, max:    0.682, cur:    0.348)\n",
      "time\n",
      "\ttime             \t (min:    0.007, max:    0.011, cur:    0.010)\n",
      "accuracy\n",
      "\taccuracy         \t (min:    0.650, max:    0.650, cur:    0.650)\n",
      "Loss\n",
      "\tloss             \t (min:    0.348, max:    0.682, cur:    0.349)\n",
      "time\n",
      "\ttime             \t (min:    0.007, max:    0.011, cur:    0.007)\n",
      "accuracy\n",
      "\taccuracy         \t (min:    0.650, max:    0.650, cur:    0.650)\n",
      "Loss\n",
      "\tloss             \t (min:    0.333, max:    0.682, cur:    0.333)\n",
      "time\n",
      "\ttime             \t (min:    0.007, max:    0.011, cur:    0.010)\n",
      "accuracy\n",
      "\taccuracy         \t (min:    0.650, max:    0.650, cur:    0.650)\n",
      "Loss\n",
      "\tloss             \t (min:    0.331, max:    0.682, cur:    0.331)\n",
      "time\n",
      "\ttime             \t (min:    0.007, max:    0.011, cur:    0.007)\n",
      "accuracy\n",
      "\taccuracy         \t (min:    0.650, max:    0.650, cur:    0.650)\n",
      "Loss\n",
      "\tloss             \t (min:    0.331, max:    0.682, cur:    0.334)\n",
      "time\n",
      "\ttime             \t (min:    0.007, max:    0.011, cur:    0.010)\n",
      "accuracy\n",
      "\taccuracy         \t (min:    0.650, max:    0.650, cur:    0.650)\n",
      "Loss\n",
      "\tloss             \t (min:    0.322, max:    0.682, cur:    0.322)\n",
      "time\n",
      "\ttime             \t (min:    0.007, max:    0.011, cur:    0.007)\n",
      "accuracy\n",
      "\taccuracy         \t (min:    0.650, max:    0.650, cur:    0.650)\n",
      "Loss\n",
      "\tloss             \t (min:    0.313, max:    0.682, cur:    0.313)\n",
      "time\n",
      "\ttime             \t (min:    0.007, max:    0.011, cur:    0.008)\n",
      "accuracy\n",
      "\taccuracy         \t (min:    0.650, max:    0.650, cur:    0.650)\n",
      "Loss\n",
      "\tloss             \t (min:    0.313, max:    0.682, cur:    0.326)\n",
      "time\n",
      "\ttime             \t (min:    0.007, max:    0.011, cur:    0.010)\n",
      "accuracy\n",
      "\taccuracy         \t (min:    0.650, max:    0.650, cur:    0.650)\n",
      "Loss\n",
      "\tloss             \t (min:    0.313, max:    0.682, cur:    0.329)\n",
      "time\n",
      "\ttime             \t (min:    0.007, max:    0.011, cur:    0.007)\n",
      "accuracy\n",
      "\taccuracy         \t (min:    0.650, max:    0.650, cur:    0.650)\n",
      "Loss\n",
      "\tloss             \t (min:    0.313, max:    0.682, cur:    0.317)\n",
      "time\n",
      "\ttime             \t (min:    0.007, max:    0.011, cur:    0.008)\n",
      "accuracy\n",
      "\taccuracy         \t (min:    0.650, max:    0.650, cur:    0.650)\n",
      "Loss\n",
      "\tloss             \t (min:    0.313, max:    0.682, cur:    0.317)\n",
      "time\n",
      "\ttime             \t (min:    0.007, max:    0.011, cur:    0.008)\n",
      "accuracy\n",
      "\taccuracy         \t (min:    0.650, max:    0.650, cur:    0.650)\n",
      "Loss\n",
      "\tloss             \t (min:    0.311, max:    0.682, cur:    0.311)\n",
      "time\n",
      "\ttime             \t (min:    0.007, max:    0.011, cur:    0.011)\n",
      "accuracy\n",
      "\taccuracy         \t (min:    0.650, max:    0.650, cur:    0.650)\n",
      "Loss\n",
      "\tloss             \t (min:    0.296, max:    0.682, cur:    0.296)\n",
      "time\n",
      "\ttime             \t (min:    0.007, max:    0.011, cur:    0.007)\n",
      "accuracy\n",
      "\taccuracy         \t (min:    0.650, max:    0.667, cur:    0.667)\n",
      "Loss\n",
      "\tloss             \t (min:    0.296, max:    0.682, cur:    0.299)\n",
      "time\n",
      "\ttime             \t (min:    0.007, max:    0.011, cur:    0.007)\n",
      "accuracy\n",
      "\taccuracy         \t (min:    0.650, max:    0.667, cur:    0.667)\n",
      "Loss\n",
      "\tloss             \t (min:    0.296, max:    0.682, cur:    0.300)\n",
      "time\n",
      "\ttime             \t (min:    0.007, max:    0.011, cur:    0.007)\n"
     ]
    },
    {
     "name": "stdout",
     "output_type": "stream",
     "text": [
      "accuracy\n",
      "\taccuracy         \t (min:    0.650, max:    0.667, cur:    0.667)\n",
      "Loss\n",
      "\tloss             \t (min:    0.296, max:    0.682, cur:    0.302)\n",
      "time\n",
      "\ttime             \t (min:    0.007, max:    0.011, cur:    0.007)\n",
      "accuracy\n",
      "\taccuracy         \t (min:    0.650, max:    0.667, cur:    0.667)\n",
      "Loss\n",
      "\tloss             \t (min:    0.288, max:    0.682, cur:    0.288)\n",
      "time\n",
      "\ttime             \t (min:    0.007, max:    0.011, cur:    0.010)\n",
      "accuracy\n",
      "\taccuracy         \t (min:    0.650, max:    0.667, cur:    0.667)\n",
      "Loss\n",
      "\tloss             \t (min:    0.288, max:    0.682, cur:    0.302)\n",
      "time\n",
      "\ttime             \t (min:    0.007, max:    0.011, cur:    0.008)\n",
      "accuracy\n",
      "\taccuracy         \t (min:    0.650, max:    0.667, cur:    0.667)\n",
      "Loss\n",
      "\tloss             \t (min:    0.288, max:    0.682, cur:    0.304)\n",
      "time\n",
      "\ttime             \t (min:    0.007, max:    0.011, cur:    0.011)\n",
      "accuracy\n",
      "\taccuracy         \t (min:    0.650, max:    0.667, cur:    0.667)\n",
      "Loss\n",
      "\tloss             \t (min:    0.282, max:    0.682, cur:    0.282)\n",
      "time\n",
      "\ttime             \t (min:    0.007, max:    0.011, cur:    0.007)\n",
      "accuracy\n",
      "\taccuracy         \t (min:    0.650, max:    0.667, cur:    0.667)\n",
      "Loss\n",
      "\tloss             \t (min:    0.282, max:    0.682, cur:    0.293)\n",
      "time\n",
      "\ttime             \t (min:    0.007, max:    0.011, cur:    0.007)\n",
      "accuracy\n",
      "\taccuracy         \t (min:    0.650, max:    0.667, cur:    0.667)\n",
      "Loss\n",
      "\tloss             \t (min:    0.279, max:    0.682, cur:    0.279)\n",
      "time\n",
      "\ttime             \t (min:    0.007, max:    0.011, cur:    0.010)\n",
      "accuracy\n",
      "\taccuracy         \t (min:    0.650, max:    0.667, cur:    0.667)\n",
      "Loss\n",
      "\tloss             \t (min:    0.279, max:    0.682, cur:    0.294)\n",
      "time\n",
      "\ttime             \t (min:    0.007, max:    0.011, cur:    0.007)\n",
      "accuracy\n",
      "\taccuracy         \t (min:    0.650, max:    0.750, cur:    0.750)\n",
      "Loss\n",
      "\tloss             \t (min:    0.279, max:    0.682, cur:    0.295)\n",
      "time\n",
      "\ttime             \t (min:    0.007, max:    0.011, cur:    0.008)\n",
      "accuracy\n",
      "\taccuracy         \t (min:    0.650, max:    0.750, cur:    0.750)\n",
      "Loss\n",
      "\tloss             \t (min:    0.279, max:    0.682, cur:    0.288)\n",
      "time\n",
      "\ttime             \t (min:    0.007, max:    0.011, cur:    0.007)\n",
      "accuracy\n",
      "\taccuracy         \t (min:    0.650, max:    0.750, cur:    0.750)\n",
      "Loss\n",
      "\tloss             \t (min:    0.279, max:    0.682, cur:    0.281)\n",
      "time\n",
      "\ttime             \t (min:    0.007, max:    0.011, cur:    0.007)\n",
      "accuracy\n",
      "\taccuracy         \t (min:    0.650, max:    0.750, cur:    0.750)\n",
      "Loss\n",
      "\tloss             \t (min:    0.279, max:    0.682, cur:    0.285)\n",
      "time\n",
      "\ttime             \t (min:    0.007, max:    0.011, cur:    0.011)\n",
      "accuracy\n",
      "\taccuracy         \t (min:    0.650, max:    0.750, cur:    0.750)\n",
      "Loss\n",
      "\tloss             \t (min:    0.279, max:    0.682, cur:    0.282)\n",
      "time\n",
      "\ttime             \t (min:    0.007, max:    0.011, cur:    0.007)\n",
      "accuracy\n",
      "\taccuracy         \t (min:    0.650, max:    0.750, cur:    0.750)\n",
      "Loss\n",
      "\tloss             \t (min:    0.279, max:    0.682, cur:    0.281)\n",
      "time\n",
      "\ttime             \t (min:    0.007, max:    0.011, cur:    0.007)\n",
      "accuracy\n",
      "\taccuracy         \t (min:    0.650, max:    0.750, cur:    0.750)\n",
      "Loss\n",
      "\tloss             \t (min:    0.279, max:    0.682, cur:    0.282)\n",
      "time\n",
      "\ttime             \t (min:    0.007, max:    0.011, cur:    0.008)\n",
      "accuracy\n",
      "\taccuracy         \t (min:    0.650, max:    0.750, cur:    0.750)\n",
      "Loss\n",
      "\tloss             \t (min:    0.279, max:    0.682, cur:    0.280)\n",
      "time\n",
      "\ttime             \t (min:    0.007, max:    0.011, cur:    0.008)\n",
      "accuracy\n",
      "\taccuracy         \t (min:    0.650, max:    0.750, cur:    0.750)\n",
      "Loss\n",
      "\tloss             \t (min:    0.276, max:    0.682, cur:    0.276)\n",
      "time\n",
      "\ttime             \t (min:    0.007, max:    0.011, cur:    0.007)\n",
      "accuracy\n",
      "\taccuracy         \t (min:    0.650, max:    0.750, cur:    0.750)\n",
      "Loss\n",
      "\tloss             \t (min:    0.271, max:    0.682, cur:    0.271)\n",
      "time\n",
      "\ttime             \t (min:    0.007, max:    0.011, cur:    0.007)\n",
      "accuracy\n",
      "\taccuracy         \t (min:    0.650, max:    0.933, cur:    0.933)\n",
      "Loss\n",
      "\tloss             \t (min:    0.271, max:    0.682, cur:    0.290)\n",
      "time\n",
      "\ttime             \t (min:    0.007, max:    0.011, cur:    0.010)\n",
      "accuracy\n",
      "\taccuracy         \t (min:    0.650, max:    0.933, cur:    0.933)\n",
      "Loss\n",
      "\tloss             \t (min:    0.271, max:    0.682, cur:    0.288)\n",
      "time\n",
      "\ttime             \t (min:    0.007, max:    0.011, cur:    0.007)\n",
      "accuracy\n",
      "\taccuracy         \t (min:    0.650, max:    0.933, cur:    0.933)\n",
      "Loss\n",
      "\tloss             \t (min:    0.268, max:    0.682, cur:    0.268)\n",
      "time\n",
      "\ttime             \t (min:    0.007, max:    0.011, cur:    0.007)\n",
      "accuracy\n",
      "\taccuracy         \t (min:    0.650, max:    0.933, cur:    0.933)\n",
      "Loss\n",
      "\tloss             \t (min:    0.265, max:    0.682, cur:    0.265)\n",
      "time\n",
      "\ttime             \t (min:    0.007, max:    0.011, cur:    0.010)\n",
      "accuracy\n",
      "\taccuracy         \t (min:    0.650, max:    0.933, cur:    0.933)\n",
      "Loss\n",
      "\tloss             \t (min:    0.265, max:    0.682, cur:    0.286)\n",
      "time\n",
      "\ttime             \t (min:    0.007, max:    0.011, cur:    0.010)\n",
      "accuracy\n",
      "\taccuracy         \t (min:    0.650, max:    0.933, cur:    0.933)\n",
      "Loss\n",
      "\tloss             \t (min:    0.265, max:    0.682, cur:    0.267)\n",
      "time\n",
      "\ttime             \t (min:    0.007, max:    0.011, cur:    0.008)\n",
      "accuracy\n",
      "\taccuracy         \t (min:    0.650, max:    0.933, cur:    0.933)\n",
      "Loss\n",
      "\tloss             \t (min:    0.265, max:    0.682, cur:    0.282)\n",
      "time\n",
      "\ttime             \t (min:    0.007, max:    0.011, cur:    0.008)\n",
      "accuracy\n",
      "\taccuracy         \t (min:    0.650, max:    0.933, cur:    0.933)\n",
      "Loss\n",
      "\tloss             \t (min:    0.265, max:    0.682, cur:    0.265)\n",
      "time\n",
      "\ttime             \t (min:    0.007, max:    0.011, cur:    0.009)\n",
      "accuracy\n",
      "\taccuracy         \t (min:    0.650, max:    0.933, cur:    0.933)\n",
      "Loss\n",
      "\tloss             \t (min:    0.265, max:    0.682, cur:    0.275)\n",
      "time\n",
      "\ttime             \t (min:    0.007, max:    0.011, cur:    0.007)\n",
      "accuracy\n",
      "\taccuracy         \t (min:    0.650, max:    0.933, cur:    0.933)\n",
      "Loss\n",
      "\tloss             \t (min:    0.255, max:    0.682, cur:    0.255)\n",
      "time\n",
      "\ttime             \t (min:    0.007, max:    0.011, cur:    0.007)\n",
      "accuracy\n",
      "\taccuracy         \t (min:    0.650, max:    0.967, cur:    0.967)\n",
      "Loss\n",
      "\tloss             \t (min:    0.255, max:    0.682, cur:    0.258)\n",
      "time\n",
      "\ttime             \t (min:    0.007, max:    0.011, cur:    0.010)\n",
      "accuracy\n",
      "\taccuracy         \t (min:    0.650, max:    0.967, cur:    0.967)\n",
      "Loss\n",
      "\tloss             \t (min:    0.255, max:    0.682, cur:    0.260)\n",
      "time\n",
      "\ttime             \t (min:    0.007, max:    0.011, cur:    0.008)\n",
      "accuracy\n",
      "\taccuracy         \t (min:    0.650, max:    0.967, cur:    0.967)\n",
      "Loss\n",
      "\tloss             \t (min:    0.255, max:    0.682, cur:    0.266)\n",
      "time\n",
      "\ttime             \t (min:    0.007, max:    0.011, cur:    0.008)\n",
      "accuracy\n",
      "\taccuracy         \t (min:    0.650, max:    0.967, cur:    0.967)\n",
      "Loss\n",
      "\tloss             \t (min:    0.253, max:    0.682, cur:    0.253)\n",
      "time\n",
      "\ttime             \t (min:    0.007, max:    0.011, cur:    0.007)\n",
      "accuracy\n",
      "\taccuracy         \t (min:    0.650, max:    0.967, cur:    0.967)\n",
      "Loss\n",
      "\tloss             \t (min:    0.253, max:    0.682, cur:    0.283)\n",
      "time\n",
      "\ttime             \t (min:    0.007, max:    0.011, cur:    0.008)\n",
      "accuracy\n",
      "\taccuracy         \t (min:    0.650, max:    0.967, cur:    0.967)\n",
      "Loss\n",
      "\tloss             \t (min:    0.253, max:    0.682, cur:    0.259)\n",
      "time\n",
      "\ttime             \t (min:    0.007, max:    0.011, cur:    0.007)\n",
      "2020-10-13 08:08:33.852 | WARNING  | pypads.injections.analysis.parameters:__post__:112 - No parameters are defined on the mapping file for <class 'sklearn.preprocessing._label.LabelEncoder'>. Trying to log parameters without schema definition programmatically.\n",
      "2020-10-13 08:08:33.945 | WARNING  | pypads.injections.analysis.parameters:__post__:112 - No parameters are defined on the mapping file for <class 'sklearn.preprocessing._label.LabelEncoder'>. Trying to log parameters without schema definition programmatically.\n",
      "2020-10-13 08:08:34.038 | WARNING  | pypads.injections.analysis.parameters:__post__:112 - No parameters are defined on the mapping file for <class 'sklearn.preprocessing._label.LabelEncoder'>. Trying to log parameters without schema definition programmatically.\n",
      "2020-10-13 08:08:34.130 | WARNING  | pypads.injections.analysis.parameters:__post__:112 - No parameters are defined on the mapping file for <class 'sklearn.preprocessing._label.LabelEncoder'>. Trying to log parameters without schema definition programmatically.\n"
     ]
    },
    {
     "name": "stdout",
     "output_type": "stream",
     "text": [
      "              precision    recall  f1-score   support\n",
      "\n",
      "           0       1.00      1.00      1.00        19\n",
      "           1       1.00      0.86      0.92        21\n",
      "           2       0.87      1.00      0.93        20\n",
      "\n",
      "    accuracy                           0.95        60\n",
      "   macro avg       0.96      0.95      0.95        60\n",
      "weighted avg       0.96      0.95      0.95        60\n",
      "\n",
      "experiment_id='4' experiment_name='PyTorch Example' run_id='97893d2dd0374fc98d0a5ea7a2548ae7' created_at=1602569289.865976 clazz=\"<class 'pypads.model.logger_output.MetricMetaModel'>\" category='MLMetric' storage_type=<ResultType.metric: 'metric'> uid='cc40ff8a-241a-4791-8268-6ec298cc3c9e' id='cc40ff8a-241a-4791-8268-6ec298cc3c9e.metric' produced_by='00000000-0000-0000-0000-000000000000.logger' producer_type=<ResultType.logger: 'logger'> part_of='c85864d2-63f6-4ca2-94cf-86302f7acf9a.output' parent_type=<ResultType.output: 'output'> description='Accuracy of the model' additional_data=None name='accuracy' step=10 data=0.65\n",
      "experiment_id='4' experiment_name='PyTorch Example' run_id='97893d2dd0374fc98d0a5ea7a2548ae7' created_at=1602569293.303921 clazz=\"<class 'pypads.model.logger_output.MetricMetaModel'>\" category='MLMetric' storage_type=<ResultType.metric: 'metric'> uid='445f3a5d-1aca-45f3-a678-99afa6d19f66' id='445f3a5d-1aca-45f3-a678-99afa6d19f66.metric' produced_by='00000000-0000-0000-0000-000000000000.logger' producer_type=<ResultType.logger: 'logger'> part_of='c85864d2-63f6-4ca2-94cf-86302f7acf9a.output' parent_type=<ResultType.output: 'output'> description='Accuracy of the model' additional_data=None name='accuracy' step=20 data=0.65\n",
      "experiment_id='4' experiment_name='PyTorch Example' run_id='97893d2dd0374fc98d0a5ea7a2548ae7' created_at=1602569296.883705 clazz=\"<class 'pypads.model.logger_output.MetricMetaModel'>\" category='MLMetric' storage_type=<ResultType.metric: 'metric'> uid='9296d915-3140-4c0d-9c3d-689e39731a89' id='9296d915-3140-4c0d-9c3d-689e39731a89.metric' produced_by='00000000-0000-0000-0000-000000000000.logger' producer_type=<ResultType.logger: 'logger'> part_of='c85864d2-63f6-4ca2-94cf-86302f7acf9a.output' parent_type=<ResultType.output: 'output'> description='Accuracy of the model' additional_data=None name='accuracy' step=30 data=0.65\n",
      "experiment_id='4' experiment_name='PyTorch Example' run_id='97893d2dd0374fc98d0a5ea7a2548ae7' created_at=1602569300.6514375 clazz=\"<class 'pypads.model.logger_output.MetricMetaModel'>\" category='MLMetric' storage_type=<ResultType.metric: 'metric'> uid='e1034df4-d479-4203-a2fa-b193c3237195' id='e1034df4-d479-4203-a2fa-b193c3237195.metric' produced_by='00000000-0000-0000-0000-000000000000.logger' producer_type=<ResultType.logger: 'logger'> part_of='c85864d2-63f6-4ca2-94cf-86302f7acf9a.output' parent_type=<ResultType.output: 'output'> description='Accuracy of the model' additional_data=None name='accuracy' step=40 data=0.6666666666666666\n",
      "experiment_id='4' experiment_name='PyTorch Example' run_id='97893d2dd0374fc98d0a5ea7a2548ae7' created_at=1602569304.2875006 clazz=\"<class 'pypads.model.logger_output.MetricMetaModel'>\" category='MLMetric' storage_type=<ResultType.metric: 'metric'> uid='994f24e3-0b63-4cb6-a945-e17374bd70eb' id='994f24e3-0b63-4cb6-a945-e17374bd70eb.metric' produced_by='00000000-0000-0000-0000-000000000000.logger' producer_type=<ResultType.logger: 'logger'> part_of='c85864d2-63f6-4ca2-94cf-86302f7acf9a.output' parent_type=<ResultType.output: 'output'> description='Accuracy of the model' additional_data=None name='accuracy' step=50 data=0.75\n",
      "experiment_id='4' experiment_name='PyTorch Example' run_id='97893d2dd0374fc98d0a5ea7a2548ae7' created_at=1602569308.0447857 clazz=\"<class 'pypads.model.logger_output.MetricMetaModel'>\" category='MLMetric' storage_type=<ResultType.metric: 'metric'> uid='dceddd53-861b-4450-977b-0938ae2d47f7' id='dceddd53-861b-4450-977b-0938ae2d47f7.metric' produced_by='00000000-0000-0000-0000-000000000000.logger' producer_type=<ResultType.logger: 'logger'> part_of='c85864d2-63f6-4ca2-94cf-86302f7acf9a.output' parent_type=<ResultType.output: 'output'> description='Accuracy of the model' additional_data=None name='accuracy' step=60 data=0.9333333333333333\n",
      "experiment_id='4' experiment_name='PyTorch Example' run_id='97893d2dd0374fc98d0a5ea7a2548ae7' created_at=1602569311.5691564 clazz=\"<class 'pypads.model.logger_output.MetricMetaModel'>\" category='MLMetric' storage_type=<ResultType.metric: 'metric'> uid='ef09cc89-78ac-420e-9458-42009bccaa7a' id='ef09cc89-78ac-420e-9458-42009bccaa7a.metric' produced_by='00000000-0000-0000-0000-000000000000.logger' producer_type=<ResultType.logger: 'logger'> part_of='c85864d2-63f6-4ca2-94cf-86302f7acf9a.output' parent_type=<ResultType.output: 'output'> description='Accuracy of the model' additional_data=None name='accuracy' step=70 data=0.9666666666666667\n",
      "experiment_id='4' experiment_name='PyTorch Example' run_id='97893d2dd0374fc98d0a5ea7a2548ae7' created_at=1602569314.177719 clazz=\"<class 'pypads.model.logger_output.MetricMetaModel'>\" category='MLMetric' storage_type=<ResultType.metric: 'metric'> uid='69df82eb-520c-47ec-8285-79cb5f8d5724' id='69df82eb-520c-47ec-8285-79cb5f8d5724.metric' produced_by='00000000-0000-0000-0000-000000000000.logger' producer_type=<ResultType.logger: 'logger'> part_of='c85864d2-63f6-4ca2-94cf-86302f7acf9a.output' parent_type=<ResultType.output: 'output'> description='Accuracy of the model' additional_data=None name='accuracy' step=0 data=0.95\n",
      "experiment_id='4' experiment_name='PyTorch Example' run_id='97893d2dd0374fc98d0a5ea7a2548ae7' created_at=1602569296.883705 clazz=\"<class 'pypads.model.logger_output.MetricMetaModel'>\" category='MLMetric' storage_type=<ResultType.metric: 'metric'> uid='9296d915-3140-4c0d-9c3d-689e39731a89' id='9296d915-3140-4c0d-9c3d-689e39731a89.metric' produced_by='00000000-0000-0000-0000-000000000000.logger' producer_type=<ResultType.logger: 'logger'> part_of='c85864d2-63f6-4ca2-94cf-86302f7acf9a.output' parent_type=<ResultType.output: 'output'> description='Accuracy of the model' additional_data=None name='accuracy' step=30 data=0.65\n",
      "experiment_id='4' experiment_name='PyTorch Example' run_id='97893d2dd0374fc98d0a5ea7a2548ae7' created_at=1602569287.4509792 clazz=\"<class 'pypads.model.logger_output.ParameterMetaModel'>\" category='HyperParameter' storage_type=<ResultType.parameter: 'parameter'> uid='63f3e586-5249-4d5a-ad78-ca061ff9aecf' id='63f3e586-5249-4d5a-ad78-ca061ff9aecf.parameter' produced_by='00000000-0000-0000-0000-000000000000.logger' producer_type=<ResultType.logger: 'logger'> part_of='c85864d2-63f6-4ca2-94cf-86302f7acf9a.output' parent_type=<ResultType.output: 'output'> description='Learning rate' additional_data=None name='lr' value_format=\"<class 'float'>\" data='0.005'\n",
      "experiment_id='4' experiment_name='PyTorch Example' run_id='97893d2dd0374fc98d0a5ea7a2548ae7' created_at=1602569287.5083797 clazz=\"<class 'pypads.model.logger_output.ParameterMetaModel'>\" category='HyperParameter' storage_type=<ResultType.parameter: 'parameter'> uid='e43ec9a6-bc7f-46ab-b7b6-26902cd7e74a' id='e43ec9a6-bc7f-46ab-b7b6-26902cd7e74a.parameter' produced_by='00000000-0000-0000-0000-000000000000.logger' producer_type=<ResultType.logger: 'logger'> part_of='c85864d2-63f6-4ca2-94cf-86302f7acf9a.output' parent_type=<ResultType.output: 'output'> description='Shape of the fully connected network' additional_data=None name='networks_shape' value_format=\"<class 'str'>\" data='[10, 10, 3]'\n",
      "[10, 10, 3]\n"
     ]
    }
   ],
   "source": [
    "from pypads.app.base import PyPads\n",
    "\n",
    "tracker = PyPads(uri=\"http://mlflow.padre-lab.eu\")\n",
    "tracker.activate_tracking()\n",
    "tracker.start_track(experiment_name=\"PyTorch Example\")"
   ]
  },
  {
   "cell_type": "code",
   "execution_count": 3,
   "metadata": {},
   "outputs": [
    {
     "name": "stderr",
     "output_type": "stream",
     "text": [
      "/home/christofer/PycharmProjects/pypads-notebooks/venv/lib/python3.7/site-packages/ipykernel/ipkernel.py:287: DeprecationWarning: `should_run_async` will not call `transform_cell` automatically in the future. Please pass the result to `transformed_cell` argument and any exception that happen during thetransform in `preprocessing_exc_tuple` in IPython 7.17 and above.\n",
      "  and should_run_async(code)\n",
      "/home/christofer/PycharmProjects/pypads-notebooks/venv/lib/python3.7/site-packages/torch/distributed/distributed_c10d.py:125: UserWarning: torch.distributed.reduce_op is deprecated, please use torch.distributed.ReduceOp instead\n",
      "  warnings.warn(\"torch.distributed.reduce_op is deprecated, please use \"\n"
     ]
    }
   ],
   "source": [
    "# Set the random seed to 1\n",
    "tracker.actuators.set_random_seed(seed=1)"
   ]
  },
  {
   "cell_type": "markdown",
   "metadata": {},
   "source": [
    "## Import the dataset from Scikit-learn"
   ]
  },
  {
   "cell_type": "code",
   "execution_count": 4,
   "metadata": {},
   "outputs": [
    {
     "name": "stderr",
     "output_type": "stream",
     "text": [
      "/home/christofer/PycharmProjects/pypads-notebooks/venv/lib/python3.7/site-packages/ipykernel/ipkernel.py:287: DeprecationWarning: `should_run_async` will not call `transform_cell` automatically in the future. Please pass the result to `transformed_cell` argument and any exception that happen during thetransform in `preprocessing_exc_tuple` in IPython 7.17 and above.\n",
      "  and should_run_async(code)\n"
     ]
    }
   ],
   "source": [
    "from sklearn import datasets\n",
    "\n",
    "# load the iris datasets\n",
    "dataset = datasets.load_iris()\n",
    "X = dataset.data\n",
    "y = dataset.target\n"
   ]
  },
  {
   "cell_type": "markdown",
   "metadata": {},
   "source": [
    "### Do the test train split"
   ]
  },
  {
   "cell_type": "code",
   "execution_count": 5,
   "metadata": {},
   "outputs": [
    {
     "name": "stderr",
     "output_type": "stream",
     "text": [
      "/home/christofer/PycharmProjects/pypads-notebooks/venv/lib/python3.7/site-packages/ipykernel/ipkernel.py:287: DeprecationWarning: `should_run_async` will not call `transform_cell` automatically in the future. Please pass the result to `transformed_cell` argument and any exception that happen during thetransform in `preprocessing_exc_tuple` in IPython 7.17 and above.\n",
      "  and should_run_async(code)\n"
     ]
    },
    {
     "data": {
      "text/plain": [
       "(90, 5)"
      ]
     },
     "execution_count": 5,
     "metadata": {},
     "output_type": "execute_result"
    }
   ],
   "source": [
    "from sklearn.model_selection import train_test_split\n",
    "from sklearn.metrics import classification_report, accuracy_score\n",
    "import numpy as np\n",
    "\n",
    "X_train, X_test, y_train, y_test = train_test_split(X, y, test_size=.4)\n",
    "\n",
    "# PyTorch Dataloader takes the data as one block which includes the features and labels\n",
    "# Append labels to the features\n",
    "train = np.append(X_train, y_train.reshape((y_train.shape[0],1)), axis=1)\n",
    "train.shape"
   ]
  },
  {
   "cell_type": "markdown",
   "metadata": {},
   "source": [
    "## Create Torch class for accepting neural network shapes"
   ]
  },
  {
   "cell_type": "code",
   "execution_count": 6,
   "metadata": {},
   "outputs": [],
   "source": [
    "import torch\n",
    "from torch import nn\n",
    "from typing import Any\n",
    "from collections import OrderedDict\n",
    "\n",
    "class Model(nn.Module):\n",
    "    def _forward_unimplemented(self, *input: Any) -> None:\n",
    "        pass\n",
    "    \n",
    "    def __init__(self, feature_shape, leaky_value=0.05, shape=[30, 50, 1]):\n",
    "        \n",
    "        # Model can have as many layers as the user wishes\n",
    "        super(Model, self).__init__()\n",
    "        layers = [feature_shape] + shape\n",
    "        layer_list = OrderedDict()\n",
    "        for idx in range(1, len(layers)):\n",
    "            layer_list[str(idx)] = nn.Linear(layers[idx-1], layers[idx])\n",
    "            layer_list['Relu' + str(idx)] = nn.LeakyReLU(leaky_value, inplace=True)\n",
    "\n",
    "        layer_list['Sigmoid'] = nn.Sigmoid()\n",
    "        self.model = nn.Sequential(layer_list)\n",
    "\n",
    "    def forward(self, img):\n",
    "        img_flat = img.view(img.size(0), -1)\n",
    "        validity = self.model(img_flat)\n",
    "        return validity\n",
    "    "
   ]
  },
  {
   "cell_type": "code",
   "execution_count": 7,
   "metadata": {},
   "outputs": [],
   "source": [
    "# Define the various training parameters\n",
    "num_features = X.shape[1]\n",
    "num_labels = 3\n",
    "num_epochs = 75\n",
    "test_every = 10\n",
    "h_lr = 0.005\n",
    "h_b1 = 0.5\n",
    "h_b2 = 0.999\n",
    "batch_size = 10\n",
    "neural_network_shape = [10, 10, 3]"
   ]
  },
  {
   "cell_type": "markdown",
   "metadata": {},
   "source": [
    "## Track the parameters using PyPads"
   ]
  },
  {
   "cell_type": "code",
   "execution_count": 8,
   "metadata": {},
   "outputs": [
    {
     "data": {
      "text/plain": [
       "'63f3e586-5249-4d5a-ad78-ca061ff9aecf.parameter'"
      ]
     },
     "execution_count": 8,
     "metadata": {},
     "output_type": "execute_result"
    }
   ],
   "source": [
    "# Normal parameters can be stored as is in MLFlow\n",
    "tracker.api.log_param(key='lr', value=h_lr, description='Learning rate')"
   ]
  },
  {
   "cell_type": "code",
   "execution_count": 9,
   "metadata": {},
   "outputs": [
    {
     "data": {
      "text/plain": [
       "'e43ec9a6-bc7f-46ab-b7b6-26902cd7e74a.parameter'"
      ]
     },
     "execution_count": 9,
     "metadata": {},
     "output_type": "execute_result"
    }
   ],
   "source": [
    "# MLFlow takes in strings as parameters. So convert the value to string\n",
    "tracker.api.log_param(key='networks_shape', value=str(neural_network_shape), description='Shape of the fully connected network')"
   ]
  },
  {
   "cell_type": "code",
   "execution_count": 10,
   "metadata": {},
   "outputs": [],
   "source": [
    "# Create the model\n",
    "model = Model(feature_shape=num_features, shape=neural_network_shape)"
   ]
  },
  {
   "cell_type": "code",
   "execution_count": 11,
   "metadata": {},
   "outputs": [],
   "source": [
    "# Create the optimizer\n",
    "optimizer = torch.optim.Adam(model.parameters(), lr=h_lr, betas=(h_b1, h_b2))"
   ]
  },
  {
   "cell_type": "code",
   "execution_count": 12,
   "metadata": {},
   "outputs": [],
   "source": [
    "# Create the loss function\n",
    "loss_ = torch.nn.BCELoss()"
   ]
  },
  {
   "cell_type": "code",
   "execution_count": 13,
   "metadata": {},
   "outputs": [],
   "source": [
    "# Function to train for one epoch\n",
    "from torch.utils.data import DataLoader\n",
    "\n",
    "def train_one_epoch(model, loader: DataLoader, tensor, optimizer, loss_, scheduler=None):\n",
    "    total_loss = 0\n",
    "    n_iter = 0\n",
    "    for batch_idx, (batch_train_features, batch_train_labels) in enumerate(loader):\n",
    "\n",
    "        features_batch = tensor(batch_train_features.type(torch.FloatTensor))\n",
    "        labels_batch = tensor(batch_train_labels)\n",
    "        \n",
    "        optimizer.zero_grad()\n",
    "\n",
    "        # Compute loss\n",
    "        forward = model.forward(features_batch)\n",
    "        _loss = loss_(forward, labels_batch)\n",
    "        \n",
    "        # Do backpropagation and update weights\n",
    "        _loss.backward()\n",
    "        optimizer.step()\n",
    "        \n",
    "        # If there is a learning rate scheduler do the step.\n",
    "        if scheduler is not None:\n",
    "            scheduler.step()\n",
    "        \n",
    "        # Compute the total loss\n",
    "        total_loss += _loss\n",
    "        n_iter += 1\n",
    "    \n",
    "    # Return average loss\n",
    "    return total_loss / n_iter"
   ]
  },
  {
   "cell_type": "code",
   "execution_count": 14,
   "metadata": {},
   "outputs": [],
   "source": [
    "# Function to split the batch into features and labels\n",
    "def sample_collate(batch):\n",
    "    # Hard coded values for classification and iris dataset\n",
    "    one_hot = True\n",
    "    num_labels = 3\n",
    "    \n",
    "    # Stack each tensor variable\n",
    "    X = torch.stack([torch.tensor(x[:-1]) for x in batch])\n",
    "    \n",
    "    # Convert to one hot encoding, if needed\n",
    "    if one_hot is False:\n",
    "        Y = [y[-1] for y in batch]\n",
    "    else:\n",
    "        Y = torch.zeros(len(batch), num_labels)\n",
    "        for idx in range(len(batch)):\n",
    "            Y[idx][int(batch[idx][-1])] = 1\n",
    "    \n",
    "    # Return features and labels\n",
    "    return X, Y"
   ]
  },
  {
   "cell_type": "code",
   "execution_count": 15,
   "metadata": {},
   "outputs": [],
   "source": [
    "# Create the data loader for training. Sample collate function is defined in the previous cell\n",
    "loader = DataLoader(train, batch_size=10, shuffle=True, collate_fn=sample_collate)"
   ]
  },
  {
   "cell_type": "code",
   "execution_count": 16,
   "metadata": {},
   "outputs": [
    {
     "name": "stderr",
     "output_type": "stream",
     "text": [
      "/home/christofer/PycharmProjects/pypads-notebooks/venv/lib/python3.7/site-packages/ipywidgets/widgets/widget.py:412: DeprecationWarning: Passing unrecognized arguments to super(FloatProgress).__init__(step=0.1).\n",
      "object.__init__() takes exactly one argument (the instance to initialize)\n",
      "This is deprecated in traitlets 4.2.This error will be raised in a future release of traitlets.\n",
      "  super(Widget, self).__init__(**kwargs)\n"
     ]
    }
   ],
   "source": [
    "# Create a progress bar for the training\n",
    "import ipywidgets as widgets\n",
    "from IPython.display import display\n",
    "\n",
    "t = widgets.FloatProgress(value=0,\n",
    "                          min=0,\n",
    "                          max=1.0,\n",
    "                          step=0.1,\n",
    "                          description='Loading:',\n",
    "                          bar_style='info',\n",
    "                          orientation='horizontal')"
   ]
  },
  {
   "cell_type": "code",
   "execution_count": 17,
   "metadata": {},
   "outputs": [
    {
     "data": {
      "application/vnd.jupyter.widget-view+json": {
       "model_id": "907843c399554ba7b0314dd16a807fd9",
       "version_major": 2,
       "version_minor": 0
      },
      "text/plain": [
       "FloatProgress(value=0.0, bar_style='info', description='Loading:', max=1.0)"
      ]
     },
     "metadata": {},
     "output_type": "display_data"
    }
   ],
   "source": [
    "# Set the labels as integers from 0 to the number of labels\n",
    "labels = [i for i in range(num_labels)]\n",
    "\n",
    "\n",
    "# Use CUDA if it is available\n",
    "cuda = True if torch.cuda.is_available() else False\n",
    "tensor = torch.cuda.FloatStorage if cuda else torch.FloatTensor\n",
    "\n",
    "\n",
    "# Do a test of the initial accuracy of the classifier\n",
    "results = model.forward(tensor(X_test))\n",
    "predicted = torch.max(results.data, 1)\n",
    "y_pred = predicted.indices.tolist()\n",
    "\n",
    "# Print the initial accuracy\n",
    "print('Initial accuracy is %f ' % accuracy_score(y_true=y_test.tolist(), y_pred=y_pred))\n",
    "\n",
    "# Display the initial progress bar\n",
    "display(t)\n"
   ]
  },
  {
   "cell_type": "code",
   "execution_count": 18,
   "metadata": {},
   "outputs": [
    {
     "data": {
      "image/png": "[encoded data removed]",
      "text/plain": [
       "<Figure size 864x864 with 4 Axes>"
      ]
     },
     "metadata": {
      "needs_background": "light"
     },
     "output_type": "display_data"
    }
   ],
   "source": [
    "from livelossplot import PlotLosses\n",
    "from time import time\n",
    "import matplotlib.pyplot as plt\n",
    "\n",
    "epochs_trained = 0\n",
    "\n",
    "# Plot losses help with visualizing the loss at run time as a live plot\n",
    "liveloss = PlotLosses()\n",
    "\n",
    "for idx in range(num_epochs):\n",
    "\n",
    "    t1 = time()\n",
    "    n_iter = 0\n",
    "    average_loss = 0.0\n",
    "\n",
    "    average_loss = train_one_epoch(model=model, loader=loader, optimizer=optimizer, loss_=loss_, tensor=tensor)\n",
    "    \n",
    "    t2 = time()\n",
    "    epochs_trained += 1\n",
    "    \n",
    "    # Update the progress bar\n",
    "    # Progress bar will be updated in the previous cell because the plots are draw over it\n",
    "    t.value = epochs_trained/num_epochs\n",
    "    \n",
    "    # Create dictionary for live plot\n",
    "    logs = {}\n",
    "    \n",
    "    # Test every certain number of epochs\n",
    "    if epochs_trained % test_every == 0:\n",
    "        \n",
    "        # Do a forward pass\n",
    "        results = model.forward(tensor(X_test))\n",
    "        \n",
    "        # Get the predicted classes. Predicted classes have the max values\n",
    "        predicted = torch.max(results.data, 1)\n",
    "        \n",
    "        # Get the indices corresponding to the max values and convert them to a list. \n",
    "        y_pred = predicted.indices.tolist()\n",
    "        \n",
    "        # Compute the accuracy_score and log it to PyPads.\n",
    "        # Note the step parameter specifies the step in training where this accuracy was obtained.\n",
    "        accuracy = accuracy_score(y_true=y_test.tolist(), y_pred=y_pred)\n",
    "        tracker.api.log_metric(key='accuracy', value=accuracy, description='Accuracy of the model', step=epochs_trained)\n",
    "        \n",
    "        # Add accuracy to the dictionary\n",
    "        logs['accuracy'] = accuracy\n",
    "        \n",
    "    # Update the dictionary with average_loss and execution time and plot it\n",
    "    logs['loss'] = average_loss\n",
    "    logs['time'] = t2 - t1\n",
    "    liveloss.update(logs)\n",
    "    liveloss.send()"
   ]
  },
  {
   "cell_type": "code",
   "execution_count": 19,
   "metadata": {},
   "outputs": [
    {
     "name": "stderr",
     "output_type": "stream",
     "text": [
      "/home/christofer/PycharmProjects/pypads-notebooks/venv/lib/python3.7/site-packages/ipykernel/ipkernel.py:287: DeprecationWarning: `should_run_async` will not call `transform_cell` automatically in the future. Please pass the result to `transformed_cell` argument and any exception that happen during thetransform in `preprocessing_exc_tuple` in IPython 7.17 and above.\n",
      "  and should_run_async(code)\n"
     ]
    }
   ],
   "source": [
    "# Compute the final test scores\n",
    "results = model.forward(tensor(X_test))\n",
    "predicted = torch.max(results.data, 1)\n",
    "y_pred = predicted.indices.tolist()\n",
    "\n",
    "# Print the classification report\n",
    "print(classification_report(y_true=y_test.tolist(), y_pred=y_pred, labels=labels))"
   ]
  },
  {
   "cell_type": "markdown",
   "metadata": {},
   "source": [
    "## Adding a metric to be tracked by PyPads"
   ]
  },
  {
   "cell_type": "code",
   "execution_count": 20,
   "metadata": {},
   "outputs": [
    {
     "data": {
      "text/plain": [
       "'69df82eb-520c-47ec-8285-79cb5f8d5724.metric'"
      ]
     },
     "execution_count": 20,
     "metadata": {},
     "output_type": "execute_result"
    }
   ],
   "source": [
    "from sklearn.metrics import accuracy_score\n",
    "accuracy = accuracy_score(y_true=y_test.tolist(), y_pred=y_pred)\n",
    "# Track a metric using PyPads with the name as key, a description of the metric and \n",
    "# Setting step to 0 to indicate that this is the final value\n",
    "tracker.api.log_metric(key='accuracy', value=accuracy, description='Accuracy of the model')"
   ]
  },
  {
   "cell_type": "markdown",
   "metadata": {},
   "source": [
    "## Tracked Information"
   ]
  },
  {
   "cell_type": "code",
   "execution_count": 21,
   "metadata": {},
   "outputs": [
    {
     "data": {
      "text/plain": [
       "<RunInfo: artifact_uri='s3://pypads/4/97893d2dd0374fc98d0a5ea7a2548ae7/artifacts', end_time=None, experiment_id='4', lifecycle_stage='active', run_id='97893d2dd0374fc98d0a5ea7a2548ae7', run_uuid='97893d2dd0374fc98d0a5ea7a2548ae7', start_time=1602569282545, status='RUNNING', user_id='christofer'>"
      ]
     },
     "execution_count": 21,
     "metadata": {},
     "output_type": "execute_result"
    }
   ],
   "source": [
    "tracker.api.active_run().info"
   ]
  },
  {
   "cell_type": "markdown",
   "metadata": {},
   "source": [
    "### Get all the artefacts"
   ]
  },
  {
   "cell_type": "code",
   "execution_count": 22,
   "metadata": {},
   "outputs": [],
   "source": [
    "artifacts = tracker.results.list_run_infos(experiment_name='PyTorch Example')"
   ]
  },
  {
   "cell_type": "markdown",
   "metadata": {},
   "source": [
    "### Metrics Information"
   ]
  },
  {
   "cell_type": "code",
   "execution_count": 23,
   "metadata": {},
   "outputs": [],
   "source": [
    "# Get all the metrics that we collected during the experiment\n",
    "metrics = tracker.results.get_metrics(\n",
    "    experiment_name=\"PyTorch Example\",\n",
    "    run_id=tracker.api.active_run().info.run_id, \n",
    "    name='accuracy')"
   ]
  },
  {
   "cell_type": "code",
   "execution_count": 24,
   "metadata": {},
   "outputs": [],
   "source": [
    "# Print all the collected metrics\n",
    "for metric in metrics:\n",
    "    print(metric)"
   ]
  },
  {
   "cell_type": "code",
   "execution_count": 25,
   "metadata": {},
   "outputs": [],
   "source": [
    "# We search for a metric at an exact step at which we logged\n",
    "metrics = tracker.results.get_metrics(\n",
    "    experiment_name=\"PyTorch Example\",\n",
    "    run_id=tracker.api.active_run().info.run_id, \n",
    "    name='accuracy', step=30)"
   ]
  },
  {
   "cell_type": "code",
   "execution_count": 26,
   "metadata": {},
   "outputs": [],
   "source": [
    "# The get metrics function returns a generator object. \n",
    "# So the results are obtained via the next function\n",
    "print(next(metrics))"
   ]
  },
  {
   "cell_type": "markdown",
   "metadata": {},
   "source": [
    "### Tracked Parameter Information"
   ]
  },
  {
   "cell_type": "code",
   "execution_count": 27,
   "metadata": {},
   "outputs": [],
   "source": [
    "# The tracker returns generator objects\n",
    "parameters = tracker.results.get_parameters(run_id=tracker.api.active_run().info.run_id)\n",
    "for parameter in parameters:\n",
    "    print(parameter)"
   ]
  },
  {
   "cell_type": "code",
   "execution_count": 28,
   "metadata": {},
   "outputs": [],
   "source": [
    "parameters = tracker.results.get_parameters(run_id=tracker.api.active_run().info.run_id,\n",
    "                                           name='networks_shape')"
   ]
  },
  {
   "cell_type": "code",
   "execution_count": 29,
   "metadata": {},
   "outputs": [],
   "source": [
    "# Get the parameters and convert them back to integers\n",
    "param = next(parameters)\n",
    "parameters = [int(x) for x in param.data[1:-1].split(sep=',')]"
   ]
  },
  {
   "cell_type": "code",
   "execution_count": 30,
   "metadata": {},
   "outputs": [],
   "source": [
    "print(parameters)"
   ]
  },
  {
   "cell_type": "markdown",
   "metadata": {},
   "source": [
    "### End tracking of experiment"
   ]
  },
  {
   "cell_type": "code",
   "execution_count": 31,
   "metadata": {},
   "outputs": [],
   "source": [
    "tracker.api.end_run()"
   ]
  }
 ],
 "metadata": {
  "kernelspec": {
   "display_name": "Python 3",
   "language": "python",
   "name": "python3"
  },
  "language_info": {
   "codemirror_mode": {
    "name": "ipython",
    "version": 3
   },
   "file_extension": ".py",
   "mimetype": "text/x-python",
   "name": "python",
   "nbconvert_exporter": "python",
   "pygments_lexer": "ipython3",
   "version": "3.7.9"
  }
 },
 "nbformat": 4,
 "nbformat_minor": 4
}

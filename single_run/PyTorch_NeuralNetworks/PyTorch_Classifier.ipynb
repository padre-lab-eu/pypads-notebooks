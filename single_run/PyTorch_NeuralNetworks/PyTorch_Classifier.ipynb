{
 "cells": [
  {
   "cell_type": "code",
   "execution_count": 1,
   "metadata": {},
   "outputs": [],
   "source": [
    "# Defining the required access keys for uploading the experiment with the server\n",
    "%env AWS_ACCESS_KEY_ID=XSHDLTACETFLQURZSAUJ\n",
    "%env AWS_SECRET_ACCESS_KEY=ISvyN9Aay40ZIaMuQcngOCJdzkSqR85ON1ng9PNZ\n",
    "%env MLFLOW_S3_ENDPOINT_URL=http://s3.padre-lab.eu\n",
    "%env MLFLOW_TRACKING_URI=http://mlflow.padre-lab.eu"
   ]
  },
  {
   "cell_type": "markdown",
   "metadata": {},
   "source": [
    "## Initialize the tracking system of PyPads"
   ]
  },
  {
   "cell_type": "code",
   "execution_count": 2,
   "metadata": {},
   "outputs": [
    {
     "name": "stdout",
     "output_type": "stream",
     "text": [
      "2020-10-06 12:59:46.659 | INFO     | pypads.app.base:activate_tracking:507 - Activating tracking...\n",
      "2020-10-06 12:59:48.047 | WARNING  | pypads.app.misc.managed_git:preserve_changes:84 - There are uncommitted changes in your git!\n",
      "2020-10-06 12:59:48.223 | WARNING  | pypads.app.misc.managed_git:create_tracking_branch:134 - Stashing, branching out, committing, reverting back and unstashing...\n",
      "2020-10-06 12:59:48.639 | INFO     | pypads.app.misc.managed_git:preserve_changes:91 - Created branch PyPads/dafd3b12022d4ce98c0558bf3c7c4895\n",
      "2020-10-06 12:59:48.908 | WARNING  | pypads.app.misc.managed_git:_handle_error:19 - Couldn't initialized git repository because of exception: Preserving commit failed due to INVALID_PARAMETER_VALUE: Tag value 'diff --git a/.idea/workspace.xml b/.idea/workspace.xml\n",
      "new file mode 100644\n",
      "index 0000000..7a45b03\n",
      "--- /dev/null\n",
      "+++ b/.idea/workspace.xml\n",
      "@@ -0,0 +1,271 @@\n",
      "+<?xml version=\"1.0\" encoding=\"UTF-8\"?>\n",
      "+<project version=\"4\">\n",
      "+  <component name=\"BranchesTr' had length 159044, which exceeded length limit of 5000\n",
      "2020-10-06 12:59:58.275 | INFO     | pypads.injections.setup.misc_setup:_call:72 - Tracking execution to run with id dafd3b12022d4ce98c0558bf3c7c4895\n",
      "2020-10-06 12:59:59.380 | WARNING  | pypads.app.base:start_track:620 - Active experiment_id of run doesn't match given input name PyTorch Example. Recreating new run.\n",
      "2020-10-06 13:00:00.143 | WARNING  | pypads.app.misc.managed_git:preserve_changes:84 - There are uncommitted changes in your git!\n",
      "2020-10-06 13:00:00.373 | WARNING  | pypads.app.misc.managed_git:create_tracking_branch:134 - Stashing, branching out, committing, reverting back and unstashing...\n",
      "2020-10-06 13:00:00.894 | INFO     | pypads.app.misc.managed_git:preserve_changes:91 - Created branch PyPads/c06cf9f7566d4879addf62fa45b93067\n",
      "2020-10-06 13:00:01.171 | WARNING  | pypads.app.misc.managed_git:_handle_error:19 - Couldn't initialized git repository because of exception: Preserving commit failed due to INVALID_PARAMETER_VALUE: Tag value 'diff --git a/.idea/workspace.xml b/.idea/workspace.xml\n",
      "new file mode 100644\n",
      "index 0000000..7a45b03\n",
      "--- /dev/null\n",
      "+++ b/.idea/workspace.xml\n",
      "@@ -0,0 +1,271 @@\n",
      "+<?xml version=\"1.0\" encoding=\"UTF-8\"?>\n",
      "+<project version=\"4\">\n",
      "+  <component name=\"BranchesTr' had length 159044, which exceeded length limit of 5000\n",
      "2020-10-06 13:00:09.376 | INFO     | pypads.injections.setup.misc_setup:_call:72 - Tracking execution to run with id c06cf9f7566d4879addf62fa45b93067\n"
     ]
    },
    {
     "data": {
      "text/plain": [
       "<pypads.app.base.PyPads at 0x7f513030c610>"
      ]
     },
     "execution_count": 2,
     "metadata": {},
     "output_type": "execute_result"
    }
   ],
   "source": [
    "from pypads.app.base import PyPads\n",
    "\n",
    "tracker = PyPads(uri=\"http://mlflow.padre-lab.eu\")\n",
    "tracker.activate_tracking()\n",
    "tracker.start_track(experiment_name=\"PyTorch Example\")"
   ]
  },
  {
   "cell_type": "code",
   "execution_count": 3,
   "metadata": {},
   "outputs": [
    {
     "name": "stderr",
     "output_type": "stream",
     "text": [
      "/home/christofer/PycharmProjects/pypads-notebooks/venv/lib/python3.7/site-packages/ipykernel/ipkernel.py:287: DeprecationWarning: `should_run_async` will not call `transform_cell` automatically in the future. Please pass the result to `transformed_cell` argument and any exception that happen during thetransform in `preprocessing_exc_tuple` in IPython 7.17 and above.\n",
      "  and should_run_async(code)\n",
      "/home/christofer/PycharmProjects/pypads-notebooks/venv/lib/python3.7/site-packages/torch/distributed/distributed_c10d.py:125: UserWarning: torch.distributed.reduce_op is deprecated, please use torch.distributed.ReduceOp instead\n",
      "  warnings.warn(\"torch.distributed.reduce_op is deprecated, please use \"\n"
     ]
    }
   ],
   "source": [
    "# Set the random seed to 1\n",
    "tracker.actuators.set_random_seed(seed=1)"
   ]
  },
  {
   "cell_type": "markdown",
   "metadata": {},
   "source": [
    "## Import the dataset from Scikit-learn"
   ]
  },
  {
   "cell_type": "code",
   "execution_count": 4,
   "metadata": {},
   "outputs": [
    {
     "name": "stderr",
     "output_type": "stream",
     "text": [
      "/home/christofer/PycharmProjects/pypads-notebooks/venv/lib/python3.7/site-packages/ipykernel/ipkernel.py:287: DeprecationWarning: `should_run_async` will not call `transform_cell` automatically in the future. Please pass the result to `transformed_cell` argument and any exception that happen during thetransform in `preprocessing_exc_tuple` in IPython 7.17 and above.\n",
      "  and should_run_async(code)\n"
     ]
    }
   ],
   "source": [
    "from sklearn import datasets\n",
    "\n",
    "# load the iris datasets\n",
    "dataset = datasets.load_iris()\n",
    "X = dataset.data\n",
    "y = dataset.target\n"
   ]
  },
  {
   "cell_type": "markdown",
   "metadata": {},
   "source": [
    "### Do the test train split"
   ]
  },
  {
   "cell_type": "code",
   "execution_count": 5,
   "metadata": {},
   "outputs": [
    {
     "name": "stderr",
     "output_type": "stream",
     "text": [
      "/home/christofer/PycharmProjects/pypads-notebooks/venv/lib/python3.7/site-packages/ipykernel/ipkernel.py:287: DeprecationWarning: `should_run_async` will not call `transform_cell` automatically in the future. Please pass the result to `transformed_cell` argument and any exception that happen during thetransform in `preprocessing_exc_tuple` in IPython 7.17 and above.\n",
      "  and should_run_async(code)\n"
     ]
    },
    {
     "data": {
      "text/plain": [
       "(90, 5)"
      ]
     },
     "execution_count": 5,
     "metadata": {},
     "output_type": "execute_result"
    }
   ],
   "source": [
    "from sklearn.model_selection import train_test_split\n",
    "from sklearn.metrics import classification_report, accuracy_score\n",
    "import numpy as np\n",
    "\n",
    "X_train, X_test, y_train, y_test = train_test_split(X, y, test_size=.4)\n",
    "\n",
    "train = np.append(X_train, y_train.reshape((y_train.shape[0],1)), axis=1)\n",
    "train.shape"
   ]
  },
  {
   "cell_type": "markdown",
   "metadata": {},
   "source": [
    "## Create Torch class for accepting neural network shapes"
   ]
  },
  {
   "cell_type": "code",
   "execution_count": 6,
   "metadata": {},
   "outputs": [],
   "source": [
    "import torch\n",
    "from torch import nn\n",
    "from typing import Any\n",
    "from collections import OrderedDict\n",
    "\n",
    "class Model(nn.Module):\n",
    "    def _forward_unimplemented(self, *input: Any) -> None:\n",
    "        pass\n",
    "    \n",
    "    def __init__(self, feature_shape, leaky_value=0.05, shape=[30, 50, 1]):\n",
    "        super(Model, self).__init__()\n",
    "        layers = [feature_shape] + shape\n",
    "        layer_list = OrderedDict()\n",
    "        for idx in range(1, len(layers)):\n",
    "            layer_list[str(idx)] = nn.Linear(layers[idx-1], layers[idx])\n",
    "            layer_list['Relu' + str(idx)] = nn.LeakyReLU(leaky_value, inplace=True)\n",
    "\n",
    "        layer_list['Sigmoid'] = nn.Sigmoid()\n",
    "        self.model = nn.Sequential(layer_list)\n",
    "\n",
    "    def forward(self, img):\n",
    "        img_flat = img.view(img.size(0), -1)\n",
    "        validity = self.model(img_flat)\n",
    "        return validity\n",
    "    "
   ]
  },
  {
   "cell_type": "code",
   "execution_count": 7,
   "metadata": {},
   "outputs": [],
   "source": [
    "# Define the various training parameters\n",
    "num_features = X.shape[1]\n",
    "num_labels = 3\n",
    "num_epochs = 75\n",
    "test_every = 10\n",
    "h_lr = 0.005\n",
    "h_b1 = 0.5\n",
    "h_b2 = 0.999\n",
    "batch_size = 10\n",
    "neural_network_shape = [10, 10, 3]"
   ]
  },
  {
   "cell_type": "markdown",
   "metadata": {},
   "source": [
    "## Track the parameters using PyPads"
   ]
  },
  {
   "cell_type": "code",
   "execution_count": 8,
   "metadata": {},
   "outputs": [
    {
     "data": {
      "text/plain": [
       "'networks_shape.param.meta.json'"
      ]
     },
     "execution_count": 8,
     "metadata": {},
     "output_type": "execute_result"
    }
   ],
   "source": [
    "tracker.api.log_param(key='lr', value=h_lr, description='Learning rate')\n",
    "tracker.api.log_param(key='networks_shape', value=neural_network_shape, description='Shape of the fully connected network')"
   ]
  },
  {
   "cell_type": "code",
   "execution_count": 9,
   "metadata": {},
   "outputs": [],
   "source": [
    "# Create the model\n",
    "model = Model(feature_shape=num_features, shape=neural_network_shape)"
   ]
  },
  {
   "cell_type": "code",
   "execution_count": 10,
   "metadata": {},
   "outputs": [],
   "source": [
    "# Create the optimizer\n",
    "optimizer = torch.optim.Adam(model.parameters(), lr=h_lr, betas=(h_b1, h_b2))"
   ]
  },
  {
   "cell_type": "code",
   "execution_count": 11,
   "metadata": {},
   "outputs": [],
   "source": [
    "# Create the loss function\n",
    "loss_ = torch.nn.BCELoss()"
   ]
  },
  {
   "cell_type": "code",
   "execution_count": 12,
   "metadata": {},
   "outputs": [],
   "source": [
    "# Function to train for one epoch\n",
    "from torch.utils.data import DataLoader\n",
    "\n",
    "def train_one_epoch(model, loader: DataLoader, tensor, optimizer, loss_, scheduler=None):\n",
    "    total_loss = 0\n",
    "    n_iter = 0\n",
    "    for batch_idx, (batch_train_features, batch_train_labels) in enumerate(loader):\n",
    "\n",
    "        features_batch = tensor(batch_train_features.type(torch.FloatTensor))\n",
    "        labels_batch = tensor(batch_train_labels)\n",
    "        \n",
    "        optimizer.zero_grad()\n",
    "\n",
    "        # Compute loss\n",
    "        forward = model.forward(features_batch)\n",
    "        _loss = loss_(forward, labels_batch)\n",
    "\n",
    "        _loss.backward()\n",
    "        optimizer.step()\n",
    "\n",
    "        if scheduler is not None:\n",
    "            scheduler.step()\n",
    "\n",
    "        total_loss += _loss\n",
    "        n_iter += 1\n",
    "\n",
    "    return total_loss / n_iter"
   ]
  },
  {
   "cell_type": "code",
   "execution_count": 13,
   "metadata": {},
   "outputs": [],
   "source": [
    "# Function to split the batch into features and labels\n",
    "def sample_collate(batch):\n",
    "    one_hot = True\n",
    "    num_labels = 3\n",
    "    X = torch.stack([torch.tensor(x[:-1]) for x in batch])\n",
    "    if one_hot is False:\n",
    "        Y = [y[-1] for y in batch]\n",
    "    else:\n",
    "        Y = torch.zeros(len(batch), num_labels)\n",
    "        for idx in range(len(batch)):\n",
    "            Y[idx][int(batch[idx][-1])] = 1\n",
    "            \n",
    "    return X, Y"
   ]
  },
  {
   "cell_type": "code",
   "execution_count": 14,
   "metadata": {},
   "outputs": [],
   "source": [
    "# Create the data loader for training\n",
    "loader = DataLoader(train, batch_size=10, shuffle=True, collate_fn=sample_collate)"
   ]
  },
  {
   "cell_type": "code",
   "execution_count": 15,
   "metadata": {},
   "outputs": [
    {
     "name": "stdout",
     "output_type": "stream",
     "text": [
      "Initial accuracy is 0.633333 \n",
      "Average loss during epoch 0: 0.682202 with execution time: 0.01\n",
      "Average loss during epoch 1: 0.675866 with execution time: 0.01\n",
      "Average loss during epoch 2: 0.668212 with execution time: 0.01\n",
      "Average loss during epoch 3: 0.659434 with execution time: 0.01\n",
      "Average loss during epoch 4: 0.648030 with execution time: 0.01\n",
      "Average loss during epoch 5: 0.633524 with execution time: 0.01\n",
      "Average loss during epoch 6: 0.615018 with execution time: 0.01\n",
      "Average loss during epoch 7: 0.592594 with execution time: 0.01\n",
      "Average loss during epoch 8: 0.537318 with execution time: 0.01\n",
      "Average loss during epoch 9: 0.516329 with execution time: 0.01\n",
      "Accuracy at 10 epoch is 0.650000 \n",
      "Average loss during epoch 10: 0.505683 with execution time: 0.01\n",
      "Average loss during epoch 11: 0.483489 with execution time: 0.01\n",
      "Average loss during epoch 12: 0.473819 with execution time: 0.01\n",
      "Average loss during epoch 13: 0.462664 with execution time: 0.01\n",
      "Average loss during epoch 14: 0.447927 with execution time: 0.01\n",
      "Average loss during epoch 15: 0.431787 with execution time: 0.01\n",
      "Average loss during epoch 16: 0.416558 with execution time: 0.01\n",
      "Average loss during epoch 17: 0.423921 with execution time: 0.01\n",
      "Average loss during epoch 18: 0.411870 with execution time: 0.01\n",
      "Average loss during epoch 19: 0.384897 with execution time: 0.01\n",
      "Accuracy at 20 epoch is 0.650000 \n",
      "Average loss during epoch 20: 0.384347 with execution time: 0.02\n",
      "Average loss during epoch 21: 0.382977 with execution time: 0.02\n",
      "Average loss during epoch 22: 0.367555 with execution time: 0.01\n",
      "Average loss during epoch 23: 0.379936 with execution time: 0.01\n",
      "Average loss during epoch 24: 0.350976 with execution time: 0.01\n",
      "Average loss during epoch 25: 0.350120 with execution time: 0.01\n",
      "Average loss during epoch 26: 0.348260 with execution time: 0.01\n",
      "Average loss during epoch 27: 0.349278 with execution time: 0.01\n",
      "Average loss during epoch 28: 0.333166 with execution time: 0.01\n",
      "Average loss during epoch 29: 0.331310 with execution time: 0.01\n",
      "Accuracy at 30 epoch is 0.650000 \n",
      "Average loss during epoch 30: 0.334108 with execution time: 0.02\n",
      "Average loss during epoch 31: 0.322480 with execution time: 0.01\n",
      "Average loss during epoch 32: 0.312741 with execution time: 0.01\n",
      "Average loss during epoch 33: 0.326355 with execution time: 0.01\n",
      "Average loss during epoch 34: 0.329043 with execution time: 0.01\n",
      "Average loss during epoch 35: 0.316547 with execution time: 0.01\n",
      "Average loss during epoch 36: 0.317304 with execution time: 0.01\n",
      "Average loss during epoch 37: 0.310586 with execution time: 0.01\n",
      "Average loss during epoch 38: 0.296103 with execution time: 0.01\n",
      "Average loss during epoch 39: 0.298967 with execution time: 0.01\n",
      "Accuracy at 40 epoch is 0.666667 \n",
      "Average loss during epoch 40: 0.299661 with execution time: 0.01\n",
      "Average loss during epoch 41: 0.302193 with execution time: 0.01\n",
      "Average loss during epoch 42: 0.288491 with execution time: 0.01\n",
      "Average loss during epoch 43: 0.301859 with execution time: 0.01\n",
      "Average loss during epoch 44: 0.304358 with execution time: 0.01\n",
      "Average loss during epoch 45: 0.281517 with execution time: 0.01\n",
      "Average loss during epoch 46: 0.293113 with execution time: 0.01\n",
      "Average loss during epoch 47: 0.279373 with execution time: 0.01\n",
      "Average loss during epoch 48: 0.294310 with execution time: 0.01\n",
      "Average loss during epoch 49: 0.295048 with execution time: 0.01\n",
      "Accuracy at 50 epoch is 0.750000 \n",
      "Average loss during epoch 50: 0.287552 with execution time: 0.01\n",
      "Average loss during epoch 51: 0.280541 with execution time: 0.01\n",
      "Average loss during epoch 52: 0.285465 with execution time: 0.01\n",
      "Average loss during epoch 53: 0.281586 with execution time: 0.01\n",
      "Average loss during epoch 54: 0.281233 with execution time: 0.01\n",
      "Average loss during epoch 55: 0.281929 with execution time: 0.01\n",
      "Average loss during epoch 56: 0.280396 with execution time: 0.01\n",
      "Average loss during epoch 57: 0.275505 with execution time: 0.01\n",
      "Average loss during epoch 58: 0.271287 with execution time: 0.01\n",
      "Average loss during epoch 59: 0.289972 with execution time: 0.01\n",
      "Accuracy at 60 epoch is 0.933333 \n",
      "Average loss during epoch 60: 0.288080 with execution time: 0.02\n",
      "Average loss during epoch 61: 0.267712 with execution time: 0.01\n",
      "Average loss during epoch 62: 0.264819 with execution time: 0.01\n",
      "Average loss during epoch 63: 0.285846 with execution time: 0.01\n",
      "Average loss during epoch 64: 0.266947 with execution time: 0.01\n",
      "Average loss during epoch 65: 0.281895 with execution time: 0.01\n",
      "Average loss during epoch 66: 0.265253 with execution time: 0.01\n",
      "Average loss during epoch 67: 0.274912 with execution time: 0.01\n",
      "Average loss during epoch 68: 0.255481 with execution time: 0.01\n",
      "Average loss during epoch 69: 0.258187 with execution time: 0.01\n",
      "Accuracy at 70 epoch is 0.966667 \n",
      "Average loss during epoch 70: 0.259931 with execution time: 0.02\n",
      "Average loss during epoch 71: 0.265738 with execution time: 0.02\n",
      "Average loss during epoch 72: 0.253350 with execution time: 0.01\n",
      "Average loss during epoch 73: 0.282969 with execution time: 0.01\n",
      "Average loss during epoch 74: 0.259133 with execution time: 0.01\n"
     ]
    }
   ],
   "source": [
    "# Train the model\n",
    "\n",
    "from time import time\n",
    "\n",
    "labels = [i for i in range(num_labels)]\n",
    "\n",
    "cuda = True if torch.cuda.is_available() else False\n",
    "tensor = torch.cuda.FloatStorage if cuda else torch.FloatTensor\n",
    "\n",
    "results = model.forward(tensor(X_test))\n",
    "predicted = torch.max(results.data, 1)\n",
    "y_pred = predicted.indices.tolist()\n",
    "print('Initial accuracy is %f ' % accuracy_score(y_true=y_test.tolist(), y_pred=y_pred))\n",
    "\n",
    "epochs_trained = 0\n",
    "\n",
    "for idx in range(num_epochs):\n",
    "\n",
    "    t1 = time()\n",
    "    n_iter = 0\n",
    "    total_loss = 0.0\n",
    "\n",
    "    total_loss = train_one_epoch(model=model, loader=loader, optimizer=optimizer, loss_=loss_, tensor=tensor)\n",
    "\n",
    "    t2 = time()\n",
    "    print('Average loss during epoch %d: %f with execution time: %0.2f' % (idx, total_loss, (t2 - t1)))\n",
    "    \n",
    "    epochs_trained += 1\n",
    "    if epochs_trained % test_every == 0:\n",
    "        results = model.forward(tensor(X_test))\n",
    "        predicted = torch.max(results.data, 1)\n",
    "        y_pred = predicted.indices.tolist()\n",
    "        accuracy = accuracy_score(y_true=y_test.tolist(), y_pred=y_pred)\n",
    "        tracker.api.log_metric(key='accuracy', value=accuracy, description='Accuracy of the model', step=epochs_trained)\n",
    "        print('Accuracy at %d epoch is %f ' % (epochs_trained, accuracy))"
   ]
  },
  {
   "cell_type": "code",
   "execution_count": 16,
   "metadata": {},
   "outputs": [
    {
     "name": "stdout",
     "output_type": "stream",
     "text": [
      "2020-10-06 13:00:14.064 | WARNING  | pypads.injections.analysis.parameters:__post__:85 - No parameters are defined on the mapping file for <class 'sklearn.preprocessing._label.LabelEncoder'>. Trying to extract by other means...\n",
      "2020-10-06 13:00:14.727 | WARNING  | pypads.injections.analysis.parameters:__post__:85 - No parameters are defined on the mapping file for <class 'sklearn.preprocessing._label.LabelEncoder'>. Trying to extract by other means...\n",
      "2020-10-06 13:00:15.438 | WARNING  | pypads.injections.analysis.parameters:__post__:85 - No parameters are defined on the mapping file for <class 'sklearn.preprocessing._label.LabelEncoder'>. Trying to extract by other means...\n",
      "2020-10-06 13:00:16.196 | WARNING  | pypads.injections.analysis.parameters:__post__:85 - No parameters are defined on the mapping file for <class 'sklearn.preprocessing._label.LabelEncoder'>. Trying to extract by other means...\n",
      "              precision    recall  f1-score   support\n",
      "\n",
      "           0       1.00      1.00      1.00        19\n",
      "           1       1.00      0.86      0.92        21\n",
      "           2       0.87      1.00      0.93        20\n",
      "\n",
      "    accuracy                           0.95        60\n",
      "   macro avg       0.96      0.95      0.95        60\n",
      "weighted avg       0.96      0.95      0.95        60\n",
      "\n"
     ]
    }
   ],
   "source": [
    "# Print the classification report\n",
    "results = model.forward(tensor(X_test))\n",
    "predicted = torch.max(results.data, 1)\n",
    "y_pred = predicted.indices.tolist()\n",
    "print(classification_report(y_true=y_test.tolist(), y_pred=y_pred, labels=labels))"
   ]
  },
  {
   "cell_type": "markdown",
   "metadata": {},
   "source": [
    "## Adding a metric to be tracked by PyPads"
   ]
  },
  {
   "cell_type": "code",
   "execution_count": 17,
   "metadata": {},
   "outputs": [
    {
     "data": {
      "text/plain": [
       "'accuracy.metric.meta.json'"
      ]
     },
     "execution_count": 17,
     "metadata": {},
     "output_type": "execute_result"
    }
   ],
   "source": [
    "from sklearn.metrics import accuracy_score\n",
    "accuracy = accuracy_score(y_true=y_test.tolist(), y_pred=y_pred)\n",
    "# Track a metric using PyPads with the name as key, a description of the metric and \n",
    "# Setting step to 0 to indicate that this is the final value\n",
    "tracker.api.log_metric(key='accuracy', value=accuracy, description='Accuracy of the model')"
   ]
  },
  {
   "cell_type": "markdown",
   "metadata": {},
   "source": [
    "## Tracked Information"
   ]
  },
  {
   "cell_type": "code",
   "execution_count": 18,
   "metadata": {},
   "outputs": [
    {
     "data": {
      "text/plain": [
       "<RunInfo: artifact_uri='s3://pypads/18/c06cf9f7566d4879addf62fa45b93067/artifacts', end_time=None, experiment_id='18', lifecycle_stage='active', run_id='c06cf9f7566d4879addf62fa45b93067', run_uuid='c06cf9f7566d4879addf62fa45b93067', start_time=1601981999383, status='RUNNING', user_id='christofer'>"
      ]
     },
     "execution_count": 18,
     "metadata": {},
     "output_type": "execute_result"
    }
   ],
   "source": [
    "tracker.api.active_run().info"
   ]
  },
  {
   "cell_type": "code",
   "execution_count": 19,
   "metadata": {},
   "outputs": [
    {
     "name": "stdout",
     "output_type": "stream",
     "text": [
      "[MetricInfo(meta=MetricMetaModel(experiment_id='18', experiment_name='PyTorch Example', run_id='c06cf9f7566d4879addf62fa45b93067', created_at=1601982016.8622422, clazz=\"<class 'pypads.model.storage.MetricMetaModel'>\", category='MLMetric', uid=UUID('07c73ff5-c98c-42a3-97cc-ab8d3d3f90c5'), description='Accuracy of the model', additional_data=None, name='accuracy', step=0), content=[<Metric: key='accuracy', step=10, timestamp=1601982012360, value=0.65>, <Metric: key='accuracy', step=20, timestamp=1601982012562, value=0.65>, <Metric: key='accuracy', step=30, timestamp=1601982012787, value=0.65>, <Metric: key='accuracy', step=40, timestamp=1601982013009, value=0.6666666666666666>, <Metric: key='accuracy', step=50, timestamp=1601982013211, value=0.75>, <Metric: key='accuracy', step=60, timestamp=1601982013414, value=0.9333333333333333>, <Metric: key='accuracy', step=70, timestamp=1601982013644, value=0.9666666666666667>, <Metric: key='accuracy', step=0, timestamp=1601982016862, value=0.95>])]\n"
     ]
    }
   ],
   "source": [
    "metrics = tracker.api.get_metrics(run_id=tracker.api.active_run().info.run_id, history=True)\n",
    "print(metrics)"
   ]
  },
  {
   "cell_type": "markdown",
   "metadata": {},
   "source": [
    "### Get all the artefacts"
   ]
  },
  {
   "cell_type": "code",
   "execution_count": 20,
   "metadata": {},
   "outputs": [
    {
     "name": "stdout",
     "output_type": "stream",
     "text": [
      "[ArtifactInfo(meta=ArtifactMetaModel(experiment_id='18', experiment_name='PyTorch Example', run_id='c06cf9f7566d4879addf62fa45b93067', created_at=1601982010.258597, clazz=\"<class 'pypads.model.storage.ArtifactMetaModel'>\", category='Artifact', uid=UUID('175c201c-af4b-4ddc-a71c-c9b6723cfa90'), description='', additional_data=None, path='Dependencies Run Setup Logger/Call/d926c923-bccd-4e28-8938-c0baa3c59532.json', file_format=<FileFormats.json: 'json'>, type='Call'), file_size=456), ArtifactInfo(meta=ArtifactMetaModel(experiment_id='18', experiment_name='PyTorch Example', run_id='c06cf9f7566d4879addf62fa45b93067', created_at=1601982009.5497353, clazz=\"<class 'pypads.model.storage.ArtifactMetaModel'>\", category='Artifact', uid=UUID('08ed8a13-6984-4de8-95c6-aeda84262726'), description='dependency list from pip freeze', additional_data=None, path='Dependencies Run Setup Logger/GenericTrackedObject/b9f38f78-39a3-411b-99c8-648d2ff24c9a/pip_freeze.txt', file_format=<FileFormats.text: 'txt'>, type=None), file_size=2958), ArtifactInfo(meta=ArtifactMetaModel(experiment_id='18', experiment_name='PyTorch Example', run_id='c06cf9f7566d4879addf62fa45b93067', created_at=1601982009.819828, clazz=\"<class 'pypads.model.storage.ArtifactMetaModel'>\", category='Artifact', uid=UUID('dc298122-346f-46af-94fc-554b2d14edbb'), description='', additional_data=None, path='Dependencies Run Setup Logger/GenericTrackedObject/b9f38f78-39a3-411b-99c8-648d2ff24c9a.json', file_format=<FileFormats.json: 'json'>, type='TrackedObject'), file_size=31930), ArtifactInfo(meta=ArtifactMetaModel(experiment_id='18', experiment_name='PyTorch Example', run_id='c06cf9f7566d4879addf62fa45b93067', created_at=1601982010.070639, clazz=\"<class 'pypads.model.storage.ArtifactMetaModel'>\", category='Artifact', uid=UUID('d884d448-4cb9-4e32-9fc5-5e94bfc6a752'), description='', additional_data=None, path='Dependencies Run Setup Logger/Output/013c636d-f920-436c-b52a-6f945ec67a2c.json', file_format=<FileFormats.json: 'json'>, type='Output'), file_size=498), ArtifactInfo(meta=ArtifactMetaModel(experiment_id='18', experiment_name='PyTorch Example', run_id='c06cf9f7566d4879addf62fa45b93067', created_at=1601982005.1844656, clazz=\"<class 'pypads.model.storage.ArtifactMetaModel'>\", category='Artifact', uid=UUID('8ca39001-89d7-45f7-ace9-ccdffc051357'), description='', additional_data=None, path='Disk Run Setup Logger/Call/f0a866bd-cebd-41a0-b50f-0103bd697e01.json', file_format=<FileFormats.json: 'json'>, type='Call'), file_size=440), ArtifactInfo(meta=ArtifactMetaModel(experiment_id='18', experiment_name='PyTorch Example', run_id='c06cf9f7566d4879addf62fa45b93067', created_at=1601982004.7724414, clazz=\"<class 'pypads.model.storage.ArtifactMetaModel'>\", category='Artifact', uid=UUID('1065dad0-0278-4b1f-8339-4ce494ae7c67'), description='', additional_data=None, path='Disk Run Setup Logger/Disk Info/75dfee81-665a-4903-b5cd-6f30abc20b4f.json', file_format=<FileFormats.json: 'json'>, type='TrackedObject'), file_size=334), ArtifactInfo(meta=ArtifactMetaModel(experiment_id='18', experiment_name='PyTorch Example', run_id='c06cf9f7566d4879addf62fa45b93067', created_at=1601982005.0024757, clazz=\"<class 'pypads.model.storage.ArtifactMetaModel'>\", category='Artifact', uid=UUID('e2ed183c-bca2-4433-b50f-04b90bb68b4c'), description='', additional_data=None, path='Disk Run Setup Logger/Output/a169bf3b-cdd7-438e-8e99-fd9ea8474053.json', file_format=<FileFormats.json: 'json'>, type='Output'), file_size=451), ArtifactInfo(meta=ArtifactMetaModel(experiment_id='18', experiment_name='PyTorch Example', run_id='c06cf9f7566d4879addf62fa45b93067', created_at=1601982004.3890886, clazz=\"<class 'pypads.model.storage.ArtifactMetaModel'>\", category='Artifact', uid=UUID('47b1df87-7a38-4db2-ad5d-d4ef2d47b652'), description='', additional_data=None, path='Generic CPU Run Setup Logger/Call/4dfc1426-9edd-4744-8faa-6b6a6559db1c.json', file_format=<FileFormats.json: 'json'>, type='Call'), file_size=454), ArtifactInfo(meta=ArtifactMetaModel(experiment_id='18', experiment_name='PyTorch Example', run_id='c06cf9f7566d4879addf62fa45b93067', created_at=1601982003.954209, clazz=\"<class 'pypads.model.storage.ArtifactMetaModel'>\", category='Artifact', uid=UUID('a6821fa0-0220-4569-8af4-9ada3d399a90'), description='', additional_data=None, path='Generic CPU Run Setup Logger/Cpu Info/38e3e9e7-c9e0-43c9-b633-e6fa05de0a68.json', file_format=<FileFormats.json: 'json'>, type='TrackedObject'), file_size=340), ArtifactInfo(meta=ArtifactMetaModel(experiment_id='18', experiment_name='PyTorch Example', run_id='c06cf9f7566d4879addf62fa45b93067', created_at=1601982004.2073278, clazz=\"<class 'pypads.model.storage.ArtifactMetaModel'>\", category='Artifact', uid=UUID('366d9891-5c9c-4f7b-a139-8107c889daf9'), description='', additional_data=None, path='Generic CPU Run Setup Logger/Output/efccef25-13bd-4c36-9a43-667621bfc81a.json', file_format=<FileFormats.json: 'json'>, type='Output'), file_size=460), ArtifactInfo(meta=ArtifactMetaModel(experiment_id='18', experiment_name='PyTorch Example', run_id='c06cf9f7566d4879addf62fa45b93067', created_at=1601982001.5109522, clazz=\"<class 'pypads.model.storage.ArtifactMetaModel'>\", category='Artifact', uid=UUID('13b51ab8-8028-4d03-a0d3-e1f44e4cea13'), description='', additional_data=None, path='Generic Git Run Setup Logger/Call/e1e77496-e011-4a7f-a5b0-cce4881e8b6a.json', file_format=<FileFormats.json: 'json'>, type='Call'), file_size=453), ArtifactInfo(meta=ArtifactMetaModel(experiment_id='18', experiment_name='PyTorch Example', run_id='c06cf9f7566d4879addf62fa45b93067', created_at=1601982001.3437588, clazz=\"<class 'pypads.model.storage.ArtifactMetaModel'>\", category='Artifact', uid=UUID('4c500b47-2649-429b-9c81-91f5ba747e71'), description='', additional_data=None, path='Generic Git Run Setup Logger/Output/bf799922-47af-4353-b998-940e8c6c9ac1.json', file_format=<FileFormats.json: 'json'>, type='Output'), file_size=383), ArtifactInfo(meta=ArtifactMetaModel(experiment_id='18', experiment_name='PyTorch Example', run_id='c06cf9f7566d4879addf62fa45b93067', created_at=1601982016.7648437, clazz=\"<class 'pypads.model.storage.ArtifactMetaModel'>\", category='Artifact', uid=UUID('2a45d537-3d5a-488f-bba9-c067dcf77418'), description='', additional_data=None, path='Generic Hyperparameter Logger/Call/1ea69bd8-0f8a-4ca8-ad4b-202a7907cf07.json', file_format=<FileFormats.json: 'json'>, type='Call'), file_size=1041), ArtifactInfo(meta=ArtifactMetaModel(experiment_id='18', experiment_name='PyTorch Example', run_id='c06cf9f7566d4879addf62fa45b93067', created_at=1601982015.2801611, clazz=\"<class 'pypads.model.storage.ArtifactMetaModel'>\", category='Artifact', uid=UUID('3f3aac60-6f61-484b-b220-9dd1f8c4788a'), description='', additional_data=None, path='Generic Hyperparameter Logger/Call/41679cfa-2707-4b40-9801-9e383f8c9760.json', file_format=<FileFormats.json: 'json'>, type='Call'), file_size=1042), ArtifactInfo(meta=ArtifactMetaModel(experiment_id='18', experiment_name='PyTorch Example', run_id='c06cf9f7566d4879addf62fa45b93067', created_at=1601982014.5878198, clazz=\"<class 'pypads.model.storage.ArtifactMetaModel'>\", category='Artifact', uid=UUID('e4379aea-d532-4c8e-9fa2-91fa162e853f'), description='', additional_data=None, path='Generic Hyperparameter Logger/Call/5ebbed89-1bc7-4623-9b8a-4fd6427db181.json', file_format=<FileFormats.json: 'json'>, type='Call'), file_size=1040), ArtifactInfo(meta=ArtifactMetaModel(experiment_id='18', experiment_name='PyTorch Example', run_id='c06cf9f7566d4879addf62fa45b93067', created_at=1601982016.041166, clazz=\"<class 'pypads.model.storage.ArtifactMetaModel'>\", category='Artifact', uid=UUID('dbab5ddb-d197-490d-a33b-a3bdce763a1e'), description='', additional_data=None, path='Generic Hyperparameter Logger/Call/838f2b9c-c78d-4bd8-a72e-6cf2ec106751.json', file_format=<FileFormats.json: 'json'>, type='Call'), file_size=1040), ArtifactInfo(meta=ArtifactMetaModel(experiment_id='18', experiment_name='PyTorch Example', run_id='c06cf9f7566d4879addf62fa45b93067', created_at=1601982014.21584, clazz=\"<class 'pypads.model.storage.ArtifactMetaModel'>\", category='Artifact', uid=UUID('aef213dc-965c-4bfd-be9e-d536110841ee'), description='', additional_data=None, path='Generic Hyperparameter Logger/GenericTrackedObject/05459b50-0482-4241-9d77-c4951ea5d818.json', file_format=<FileFormats.json: 'json'>, type='TrackedObject'), file_size=532), ArtifactInfo(meta=ArtifactMetaModel(experiment_id='18', experiment_name='PyTorch Example', run_id='c06cf9f7566d4879addf62fa45b93067', created_at=1601982014.8692222, clazz=\"<class 'pypads.model.storage.ArtifactMetaModel'>\", category='Artifact', uid=UUID('e7510388-2697-4b8b-a986-b9a53a0b8083'), description='', additional_data=None, path='Generic Hyperparameter Logger/GenericTrackedObject/40aacc48-6595-459c-a693-d5a6e21bba2c.json', file_format=<FileFormats.json: 'json'>, type='TrackedObject'), file_size=532), ArtifactInfo(meta=ArtifactMetaModel(experiment_id='18', experiment_name='PyTorch Example', run_id='c06cf9f7566d4879addf62fa45b93067', created_at=1601982015.6007018, clazz=\"<class 'pypads.model.storage.ArtifactMetaModel'>\", category='Artifact', uid=UUID('110a4dff-eeac-4aa6-8fd3-c56ddd050d97'), description='', additional_data=None, path='Generic Hyperparameter Logger/GenericTrackedObject/c63292e0-5648-496f-97bb-141f55653ab6.json', file_format=<FileFormats.json: 'json'>, type='TrackedObject'), file_size=532), ArtifactInfo(meta=ArtifactMetaModel(experiment_id='18', experiment_name='PyTorch Example', run_id='c06cf9f7566d4879addf62fa45b93067', created_at=1601982016.3716033, clazz=\"<class 'pypads.model.storage.ArtifactMetaModel'>\", category='Artifact', uid=UUID('05c2c0c7-2e3d-4d38-a139-4bbff2b03deb'), description='', additional_data=None, path='Generic Hyperparameter Logger/GenericTrackedObject/fc4f4aad-3cf2-48ca-a1d5-aa0e4691cdde.json', file_format=<FileFormats.json: 'json'>, type='TrackedObject'), file_size=532), ArtifactInfo(meta=ArtifactMetaModel(experiment_id='18', experiment_name='PyTorch Example', run_id='c06cf9f7566d4879addf62fa45b93067', created_at=1601982015.105064, clazz=\"<class 'pypads.model.storage.ArtifactMetaModel'>\", category='Artifact', uid=UUID('b4ed880b-6255-48aa-bbba-cde3fbdcb8e1'), description='', additional_data=None, path='Generic Hyperparameter Logger/Output/89ce6e9f-ad83-4058-a319-a7b41c8ba9f5.json', file_format=<FileFormats.json: 'json'>, type='Output'), file_size=556), ArtifactInfo(meta=ArtifactMetaModel(experiment_id='18', experiment_name='PyTorch Example', run_id='c06cf9f7566d4879addf62fa45b93067', created_at=1601982015.8530788, clazz=\"<class 'pypads.model.storage.ArtifactMetaModel'>\", category='Artifact', uid=UUID('ece1ec1b-b218-4414-9d6c-2c8a5264ffb3'), description='', additional_data=None, path='Generic Hyperparameter Logger/Output/9d6a0fa1-acbe-4c96-a12d-f27c28943009.json', file_format=<FileFormats.json: 'json'>, type='Output'), file_size=556), ArtifactInfo(meta=ArtifactMetaModel(experiment_id='18', experiment_name='PyTorch Example', run_id='c06cf9f7566d4879addf62fa45b93067', created_at=1601982016.6043189, clazz=\"<class 'pypads.model.storage.ArtifactMetaModel'>\", category='Artifact', uid=UUID('fdb8712a-cd02-4b6f-b0c2-683407423749'), description='', additional_data=None, path='Generic Hyperparameter Logger/Output/ccdc8a3d-a9a0-4fdc-84dc-f0b698ae4864.json', file_format=<FileFormats.json: 'json'>, type='Output'), file_size=556), ArtifactInfo(meta=ArtifactMetaModel(experiment_id='18', experiment_name='PyTorch Example', run_id='c06cf9f7566d4879addf62fa45b93067', created_at=1601982014.436358, clazz=\"<class 'pypads.model.storage.ArtifactMetaModel'>\", category='Artifact', uid=UUID('2be497b3-e96b-49fc-9791-f880008927b5'), description='', additional_data=None, path='Generic Hyperparameter Logger/Output/db66d1ce-e00c-4141-9486-bbd6f6519a9e.json', file_format=<FileFormats.json: 'json'>, type='Output'), file_size=556), ArtifactInfo(meta=ArtifactMetaModel(experiment_id='18', experiment_name='PyTorch Example', run_id='c06cf9f7566d4879addf62fa45b93067', created_at=1601982008.2184262, clazz=\"<class 'pypads.model.storage.ArtifactMetaModel'>\", category='Artifact', uid=UUID('1b38060e-e393-4154-853c-db65f94591e7'), description='', additional_data=None, path='Generic MacAddress Run Setup Logger/Call/60c6473a-a539-42c5-9bc2-ea2460902a96.json', file_format=<FileFormats.json: 'json'>, type='Call'), file_size=467), ArtifactInfo(meta=ArtifactMetaModel(experiment_id='18', experiment_name='PyTorch Example', run_id='c06cf9f7566d4879addf62fa45b93067', created_at=1601982007.7871583, clazz=\"<class 'pypads.model.storage.ArtifactMetaModel'>\", category='Artifact', uid=UUID('99a58440-7636-413f-a5e7-e5aa0afc76d1'), description='', additional_data=None, path='Generic MacAddress Run Setup Logger/Mac Address/5aefe404-5c2b-42cc-b913-436fee937a19.json', file_format=<FileFormats.json: 'json'>, type='TrackedObject'), file_size=376), ArtifactInfo(meta=ArtifactMetaModel(experiment_id='18', experiment_name='PyTorch Example', run_id='c06cf9f7566d4879addf62fa45b93067', created_at=1601982008.041269, clazz=\"<class 'pypads.model.storage.ArtifactMetaModel'>\", category='Artifact', uid=UUID('bc9ec256-c6fb-4295-bc88-52365060d674'), description='', additional_data=None, path='Generic MacAddress Run Setup Logger/Output/e3788f6f-d1b1-4e83-82ea-6b2bc3f7c6ce.json', file_format=<FileFormats.json: 'json'>, type='Output'), file_size=501), ArtifactInfo(meta=ArtifactMetaModel(experiment_id='18', experiment_name='PyTorch Example', run_id='c06cf9f7566d4879addf62fa45b93067', created_at=1601982009.2289486, clazz=\"<class 'pypads.model.storage.ArtifactMetaModel'>\", category='Artifact', uid=UUID('9d1f40e6-8a2e-40b3-bbb5-161e25ed7866'), description='', additional_data=None, path='Generic Ram Run Setup Logger/Call/97275d3f-6374-4c7d-abf5-d88c3c415091.json', file_format=<FileFormats.json: 'json'>, type='Call'), file_size=454), ArtifactInfo(meta=ArtifactMetaModel(experiment_id='18', experiment_name='PyTorch Example', run_id='c06cf9f7566d4879addf62fa45b93067', created_at=1601982008.7938957, clazz=\"<class 'pypads.model.storage.ArtifactMetaModel'>\", category='Artifact', uid=UUID('e29ea739-b5f6-46d5-bdfb-3d44620b1dc0'), description='', additional_data=None, path='Generic Ram Run Setup Logger/Memory Info/0064cd3b-fce5-4bce-9177-0842d2dea368.json', file_format=<FileFormats.json: 'json'>, type='TrackedObject'), file_size=343), ArtifactInfo(meta=ArtifactMetaModel(experiment_id='18', experiment_name='PyTorch Example', run_id='c06cf9f7566d4879addf62fa45b93067', created_at=1601982009.0479813, clazz=\"<class 'pypads.model.storage.ArtifactMetaModel'>\", category='Artifact', uid=UUID('f58f5cb9-0ae5-4dd8-942e-a3459b0200d2'), description='', additional_data=None, path='Generic Ram Run Setup Logger/Output/e061d613-d69d-422d-a6ba-65e650d1348b.json', file_format=<FileFormats.json: 'json'>, type='Output'), file_size=466), ArtifactInfo(meta=ArtifactMetaModel(experiment_id='18', experiment_name='PyTorch Example', run_id='c06cf9f7566d4879addf62fa45b93067', created_at=1601982002.9770567, clazz=\"<class 'pypads.model.storage.ArtifactMetaModel'>\", category='Artifact', uid=UUID('411cd978-0029-449e-944f-b7f1abfb05e0'), description='', additional_data=None, path='Generic System Run Setup Logger/Call/3ed0c82e-5a87-4518-ae65-fcbe1e9413a4.json', file_format=<FileFormats.json: 'json'>, type='Call'), file_size=460), ArtifactInfo(meta=ArtifactMetaModel(experiment_id='18', experiment_name='PyTorch Example', run_id='c06cf9f7566d4879addf62fa45b93067', created_at=1601982002.8077955, clazz=\"<class 'pypads.model.storage.ArtifactMetaModel'>\", category='Artifact', uid=UUID('d71e028c-c147-477d-8a6a-ac11c6b1901f'), description='', additional_data=None, path='Generic System Run Setup Logger/Output/a2dad21f-a2fc-405b-9961-f0e89b77a86d.json', file_format=<FileFormats.json: 'json'>, type='Output'), file_size=481), ArtifactInfo(meta=ArtifactMetaModel(experiment_id='18', experiment_name='PyTorch Example', run_id='c06cf9f7566d4879addf62fa45b93067', created_at=1601982002.564799, clazz=\"<class 'pypads.model.storage.ArtifactMetaModel'>\", category='Artifact', uid=UUID('d45b4ff1-4f4d-49c1-81e3-b8750357c920'), description='', additional_data=None, path='Generic System Run Setup Logger/System Info/9c514fe5-ded2-43f4-9d8a-23776d34c1d4.json', file_format=<FileFormats.json: 'json'>, type='TrackedObject'), file_size=485), ArtifactInfo(meta=ArtifactMetaModel(experiment_id='18', experiment_name='PyTorch Example', run_id='c06cf9f7566d4879addf62fa45b93067', created_at=1601982011.3349257, clazz=\"<class 'pypads.model.storage.ArtifactMetaModel'>\", category='Artifact', uid=UUID('852d3156-7d11-4403-beab-a64628e9ea1e'), description='', additional_data=None, path='Generic Tracking Function/Call/cfa0fac1-3b5c-48b6-abd7-ef53f16b0624.json', file_format=<FileFormats.json: 'json'>, type='Call'), file_size=365), ArtifactInfo(meta=ArtifactMetaModel(experiment_id='18', experiment_name='PyTorch Example', run_id='c06cf9f7566d4879addf62fa45b93067', created_at=1601981999.9990864, clazz=\"<class 'pypads.model.storage.ArtifactMetaModel'>\", category='Artifact', uid=UUID('5973101b-4b64-4405-a68f-50adb87470db'), description='', additional_data=None, path='Loguru Run Setup Logger/Call/927af923-02c2-4dc8-9f02-eeb965d90d10.json', file_format=<FileFormats.json: 'json'>, type='Call'), file_size=445), ArtifactInfo(meta=ArtifactMetaModel(experiment_id='18', experiment_name='PyTorch Example', run_id='c06cf9f7566d4879addf62fa45b93067', created_at=1601981999.6756513, clazz=\"<class 'pypads.model.storage.ArtifactMetaModel'>\", category='Artifact', uid=UUID('2fe7cf9e-c266-4b3c-9f88-131613a66989'), description='', additional_data=None, path='Loguru Run Setup Logger/GenericTrackedObject/fecd5a80-ed31-4c58-9b55-795f8d3dbde3.json', file_format=<FileFormats.json: 'json'>, type='TrackedObject'), file_size=435), ArtifactInfo(meta=ArtifactMetaModel(experiment_id='18', experiment_name='PyTorch Example', run_id='c06cf9f7566d4879addf62fa45b93067', created_at=1601981999.866052, clazz=\"<class 'pypads.model.storage.ArtifactMetaModel'>\", category='Artifact', uid=UUID('8e4ac08f-b3d0-4948-8fd8-615e8d047a47'), description='', additional_data=None, path='Loguru Run Setup Logger/Output/fa58435e-44fd-4a3a-9d43-d3cb43276933.json', file_format=<FileFormats.json: 'json'>, type='Output'), file_size=466), ArtifactInfo(meta=ArtifactMetaModel(experiment_id='18', experiment_name='PyTorch Example', run_id='c06cf9f7566d4879addf62fa45b93067', created_at=1601982006.3347392, clazz=\"<class 'pypads.model.storage.ArtifactMetaModel'>\", category='Artifact', uid=UUID('d1c8a67c-3467-4b69-a35c-f5e0c740bf8e'), description='', additional_data=None, path='Process Run Setup Logger/Call/f0b0cca8-f15c-4393-9dc4-577cbdbd1c20.json', file_format=<FileFormats.json: 'json'>, type='Call'), file_size=445), ArtifactInfo(meta=ArtifactMetaModel(experiment_id='18', experiment_name='PyTorch Example', run_id='c06cf9f7566d4879addf62fa45b93067', created_at=1601982006.1698704, clazz=\"<class 'pypads.model.storage.ArtifactMetaModel'>\", category='Artifact', uid=UUID('60d4b25e-0635-4fee-bc8b-b5b8e808e548'), description='', additional_data=None, path='Process Run Setup Logger/Output/7d37f9a0-563c-4ac1-8b84-ff38f647a4c7.json', file_format=<FileFormats.json: 'json'>, type='Output'), file_size=460), ArtifactInfo(meta=ArtifactMetaModel(experiment_id='18', experiment_name='PyTorch Example', run_id='c06cf9f7566d4879addf62fa45b93067', created_at=1601982005.921018, clazz=\"<class 'pypads.model.storage.ArtifactMetaModel'>\", category='Artifact', uid=UUID('d41c9f6b-825b-4838-9fb4-1439028ffe44'), description='', additional_data=None, path='Process Run Setup Logger/Process Info/d35e03ee-a8ce-4783-9877-1719bfcac0bb.json', file_format=<FileFormats.json: 'json'>, type='TrackedObject'), file_size=468), ArtifactInfo(meta=ArtifactMetaModel(experiment_id='18', experiment_name='PyTorch Example', run_id='c06cf9f7566d4879addf62fa45b93067', created_at=1601982007.3413486, clazz=\"<class 'pypads.model.storage.ArtifactMetaModel'>\", category='Artifact', uid=UUID('0cbcaecc-6a3c-42aa-9ee8-2c5a699d3075'), description='', additional_data=None, path='Socket Run Setup Logger/Call/b5ab39ea-da35-49c8-a16c-21b9d6b67c13.json', file_format=<FileFormats.json: 'json'>, type='Call'), file_size=444), ArtifactInfo(meta=ArtifactMetaModel(experiment_id='18', experiment_name='PyTorch Example', run_id='c06cf9f7566d4879addf62fa45b93067', created_at=1601982007.173975, clazz=\"<class 'pypads.model.storage.ArtifactMetaModel'>\", category='Artifact', uid=UUID('ff5a66e8-62b0-418b-867b-c39f4bf69b47'), description='', additional_data=None, path='Socket Run Setup Logger/Output/7199a6a9-9ec8-4324-a21f-6cc7799a228e.json', file_format=<FileFormats.json: 'json'>, type='Output'), file_size=477), ArtifactInfo(meta=ArtifactMetaModel(experiment_id='18', experiment_name='PyTorch Example', run_id='c06cf9f7566d4879addf62fa45b93067', created_at=1601982006.9283025, clazz=\"<class 'pypads.model.storage.ArtifactMetaModel'>\", category='Artifact', uid=UUID('582cff42-0ed5-4396-81fa-588f87059be6'), description='', additional_data=None, path='Socket Run Setup Logger/Socket Info/58c33745-4d79-4fe5-aa07-00fc19e131d3.json', file_format=<FileFormats.json: 'json'>, type='TrackedObject'), file_size=390)]\n"
     ]
    }
   ],
   "source": [
    "artifacts = tracker.api.get_artifacts(run_id=tracker.api.active_run().info.run_id, path=\"*\")\n",
    "print(artifacts)"
   ]
  },
  {
   "cell_type": "markdown",
   "metadata": {},
   "source": [
    "### Metrics Information"
   ]
  },
  {
   "cell_type": "code",
   "execution_count": 21,
   "metadata": {},
   "outputs": [
    {
     "name": "stdout",
     "output_type": "stream",
     "text": [
      "[MetricInfo(meta=MetricMetaModel(experiment_id='18', experiment_name='PyTorch Example', run_id='c06cf9f7566d4879addf62fa45b93067', created_at=1601982016.8622422, clazz=\"<class 'pypads.model.storage.MetricMetaModel'>\", category='MLMetric', uid=UUID('07c73ff5-c98c-42a3-97cc-ab8d3d3f90c5'), description='Accuracy of the model', additional_data=None, name='accuracy', step=0), content=[<Metric: key='accuracy', step=10, timestamp=1601982012360, value=0.65>, <Metric: key='accuracy', step=20, timestamp=1601982012562, value=0.65>, <Metric: key='accuracy', step=30, timestamp=1601982012787, value=0.65>, <Metric: key='accuracy', step=40, timestamp=1601982013009, value=0.6666666666666666>, <Metric: key='accuracy', step=50, timestamp=1601982013211, value=0.75>, <Metric: key='accuracy', step=60, timestamp=1601982013414, value=0.9333333333333333>, <Metric: key='accuracy', step=70, timestamp=1601982013644, value=0.9666666666666667>, <Metric: key='accuracy', step=0, timestamp=1601982016862, value=0.95>])]\n"
     ]
    }
   ],
   "source": [
    "metrics = tracker.api.get_metrics(run_id=tracker.api.active_run().info.run_id, history=True)\n",
    "print(metrics)"
   ]
  },
  {
   "cell_type": "markdown",
   "metadata": {},
   "source": [
    "### Tracked Parameter Information"
   ]
  },
  {
   "cell_type": "code",
   "execution_count": 22,
   "metadata": {},
   "outputs": [
    {
     "name": "stdout",
     "output_type": "stream",
     "text": [
      "[ParameterInfo(meta=ParameterMetaModel(experiment_id='18', experiment_name='PyTorch Example', run_id='c06cf9f7566d4879addf62fa45b93067', created_at=1601982011.9775739, clazz=\"<class 'pypads.model.storage.ParameterMetaModel'>\", category='HyperParameter', uid=UUID('74b26eef-d4af-44dc-b1c7-4371919f2208'), description='Learning rate', additional_data=None, name='lr', value_format=\"<class 'float'>\"), content='0.005'), ParameterInfo(meta=ParameterMetaModel(experiment_id='18', experiment_name='PyTorch Example', run_id='c06cf9f7566d4879addf62fa45b93067', created_at=1601982012.0985453, clazz=\"<class 'pypads.model.storage.ParameterMetaModel'>\", category='HyperParameter', uid=UUID('3a7656d0-dc4c-4258-9b2e-fa209ff47ad0'), description='Shape of the fully connected network', additional_data=None, name='networks_shape', value_format=\"<class 'list'>\"), content='[10, 10, 3]')]\n"
     ]
    }
   ],
   "source": [
    "parameters = tracker.api.get_parameters(run_id=tracker.api.active_run().info.run_id)\n",
    "print(parameters)"
   ]
  },
  {
   "cell_type": "markdown",
   "metadata": {},
   "source": [
    "### End tracking of experiment"
   ]
  },
  {
   "cell_type": "code",
   "execution_count": 23,
   "metadata": {},
   "outputs": [],
   "source": [
    "tracker.api.end_run()"
   ]
  }
 ],
 "metadata": {
  "kernelspec": {
   "display_name": "Python 3",
   "language": "python",
   "name": "python3"
  },
  "language_info": {
   "codemirror_mode": {
    "name": "ipython",
    "version": 3
   },
   "file_extension": ".py",
   "mimetype": "text/x-python",
   "name": "python",
   "nbconvert_exporter": "python",
   "pygments_lexer": "ipython3",
   "version": "3.7.9"
  }
 },
 "nbformat": 4,
 "nbformat_minor": 4
}

{
 "cells": [
  {
   "cell_type": "code",
   "execution_count": 1,
   "metadata": {},
   "outputs": [
    {
     "data": {
      "text/plain": [
       "True"
      ]
     },
     "execution_count": 1,
     "metadata": {},
     "output_type": "execute_result"
    }
   ],
   "source": [
    "# Load the environment variables for remote logging\n",
    "from dotenv import load_dotenv\n",
    "load_dotenv()"
   ]
  },
  {
   "cell_type": "markdown",
   "metadata": {},
   "source": [
    "## Initialize the tracking system of PyPads"
   ]
  },
  {
   "cell_type": "code",
   "execution_count": 2,
   "metadata": {},
   "outputs": [
    {
     "name": "stdout",
     "output_type": "stream",
     "text": [
      "2020-10-19 16:10:03.036 | INFO     | pypads.app.base:activate_tracking:566 - Activating tracking by extending importlib...\n",
      "2020-10-19 16:10:03.972 | INFO     | pypads.injections.setup.misc_setup:_call:74 - Tracking execution to run with id 3e55a23a818c4ab19d2d213cf1811a20\n",
      "2020-10-19 16:10:05.653 | WARNING  | pypads.app.misc.managed_git:preserve_changes:84 - There are uncommitted changes in your git!\n",
      "2020-10-19 16:10:06.389 | WARNING  | pypads.app.misc.managed_git:create_tracking_branch:134 - Stashing, branching out, committing, reverting back and unstashing...\n",
      "2020-10-19 16:10:06.848 | INFO     | pypads.app.misc.managed_git:preserve_changes:91 - Created branch PyPads/3e55a23a818c4ab19d2d213cf1811a20\n",
      "2020-10-19 16:10:07.777 | WARNING  | pypads.app.misc.managed_git:_handle_error:19 - Couldn't initialized git repository because of exception: Preserving commit failed due to INVALID_PARAMETER_VALUE: Tag value 'diff --git a/.env b/.env\n",
      "new file mode 100644\n",
      "index 0000000..eaae52e\n",
      "--- /dev/null\n",
      "+++ b/.env\n",
      "@@ -0,0 +1,8 @@\n",
      "+AWS_ACCESS_KEY_ID=XSHDLTACETFLQURZSAUJ\n",
      "+AWS_SECRET_ACCESS_KEY=ISvyN9Aay40ZIaMuQcngOCJdzkSqR85ON1ng9PNZ\n",
      "+MLFLOW_S3_ENDPOINT_URL=http://s3.pa' had length 2674128, which exceeded length limit of 5000\n"
     ]
    },
    {
     "data": {
      "text/plain": [
       "<pypads.app.base.PyPads at 0x7fc740209c90>"
      ]
     },
     "execution_count": 2,
     "metadata": {},
     "output_type": "execute_result"
    },
    {
     "name": "stdout",
     "output_type": "stream",
     "text": [
      "Initial accuracy is 0.633333 \n",
      "Loss\n",
      "\tloss             \t (min:    0.682, max:    0.682, cur:    0.682)\n",
      "time\n",
      "\ttime             \t (min:    0.009, max:    0.009, cur:    0.009)\n",
      "Loss\n",
      "\tloss             \t (min:    0.676, max:    0.682, cur:    0.676)\n",
      "time\n",
      "\ttime             \t (min:    0.008, max:    0.009, cur:    0.008)\n",
      "Loss\n",
      "\tloss             \t (min:    0.668, max:    0.682, cur:    0.668)\n",
      "time\n",
      "\ttime             \t (min:    0.008, max:    0.009, cur:    0.008)\n",
      "Loss\n",
      "\tloss             \t (min:    0.659, max:    0.682, cur:    0.659)\n",
      "time\n",
      "\ttime             \t (min:    0.007, max:    0.009, cur:    0.007)\n",
      "Loss\n",
      "\tloss             \t (min:    0.648, max:    0.682, cur:    0.648)\n",
      "time\n",
      "\ttime             \t (min:    0.007, max:    0.009, cur:    0.007)\n",
      "Loss\n",
      "\tloss             \t (min:    0.634, max:    0.682, cur:    0.634)\n",
      "time\n",
      "\ttime             \t (min:    0.007, max:    0.009, cur:    0.008)\n",
      "Loss\n",
      "\tloss             \t (min:    0.615, max:    0.682, cur:    0.615)\n",
      "time\n",
      "\ttime             \t (min:    0.007, max:    0.011, cur:    0.011)\n",
      "Loss\n",
      "\tloss             \t (min:    0.593, max:    0.682, cur:    0.593)\n",
      "time\n",
      "\ttime             \t (min:    0.007, max:    0.011, cur:    0.007)\n",
      "Loss\n",
      "\tloss             \t (min:    0.537, max:    0.682, cur:    0.537)\n",
      "time\n",
      "\ttime             \t (min:    0.007, max:    0.011, cur:    0.007)\n",
      "accuracy\n",
      "\taccuracy         \t (min:    0.650, max:    0.650, cur:    0.650)\n",
      "Loss\n",
      "\tloss             \t (min:    0.516, max:    0.682, cur:    0.516)\n",
      "time\n",
      "\ttime             \t (min:    0.007, max:    0.011, cur:    0.007)\n",
      "accuracy\n",
      "\taccuracy         \t (min:    0.650, max:    0.650, cur:    0.650)\n",
      "Loss\n",
      "\tloss             \t (min:    0.506, max:    0.682, cur:    0.506)\n",
      "time\n",
      "\ttime             \t (min:    0.007, max:    0.011, cur:    0.007)\n",
      "accuracy\n",
      "\taccuracy         \t (min:    0.650, max:    0.650, cur:    0.650)\n",
      "Loss\n",
      "\tloss             \t (min:    0.483, max:    0.682, cur:    0.483)\n",
      "time\n",
      "\ttime             \t (min:    0.007, max:    0.011, cur:    0.007)\n",
      "accuracy\n",
      "\taccuracy         \t (min:    0.650, max:    0.650, cur:    0.650)\n",
      "Loss\n",
      "\tloss             \t (min:    0.474, max:    0.682, cur:    0.474)\n",
      "time\n",
      "\ttime             \t (min:    0.007, max:    0.011, cur:    0.007)\n",
      "accuracy\n",
      "\taccuracy         \t (min:    0.650, max:    0.650, cur:    0.650)\n",
      "Loss\n",
      "\tloss             \t (min:    0.463, max:    0.682, cur:    0.463)\n",
      "time\n",
      "\ttime             \t (min:    0.007, max:    0.011, cur:    0.007)\n",
      "accuracy\n",
      "\taccuracy         \t (min:    0.650, max:    0.650, cur:    0.650)\n",
      "Loss\n",
      "\tloss             \t (min:    0.448, max:    0.682, cur:    0.448)\n",
      "time\n",
      "\ttime             \t (min:    0.007, max:    0.011, cur:    0.007)\n",
      "accuracy\n",
      "\taccuracy         \t (min:    0.650, max:    0.650, cur:    0.650)\n",
      "Loss\n",
      "\tloss             \t (min:    0.432, max:    0.682, cur:    0.432)\n",
      "time\n",
      "\ttime             \t (min:    0.007, max:    0.011, cur:    0.010)\n",
      "accuracy\n",
      "\taccuracy         \t (min:    0.650, max:    0.650, cur:    0.650)\n",
      "Loss\n",
      "\tloss             \t (min:    0.417, max:    0.682, cur:    0.417)\n",
      "time\n",
      "\ttime             \t (min:    0.007, max:    0.011, cur:    0.008)\n",
      "accuracy\n",
      "\taccuracy         \t (min:    0.650, max:    0.650, cur:    0.650)\n",
      "Loss\n",
      "\tloss             \t (min:    0.417, max:    0.682, cur:    0.424)\n",
      "time\n",
      "\ttime             \t (min:    0.007, max:    0.011, cur:    0.009)\n",
      "accuracy\n",
      "\taccuracy         \t (min:    0.650, max:    0.650, cur:    0.650)\n",
      "Loss\n",
      "\tloss             \t (min:    0.412, max:    0.682, cur:    0.412)\n",
      "time\n",
      "\ttime             \t (min:    0.007, max:    0.011, cur:    0.008)\n",
      "accuracy\n",
      "\taccuracy         \t (min:    0.650, max:    0.650, cur:    0.650)\n",
      "Loss\n",
      "\tloss             \t (min:    0.385, max:    0.682, cur:    0.385)\n",
      "time\n",
      "\ttime             \t (min:    0.007, max:    0.011, cur:    0.008)\n",
      "accuracy\n",
      "\taccuracy         \t (min:    0.650, max:    0.650, cur:    0.650)\n",
      "Loss\n",
      "\tloss             \t (min:    0.384, max:    0.682, cur:    0.384)\n",
      "time\n",
      "\ttime             \t (min:    0.007, max:    0.011, cur:    0.007)\n",
      "accuracy\n",
      "\taccuracy         \t (min:    0.650, max:    0.650, cur:    0.650)\n",
      "Loss\n",
      "\tloss             \t (min:    0.383, max:    0.682, cur:    0.383)\n",
      "time\n",
      "\ttime             \t (min:    0.007, max:    0.011, cur:    0.007)\n",
      "accuracy\n",
      "\taccuracy         \t (min:    0.650, max:    0.650, cur:    0.650)\n",
      "Loss\n",
      "\tloss             \t (min:    0.368, max:    0.682, cur:    0.368)\n",
      "time\n",
      "\ttime             \t (min:    0.007, max:    0.011, cur:    0.007)\n",
      "accuracy\n",
      "\taccuracy         \t (min:    0.650, max:    0.650, cur:    0.650)\n",
      "Loss\n",
      "\tloss             \t (min:    0.368, max:    0.682, cur:    0.380)\n",
      "time\n",
      "\ttime             \t (min:    0.007, max:    0.011, cur:    0.007)\n",
      "accuracy\n",
      "\taccuracy         \t (min:    0.650, max:    0.650, cur:    0.650)\n",
      "Loss\n",
      "\tloss             \t (min:    0.351, max:    0.682, cur:    0.351)\n",
      "time\n",
      "\ttime             \t (min:    0.007, max:    0.011, cur:    0.007)\n",
      "accuracy\n",
      "\taccuracy         \t (min:    0.650, max:    0.650, cur:    0.650)\n",
      "Loss\n",
      "\tloss             \t (min:    0.350, max:    0.682, cur:    0.350)\n",
      "time\n",
      "\ttime             \t (min:    0.007, max:    0.011, cur:    0.007)\n",
      "accuracy\n",
      "\taccuracy         \t (min:    0.650, max:    0.650, cur:    0.650)\n",
      "Loss\n",
      "\tloss             \t (min:    0.348, max:    0.682, cur:    0.348)\n",
      "time\n",
      "\ttime             \t (min:    0.007, max:    0.011, cur:    0.008)\n",
      "accuracy\n",
      "\taccuracy         \t (min:    0.650, max:    0.650, cur:    0.650)\n",
      "Loss\n",
      "\tloss             \t (min:    0.348, max:    0.682, cur:    0.349)\n",
      "time\n",
      "\ttime             \t (min:    0.007, max:    0.011, cur:    0.007)\n",
      "accuracy\n",
      "\taccuracy         \t (min:    0.650, max:    0.650, cur:    0.650)\n",
      "Loss\n",
      "\tloss             \t (min:    0.333, max:    0.682, cur:    0.333)\n",
      "time\n",
      "\ttime             \t (min:    0.007, max:    0.011, cur:    0.010)\n",
      "accuracy\n",
      "\taccuracy         \t (min:    0.650, max:    0.650, cur:    0.650)\n",
      "Loss\n",
      "\tloss             \t (min:    0.331, max:    0.682, cur:    0.331)\n",
      "time\n",
      "\ttime             \t (min:    0.007, max:    0.011, cur:    0.007)\n",
      "accuracy\n",
      "\taccuracy         \t (min:    0.650, max:    0.650, cur:    0.650)\n",
      "Loss\n",
      "\tloss             \t (min:    0.331, max:    0.682, cur:    0.334)\n",
      "time\n",
      "\ttime             \t (min:    0.007, max:    0.011, cur:    0.007)\n",
      "accuracy\n",
      "\taccuracy         \t (min:    0.650, max:    0.650, cur:    0.650)\n",
      "Loss\n",
      "\tloss             \t (min:    0.322, max:    0.682, cur:    0.322)\n",
      "time\n",
      "\ttime             \t (min:    0.007, max:    0.011, cur:    0.007)\n",
      "accuracy\n",
      "\taccuracy         \t (min:    0.650, max:    0.650, cur:    0.650)\n",
      "Loss\n",
      "\tloss             \t (min:    0.313, max:    0.682, cur:    0.313)\n",
      "time\n",
      "\ttime             \t (min:    0.007, max:    0.011, cur:    0.010)\n",
      "accuracy\n",
      "\taccuracy         \t (min:    0.650, max:    0.650, cur:    0.650)\n",
      "Loss\n",
      "\tloss             \t (min:    0.313, max:    0.682, cur:    0.326)\n",
      "time\n",
      "\ttime             \t (min:    0.007, max:    0.011, cur:    0.007)\n",
      "accuracy\n",
      "\taccuracy         \t (min:    0.650, max:    0.650, cur:    0.650)\n",
      "Loss\n",
      "\tloss             \t (min:    0.313, max:    0.682, cur:    0.329)\n",
      "time\n",
      "\ttime             \t (min:    0.007, max:    0.011, cur:    0.007)\n",
      "accuracy\n",
      "\taccuracy         \t (min:    0.650, max:    0.650, cur:    0.650)\n",
      "Loss\n",
      "\tloss             \t (min:    0.313, max:    0.682, cur:    0.317)\n",
      "time\n",
      "\ttime             \t (min:    0.007, max:    0.011, cur:    0.007)\n",
      "accuracy\n",
      "\taccuracy         \t (min:    0.650, max:    0.650, cur:    0.650)\n",
      "Loss\n",
      "\tloss             \t (min:    0.313, max:    0.682, cur:    0.317)\n",
      "time\n",
      "\ttime             \t (min:    0.007, max:    0.011, cur:    0.008)\n",
      "accuracy\n",
      "\taccuracy         \t (min:    0.650, max:    0.650, cur:    0.650)\n",
      "Loss\n",
      "\tloss             \t (min:    0.311, max:    0.682, cur:    0.311)\n",
      "time\n",
      "\ttime             \t (min:    0.007, max:    0.011, cur:    0.008)\n",
      "accuracy\n",
      "\taccuracy         \t (min:    0.650, max:    0.650, cur:    0.650)\n",
      "Loss\n",
      "\tloss             \t (min:    0.296, max:    0.682, cur:    0.296)\n",
      "time\n",
      "\ttime             \t (min:    0.007, max:    0.011, cur:    0.010)\n",
      "accuracy\n",
      "\taccuracy         \t (min:    0.650, max:    0.667, cur:    0.667)\n",
      "Loss\n",
      "\tloss             \t (min:    0.296, max:    0.682, cur:    0.299)\n",
      "time\n",
      "\ttime             \t (min:    0.007, max:    0.011, cur:    0.007)\n",
      "accuracy\n",
      "\taccuracy         \t (min:    0.650, max:    0.667, cur:    0.667)\n",
      "Loss\n",
      "\tloss             \t (min:    0.296, max:    0.682, cur:    0.300)\n",
      "time\n",
      "\ttime             \t (min:    0.007, max:    0.011, cur:    0.007)\n"
     ]
    },
    {
     "name": "stdout",
     "output_type": "stream",
     "text": [
      "accuracy\n",
      "\taccuracy         \t (min:    0.650, max:    0.667, cur:    0.667)\n",
      "Loss\n",
      "\tloss             \t (min:    0.296, max:    0.682, cur:    0.302)\n",
      "time\n",
      "\ttime             \t (min:    0.007, max:    0.011, cur:    0.007)\n",
      "accuracy\n",
      "\taccuracy         \t (min:    0.650, max:    0.667, cur:    0.667)\n",
      "Loss\n",
      "\tloss             \t (min:    0.288, max:    0.682, cur:    0.288)\n",
      "time\n",
      "\ttime             \t (min:    0.007, max:    0.011, cur:    0.007)\n",
      "accuracy\n",
      "\taccuracy         \t (min:    0.650, max:    0.667, cur:    0.667)\n",
      "Loss\n",
      "\tloss             \t (min:    0.288, max:    0.682, cur:    0.302)\n",
      "time\n",
      "\ttime             \t (min:    0.007, max:    0.011, cur:    0.007)\n",
      "accuracy\n",
      "\taccuracy         \t (min:    0.650, max:    0.667, cur:    0.667)\n",
      "Loss\n",
      "\tloss             \t (min:    0.288, max:    0.682, cur:    0.304)\n",
      "time\n",
      "\ttime             \t (min:    0.007, max:    0.011, cur:    0.008)\n",
      "accuracy\n",
      "\taccuracy         \t (min:    0.650, max:    0.667, cur:    0.667)\n",
      "Loss\n",
      "\tloss             \t (min:    0.282, max:    0.682, cur:    0.282)\n",
      "time\n",
      "\ttime             \t (min:    0.007, max:    0.011, cur:    0.010)\n",
      "accuracy\n",
      "\taccuracy         \t (min:    0.650, max:    0.667, cur:    0.667)\n",
      "Loss\n",
      "\tloss             \t (min:    0.282, max:    0.682, cur:    0.293)\n",
      "time\n",
      "\ttime             \t (min:    0.007, max:    0.011, cur:    0.008)\n",
      "accuracy\n",
      "\taccuracy         \t (min:    0.650, max:    0.667, cur:    0.667)\n",
      "Loss\n",
      "\tloss             \t (min:    0.279, max:    0.682, cur:    0.279)\n",
      "time\n",
      "\ttime             \t (min:    0.007, max:    0.011, cur:    0.007)\n",
      "accuracy\n",
      "\taccuracy         \t (min:    0.650, max:    0.667, cur:    0.667)\n",
      "Loss\n",
      "\tloss             \t (min:    0.279, max:    0.682, cur:    0.294)\n",
      "time\n",
      "\ttime             \t (min:    0.007, max:    0.011, cur:    0.007)\n",
      "accuracy\n",
      "\taccuracy         \t (min:    0.650, max:    0.750, cur:    0.750)\n",
      "Loss\n",
      "\tloss             \t (min:    0.279, max:    0.682, cur:    0.295)\n",
      "time\n",
      "\ttime             \t (min:    0.007, max:    0.011, cur:    0.010)\n",
      "accuracy\n",
      "\taccuracy         \t (min:    0.650, max:    0.750, cur:    0.750)\n",
      "Loss\n",
      "\tloss             \t (min:    0.279, max:    0.682, cur:    0.288)\n",
      "time\n",
      "\ttime             \t (min:    0.007, max:    0.011, cur:    0.010)\n",
      "accuracy\n",
      "\taccuracy         \t (min:    0.650, max:    0.750, cur:    0.750)\n",
      "Loss\n",
      "\tloss             \t (min:    0.279, max:    0.682, cur:    0.281)\n",
      "time\n",
      "\ttime             \t (min:    0.007, max:    0.011, cur:    0.009)\n",
      "accuracy\n",
      "\taccuracy         \t (min:    0.650, max:    0.750, cur:    0.750)\n",
      "Loss\n",
      "\tloss             \t (min:    0.279, max:    0.682, cur:    0.285)\n",
      "time\n",
      "\ttime             \t (min:    0.007, max:    0.011, cur:    0.008)\n",
      "accuracy\n",
      "\taccuracy         \t (min:    0.650, max:    0.750, cur:    0.750)\n",
      "Loss\n",
      "\tloss             \t (min:    0.279, max:    0.682, cur:    0.282)\n",
      "time\n",
      "\ttime             \t (min:    0.007, max:    0.011, cur:    0.008)\n",
      "accuracy\n",
      "\taccuracy         \t (min:    0.650, max:    0.750, cur:    0.750)\n",
      "Loss\n",
      "\tloss             \t (min:    0.279, max:    0.682, cur:    0.281)\n",
      "time\n",
      "\ttime             \t (min:    0.007, max:    0.011, cur:    0.010)\n",
      "accuracy\n",
      "\taccuracy         \t (min:    0.650, max:    0.750, cur:    0.750)\n",
      "Loss\n",
      "\tloss             \t (min:    0.279, max:    0.682, cur:    0.282)\n",
      "time\n",
      "\ttime             \t (min:    0.007, max:    0.011, cur:    0.007)\n",
      "accuracy\n",
      "\taccuracy         \t (min:    0.650, max:    0.750, cur:    0.750)\n",
      "Loss\n",
      "\tloss             \t (min:    0.279, max:    0.682, cur:    0.280)\n",
      "time\n",
      "\ttime             \t (min:    0.007, max:    0.011, cur:    0.008)\n",
      "accuracy\n",
      "\taccuracy         \t (min:    0.650, max:    0.750, cur:    0.750)\n",
      "Loss\n",
      "\tloss             \t (min:    0.276, max:    0.682, cur:    0.276)\n",
      "time\n",
      "\ttime             \t (min:    0.007, max:    0.011, cur:    0.007)\n",
      "accuracy\n",
      "\taccuracy         \t (min:    0.650, max:    0.750, cur:    0.750)\n",
      "Loss\n",
      "\tloss             \t (min:    0.271, max:    0.682, cur:    0.271)\n",
      "time\n",
      "\ttime             \t (min:    0.007, max:    0.011, cur:    0.008)\n",
      "accuracy\n",
      "\taccuracy         \t (min:    0.650, max:    0.933, cur:    0.933)\n",
      "Loss\n",
      "\tloss             \t (min:    0.271, max:    0.682, cur:    0.290)\n",
      "time\n",
      "\ttime             \t (min:    0.007, max:    0.011, cur:    0.008)\n",
      "accuracy\n",
      "\taccuracy         \t (min:    0.650, max:    0.933, cur:    0.933)\n",
      "Loss\n",
      "\tloss             \t (min:    0.271, max:    0.682, cur:    0.288)\n",
      "time\n",
      "\ttime             \t (min:    0.007, max:    0.011, cur:    0.007)\n",
      "accuracy\n",
      "\taccuracy         \t (min:    0.650, max:    0.933, cur:    0.933)\n",
      "Loss\n",
      "\tloss             \t (min:    0.268, max:    0.682, cur:    0.268)\n",
      "time\n",
      "\ttime             \t (min:    0.007, max:    0.011, cur:    0.007)\n",
      "accuracy\n",
      "\taccuracy         \t (min:    0.650, max:    0.933, cur:    0.933)\n",
      "Loss\n",
      "\tloss             \t (min:    0.265, max:    0.682, cur:    0.265)\n",
      "time\n",
      "\ttime             \t (min:    0.007, max:    0.011, cur:    0.007)\n",
      "accuracy\n",
      "\taccuracy         \t (min:    0.650, max:    0.933, cur:    0.933)\n",
      "Loss\n",
      "\tloss             \t (min:    0.265, max:    0.682, cur:    0.286)\n",
      "time\n",
      "\ttime             \t (min:    0.007, max:    0.011, cur:    0.007)\n",
      "accuracy\n",
      "\taccuracy         \t (min:    0.650, max:    0.933, cur:    0.933)\n",
      "Loss\n",
      "\tloss             \t (min:    0.265, max:    0.682, cur:    0.267)\n",
      "time\n",
      "\ttime             \t (min:    0.007, max:    0.011, cur:    0.007)\n",
      "accuracy\n",
      "\taccuracy         \t (min:    0.650, max:    0.933, cur:    0.933)\n",
      "Loss\n",
      "\tloss             \t (min:    0.265, max:    0.682, cur:    0.282)\n",
      "time\n",
      "\ttime             \t (min:    0.007, max:    0.011, cur:    0.008)\n",
      "accuracy\n",
      "\taccuracy         \t (min:    0.650, max:    0.933, cur:    0.933)\n",
      "Loss\n",
      "\tloss             \t (min:    0.265, max:    0.682, cur:    0.265)\n",
      "time\n",
      "\ttime             \t (min:    0.007, max:    0.011, cur:    0.008)\n",
      "accuracy\n",
      "\taccuracy         \t (min:    0.650, max:    0.933, cur:    0.933)\n",
      "Loss\n",
      "\tloss             \t (min:    0.265, max:    0.682, cur:    0.275)\n",
      "time\n",
      "\ttime             \t (min:    0.007, max:    0.011, cur:    0.007)\n",
      "accuracy\n",
      "\taccuracy         \t (min:    0.650, max:    0.933, cur:    0.933)\n",
      "Loss\n",
      "\tloss             \t (min:    0.255, max:    0.682, cur:    0.255)\n",
      "time\n",
      "\ttime             \t (min:    0.007, max:    0.011, cur:    0.008)\n",
      "accuracy\n",
      "\taccuracy         \t (min:    0.650, max:    0.967, cur:    0.967)\n",
      "Loss\n",
      "\tloss             \t (min:    0.255, max:    0.682, cur:    0.258)\n",
      "time\n",
      "\ttime             \t (min:    0.007, max:    0.011, cur:    0.008)\n",
      "accuracy\n",
      "\taccuracy         \t (min:    0.650, max:    0.967, cur:    0.967)\n",
      "Loss\n",
      "\tloss             \t (min:    0.255, max:    0.682, cur:    0.260)\n",
      "time\n",
      "\ttime             \t (min:    0.007, max:    0.011, cur:    0.007)\n",
      "accuracy\n",
      "\taccuracy         \t (min:    0.650, max:    0.967, cur:    0.967)\n",
      "Loss\n",
      "\tloss             \t (min:    0.255, max:    0.682, cur:    0.266)\n",
      "time\n",
      "\ttime             \t (min:    0.007, max:    0.011, cur:    0.008)\n",
      "accuracy\n",
      "\taccuracy         \t (min:    0.650, max:    0.967, cur:    0.967)\n",
      "Loss\n",
      "\tloss             \t (min:    0.253, max:    0.682, cur:    0.253)\n",
      "time\n",
      "\ttime             \t (min:    0.007, max:    0.011, cur:    0.007)\n",
      "accuracy\n",
      "\taccuracy         \t (min:    0.650, max:    0.967, cur:    0.967)\n",
      "Loss\n",
      "\tloss             \t (min:    0.253, max:    0.682, cur:    0.283)\n",
      "time\n",
      "\ttime             \t (min:    0.007, max:    0.011, cur:    0.007)\n",
      "accuracy\n",
      "\taccuracy         \t (min:    0.650, max:    0.967, cur:    0.967)\n",
      "Loss\n",
      "\tloss             \t (min:    0.253, max:    0.682, cur:    0.259)\n",
      "time\n",
      "\ttime             \t (min:    0.007, max:    0.011, cur:    0.007)\n",
      "2020-10-19 16:10:35.765 | WARNING  | pypads.injections.analysis.parameters:__post__:128 - No parameters are defined on the mapping file for <class 'sklearn.preprocessing._label.LabelEncoder'>. Trying to log parameters without schema definition programmatically.\n",
      "2020-10-19 16:10:35.852 | WARNING  | pypads.injections.analysis.parameters:__post__:128 - No parameters are defined on the mapping file for <class 'sklearn.preprocessing._label.LabelEncoder'>. Trying to log parameters without schema definition programmatically.\n",
      "2020-10-19 16:10:35.940 | WARNING  | pypads.injections.analysis.parameters:__post__:128 - No parameters are defined on the mapping file for <class 'sklearn.preprocessing._label.LabelEncoder'>. Trying to log parameters without schema definition programmatically.\n",
      "2020-10-19 16:10:36.024 | WARNING  | pypads.injections.analysis.parameters:__post__:128 - No parameters are defined on the mapping file for <class 'sklearn.preprocessing._label.LabelEncoder'>. Trying to log parameters without schema definition programmatically.\n"
     ]
    },
    {
     "name": "stdout",
     "output_type": "stream",
     "text": [
      "              precision    recall  f1-score   support\n",
      "\n",
      "           0       1.00      1.00      1.00        19\n",
      "           1       1.00      0.86      0.92        21\n",
      "           2       0.87      1.00      0.93        20\n",
      "\n",
      "    accuracy                           0.95        60\n",
      "   macro avg       0.96      0.95      0.95        60\n",
      "weighted avg       0.96      0.95      0.95        60\n",
      "\n",
      "backend_uri='http://mlflow.padre-lab.eu' experiment_id='4' experiment_name='PyTorch Example' run_id='3e55a23a818c4ab19d2d213cf1811a20' created_at=1603116611.6282196 clazz=\"<class 'pypads.model.logger_output.MetricMetaModel'>\" category='MLMetric' storage_type=<ResultType.metric: 'metric'> uid='72500674-69ea-47c7-b6cc-01ab827f348a' id='72500674-69ea-47c7-b6cc-01ab827f348a.metric' produced_by='00000000-0000-0000-0000-000000000000.logger' producer_type=<ResultType.logger: 'logger'> part_of='ee767d76-18cb-46aa-85df-fcfb6622829c.output' parent_type=<ResultType.output: 'output'> description='Accuracy of the model' additional_data=None name='accuracy' step=10 data=0.65\n",
      "backend_uri='http://mlflow.padre-lab.eu' experiment_id='4' experiment_name='PyTorch Example' run_id='3e55a23a818c4ab19d2d213cf1811a20' created_at=1603116615.3187015 clazz=\"<class 'pypads.model.logger_output.MetricMetaModel'>\" category='MLMetric' storage_type=<ResultType.metric: 'metric'> uid='04e8472a-8d73-4078-8202-864560d4cacc' id='04e8472a-8d73-4078-8202-864560d4cacc.metric' produced_by='00000000-0000-0000-0000-000000000000.logger' producer_type=<ResultType.logger: 'logger'> part_of='ee767d76-18cb-46aa-85df-fcfb6622829c.output' parent_type=<ResultType.output: 'output'> description='Accuracy of the model' additional_data=None name='accuracy' step=20 data=0.65\n",
      "backend_uri='http://mlflow.padre-lab.eu' experiment_id='4' experiment_name='PyTorch Example' run_id='3e55a23a818c4ab19d2d213cf1811a20' created_at=1603116618.7617037 clazz=\"<class 'pypads.model.logger_output.MetricMetaModel'>\" category='MLMetric' storage_type=<ResultType.metric: 'metric'> uid='3cb90f10-2e14-4076-b753-58ff24536a1a' id='3cb90f10-2e14-4076-b753-58ff24536a1a.metric' produced_by='00000000-0000-0000-0000-000000000000.logger' producer_type=<ResultType.logger: 'logger'> part_of='ee767d76-18cb-46aa-85df-fcfb6622829c.output' parent_type=<ResultType.output: 'output'> description='Accuracy of the model' additional_data=None name='accuracy' step=30 data=0.65\n",
      "backend_uri='http://mlflow.padre-lab.eu' experiment_id='4' experiment_name='PyTorch Example' run_id='3e55a23a818c4ab19d2d213cf1811a20' created_at=1603116622.5855973 clazz=\"<class 'pypads.model.logger_output.MetricMetaModel'>\" category='MLMetric' storage_type=<ResultType.metric: 'metric'> uid='e76fe77b-34a5-4bb0-962b-e293dedf1714' id='e76fe77b-34a5-4bb0-962b-e293dedf1714.metric' produced_by='00000000-0000-0000-0000-000000000000.logger' producer_type=<ResultType.logger: 'logger'> part_of='ee767d76-18cb-46aa-85df-fcfb6622829c.output' parent_type=<ResultType.output: 'output'> description='Accuracy of the model' additional_data=None name='accuracy' step=40 data=0.6666666666666666\n",
      "backend_uri='http://mlflow.padre-lab.eu' experiment_id='4' experiment_name='PyTorch Example' run_id='3e55a23a818c4ab19d2d213cf1811a20' created_at=1603116626.177669 clazz=\"<class 'pypads.model.logger_output.MetricMetaModel'>\" category='MLMetric' storage_type=<ResultType.metric: 'metric'> uid='0e3f5504-fcad-4eb2-8018-b53b64d1bcb1' id='0e3f5504-fcad-4eb2-8018-b53b64d1bcb1.metric' produced_by='00000000-0000-0000-0000-000000000000.logger' producer_type=<ResultType.logger: 'logger'> part_of='ee767d76-18cb-46aa-85df-fcfb6622829c.output' parent_type=<ResultType.output: 'output'> description='Accuracy of the model' additional_data=None name='accuracy' step=50 data=0.75\n",
      "backend_uri='http://mlflow.padre-lab.eu' experiment_id='4' experiment_name='PyTorch Example' run_id='3e55a23a818c4ab19d2d213cf1811a20' created_at=1603116629.8231497 clazz=\"<class 'pypads.model.logger_output.MetricMetaModel'>\" category='MLMetric' storage_type=<ResultType.metric: 'metric'> uid='dce2338d-35f9-49da-baec-b71b0bd5e5ce' id='dce2338d-35f9-49da-baec-b71b0bd5e5ce.metric' produced_by='00000000-0000-0000-0000-000000000000.logger' producer_type=<ResultType.logger: 'logger'> part_of='ee767d76-18cb-46aa-85df-fcfb6622829c.output' parent_type=<ResultType.output: 'output'> description='Accuracy of the model' additional_data=None name='accuracy' step=60 data=0.9333333333333333\n",
      "backend_uri='http://mlflow.padre-lab.eu' experiment_id='4' experiment_name='PyTorch Example' run_id='3e55a23a818c4ab19d2d213cf1811a20' created_at=1603116633.533571 clazz=\"<class 'pypads.model.logger_output.MetricMetaModel'>\" category='MLMetric' storage_type=<ResultType.metric: 'metric'> uid='c4073c9b-ebb2-4090-b493-2abb092afa36' id='c4073c9b-ebb2-4090-b493-2abb092afa36.metric' produced_by='00000000-0000-0000-0000-000000000000.logger' producer_type=<ResultType.logger: 'logger'> part_of='ee767d76-18cb-46aa-85df-fcfb6622829c.output' parent_type=<ResultType.output: 'output'> description='Accuracy of the model' additional_data=None name='accuracy' step=70 data=0.9666666666666667\n",
      "backend_uri='http://mlflow.padre-lab.eu' experiment_id='4' experiment_name='PyTorch Example' run_id='3e55a23a818c4ab19d2d213cf1811a20' created_at=1603116636.0483623 clazz=\"<class 'pypads.model.logger_output.MetricMetaModel'>\" category='MLMetric' storage_type=<ResultType.metric: 'metric'> uid='1137a69e-a377-4e13-bb52-0949b702f0b2' id='1137a69e-a377-4e13-bb52-0949b702f0b2.metric' produced_by='00000000-0000-0000-0000-000000000000.logger' producer_type=<ResultType.logger: 'logger'> part_of='ee767d76-18cb-46aa-85df-fcfb6622829c.output' parent_type=<ResultType.output: 'output'> description='Accuracy of the model' additional_data=None name='accuracy' step=0 data=0.95\n",
      "[MetricMetaModel(backend_uri='http://mlflow.padre-lab.eu', experiment_id='4', experiment_name='PyTorch Example', run_id='3e55a23a818c4ab19d2d213cf1811a20', created_at=1603116618.7617037, clazz=\"<class 'pypads.model.logger_output.MetricMetaModel'>\", category='MLMetric', storage_type=<ResultType.metric: 'metric'>, uid='3cb90f10-2e14-4076-b753-58ff24536a1a', id='3cb90f10-2e14-4076-b753-58ff24536a1a.metric', produced_by='00000000-0000-0000-0000-000000000000.logger', producer_type=<ResultType.logger: 'logger'>, part_of='ee767d76-18cb-46aa-85df-fcfb6622829c.output', parent_type=<ResultType.output: 'output'>, description='Accuracy of the model', additional_data=None, name='accuracy', step=30, data=0.65)]\n",
      "[10, 10, 3]\n"
     ]
    }
   ],
   "source": [
    "from pypads.app.base import PyPads\n",
    "\n",
    "tracker = PyPads(uri=\"http://mlflow.padre-lab.eu\")\n",
    "tracker.activate_tracking()\n",
    "tracker.start_track(experiment_name=\"PyTorch Example\")"
   ]
  },
  {
   "cell_type": "code",
   "execution_count": 3,
   "metadata": {},
   "outputs": [
    {
     "name": "stderr",
     "output_type": "stream",
     "text": [
      "/home/christofer/PycharmProjects/pypads-notebooks/venv/lib/python3.7/site-packages/ipykernel/ipkernel.py:287: DeprecationWarning: `should_run_async` will not call `transform_cell` automatically in the future. Please pass the result to `transformed_cell` argument and any exception that happen during thetransform in `preprocessing_exc_tuple` in IPython 7.17 and above.\n",
      "  and should_run_async(code)\n",
      "/home/christofer/PycharmProjects/pypads-notebooks/venv/lib/python3.7/site-packages/torch/distributed/distributed_c10d.py:125: UserWarning: torch.distributed.reduce_op is deprecated, please use torch.distributed.ReduceOp instead\n",
      "  warnings.warn(\"torch.distributed.reduce_op is deprecated, please use \"\n"
     ]
    }
   ],
   "source": [
    "# Set the random seed to 1\n",
    "tracker.actuators.set_random_seed(seed=1)"
   ]
  },
  {
   "cell_type": "markdown",
   "metadata": {},
   "source": [
    "## Import the dataset from Scikit-learn"
   ]
  },
  {
   "cell_type": "code",
   "execution_count": 4,
   "metadata": {},
   "outputs": [
    {
     "name": "stderr",
     "output_type": "stream",
     "text": [
      "/home/christofer/PycharmProjects/pypads-notebooks/venv/lib/python3.7/site-packages/ipykernel/ipkernel.py:287: DeprecationWarning: `should_run_async` will not call `transform_cell` automatically in the future. Please pass the result to `transformed_cell` argument and any exception that happen during thetransform in `preprocessing_exc_tuple` in IPython 7.17 and above.\n",
      "  and should_run_async(code)\n"
     ]
    }
   ],
   "source": [
    "from sklearn import datasets\n",
    "\n",
    "# load the iris datasets\n",
    "dataset = datasets.load_iris()\n",
    "X = dataset.data\n",
    "y = dataset.target\n"
   ]
  },
  {
   "cell_type": "markdown",
   "metadata": {},
   "source": [
    "### Do the test train split"
   ]
  },
  {
   "cell_type": "code",
   "execution_count": 5,
   "metadata": {},
   "outputs": [
    {
     "name": "stderr",
     "output_type": "stream",
     "text": [
      "/home/christofer/PycharmProjects/pypads-notebooks/venv/lib/python3.7/site-packages/ipykernel/ipkernel.py:287: DeprecationWarning: `should_run_async` will not call `transform_cell` automatically in the future. Please pass the result to `transformed_cell` argument and any exception that happen during thetransform in `preprocessing_exc_tuple` in IPython 7.17 and above.\n",
      "  and should_run_async(code)\n"
     ]
    },
    {
     "data": {
      "text/plain": [
       "(90, 5)"
      ]
     },
     "execution_count": 5,
     "metadata": {},
     "output_type": "execute_result"
    }
   ],
   "source": [
    "from sklearn.model_selection import train_test_split\n",
    "from sklearn.metrics import classification_report, accuracy_score\n",
    "import numpy as np\n",
    "\n",
    "X_train, X_test, y_train, y_test = train_test_split(X, y, test_size=.4)\n",
    "\n",
    "# PyTorch Dataloader takes the data as one block which includes the features and labels\n",
    "# Append labels to the features\n",
    "train = np.append(X_train, y_train.reshape((y_train.shape[0],1)), axis=1)\n",
    "train.shape"
   ]
  },
  {
   "cell_type": "markdown",
   "metadata": {},
   "source": [
    "## Create Torch class for accepting neural network shapes"
   ]
  },
  {
   "cell_type": "code",
   "execution_count": 6,
   "metadata": {},
   "outputs": [],
   "source": [
    "import torch\n",
    "from torch import nn\n",
    "from typing import Any\n",
    "from collections import OrderedDict\n",
    "\n",
    "class Model(nn.Module):\n",
    "    def _forward_unimplemented(self, *input: Any) -> None:\n",
    "        pass\n",
    "    \n",
    "    def __init__(self, feature_shape, leaky_value=0.05, shape=[30, 50, 1]):\n",
    "        \n",
    "        # Model can have as many layers as the user wishes\n",
    "        super(Model, self).__init__()\n",
    "        layers = [feature_shape] + shape\n",
    "        layer_list = OrderedDict()\n",
    "        for idx in range(1, len(layers)):\n",
    "            layer_list[str(idx)] = nn.Linear(layers[idx-1], layers[idx])\n",
    "            layer_list['Relu' + str(idx)] = nn.LeakyReLU(leaky_value, inplace=True)\n",
    "\n",
    "        layer_list['Sigmoid'] = nn.Sigmoid()\n",
    "        self.model = nn.Sequential(layer_list)\n",
    "\n",
    "    def forward(self, img):\n",
    "        img_flat = img.view(img.size(0), -1)\n",
    "        validity = self.model(img_flat)\n",
    "        return validity\n",
    "    "
   ]
  },
  {
   "cell_type": "code",
   "execution_count": 7,
   "metadata": {},
   "outputs": [],
   "source": [
    "# Define the various training parameters\n",
    "num_features = X.shape[1]\n",
    "num_labels = 3\n",
    "num_epochs = 75\n",
    "test_every = 10\n",
    "h_lr = 0.005\n",
    "h_b1 = 0.5\n",
    "h_b2 = 0.999\n",
    "batch_size = 10\n",
    "neural_network_shape = [10, 10, 3]"
   ]
  },
  {
   "cell_type": "markdown",
   "metadata": {},
   "source": [
    "## Track the parameters using PyPads"
   ]
  },
  {
   "cell_type": "code",
   "execution_count": 8,
   "metadata": {},
   "outputs": [
    {
     "data": {
      "text/plain": [
       "'f29bc58e-17e3-4907-a544-b636d732924e.parameter'"
      ]
     },
     "execution_count": 8,
     "metadata": {},
     "output_type": "execute_result"
    }
   ],
   "source": [
    "# Normal parameters can be stored as is in MLFlow\n",
    "tracker.api.log_param(key='lr', value=h_lr, description='Learning rate')"
   ]
  },
  {
   "cell_type": "code",
   "execution_count": 9,
   "metadata": {},
   "outputs": [
    {
     "data": {
      "text/plain": [
       "'be60da33-2414-486b-b39f-f2b5881e62a6.parameter'"
      ]
     },
     "execution_count": 9,
     "metadata": {},
     "output_type": "execute_result"
    }
   ],
   "source": [
    "# MLFlow takes in strings as parameters. So convert the value to string\n",
    "tracker.api.log_param(key='networks_shape', value=str(neural_network_shape), description='Shape of the fully connected network')"
   ]
  },
  {
   "cell_type": "code",
   "execution_count": 10,
   "metadata": {},
   "outputs": [],
   "source": [
    "# Create the model\n",
    "model = Model(feature_shape=num_features, shape=neural_network_shape)"
   ]
  },
  {
   "cell_type": "code",
   "execution_count": 11,
   "metadata": {},
   "outputs": [],
   "source": [
    "# Create the optimizer\n",
    "optimizer = torch.optim.Adam(model.parameters(), lr=h_lr, betas=(h_b1, h_b2))"
   ]
  },
  {
   "cell_type": "code",
   "execution_count": 12,
   "metadata": {},
   "outputs": [],
   "source": [
    "# Create the loss function\n",
    "loss_ = torch.nn.BCELoss()"
   ]
  },
  {
   "cell_type": "code",
   "execution_count": 13,
   "metadata": {},
   "outputs": [],
   "source": [
    "# Function to train for one epoch\n",
    "from torch.utils.data import DataLoader\n",
    "\n",
    "def train_one_epoch(model, loader: DataLoader, tensor, optimizer, loss_, scheduler=None):\n",
    "    total_loss = 0\n",
    "    n_iter = 0\n",
    "    for batch_idx, (batch_train_features, batch_train_labels) in enumerate(loader):\n",
    "\n",
    "        features_batch = tensor(batch_train_features.type(torch.FloatTensor))\n",
    "        labels_batch = tensor(batch_train_labels)\n",
    "        \n",
    "        optimizer.zero_grad()\n",
    "\n",
    "        # Compute loss\n",
    "        forward = model.forward(features_batch)\n",
    "        _loss = loss_(forward, labels_batch)\n",
    "        \n",
    "        # Do backpropagation and update weights\n",
    "        _loss.backward()\n",
    "        optimizer.step()\n",
    "        \n",
    "        # If there is a learning rate scheduler do the step.\n",
    "        if scheduler is not None:\n",
    "            scheduler.step()\n",
    "        \n",
    "        # Compute the total loss\n",
    "        total_loss += _loss\n",
    "        n_iter += 1\n",
    "    \n",
    "    # Return average loss\n",
    "    return total_loss / n_iter"
   ]
  },
  {
   "cell_type": "code",
   "execution_count": 14,
   "metadata": {},
   "outputs": [],
   "source": [
    "# Function to split the batch into features and labels\n",
    "def sample_collate(batch):\n",
    "    # Hard coded values for classification and iris dataset\n",
    "    one_hot = True\n",
    "    num_labels = 3\n",
    "    \n",
    "    # Stack each tensor variable\n",
    "    X = torch.stack([torch.tensor(x[:-1]) for x in batch])\n",
    "    \n",
    "    # Convert to one hot encoding, if needed\n",
    "    if one_hot is False:\n",
    "        Y = [y[-1] for y in batch]\n",
    "    else:\n",
    "        Y = torch.zeros(len(batch), num_labels)\n",
    "        for idx in range(len(batch)):\n",
    "            Y[idx][int(batch[idx][-1])] = 1\n",
    "    \n",
    "    # Return features and labels\n",
    "    return X, Y"
   ]
  },
  {
   "cell_type": "code",
   "execution_count": 15,
   "metadata": {},
   "outputs": [],
   "source": [
    "# Create the data loader for training. Sample collate function is defined in the previous cell\n",
    "loader = DataLoader(train, batch_size=10, shuffle=True, collate_fn=sample_collate)"
   ]
  },
  {
   "cell_type": "code",
   "execution_count": 16,
   "metadata": {},
   "outputs": [
    {
     "name": "stderr",
     "output_type": "stream",
     "text": [
      "/home/christofer/PycharmProjects/pypads-notebooks/venv/lib/python3.7/site-packages/ipywidgets/widgets/widget.py:412: DeprecationWarning: Passing unrecognized arguments to super(FloatProgress).__init__(step=0.1).\n",
      "object.__init__() takes exactly one argument (the instance to initialize)\n",
      "This is deprecated in traitlets 4.2.This error will be raised in a future release of traitlets.\n",
      "  super(Widget, self).__init__(**kwargs)\n"
     ]
    }
   ],
   "source": [
    "# Create a progress bar for the training\n",
    "import ipywidgets as widgets\n",
    "from IPython.display import display\n",
    "\n",
    "t = widgets.FloatProgress(value=0,\n",
    "                          min=0,\n",
    "                          max=1.0,\n",
    "                          step=0.1,\n",
    "                          description='Loading:',\n",
    "                          bar_style='info',\n",
    "                          orientation='horizontal')"
   ]
  },
  {
   "cell_type": "code",
   "execution_count": 17,
   "metadata": {},
   "outputs": [
    {
     "data": {
      "application/vnd.jupyter.widget-view+json": {
       "model_id": "d1a9eac2653542f9a2e84589333a60a5",
       "version_major": 2,
       "version_minor": 0
      },
      "text/plain": [
       "FloatProgress(value=0.0, bar_style='info', description='Loading:', max=1.0)"
      ]
     },
     "metadata": {},
     "output_type": "display_data"
    }
   ],
   "source": [
    "# Set the labels as integers from 0 to the number of labels\n",
    "labels = [i for i in range(num_labels)]\n",
    "\n",
    "\n",
    "# Use CUDA if it is available\n",
    "cuda = True if torch.cuda.is_available() else False\n",
    "tensor = torch.cuda.FloatStorage if cuda else torch.FloatTensor\n",
    "\n",
    "\n",
    "# Do a test of the initial accuracy of the classifier\n",
    "results = model.forward(tensor(X_test))\n",
    "predicted = torch.max(results.data, 1)\n",
    "y_pred = predicted.indices.tolist()\n",
    "\n",
    "# Print the initial accuracy\n",
    "print('Initial accuracy is %f ' % accuracy_score(y_true=y_test.tolist(), y_pred=y_pred))\n",
    "\n",
    "# Display the initial progress bar\n",
    "display(t)\n"
   ]
  },
  {
   "cell_type": "code",
   "execution_count": 18,
   "metadata": {},
   "outputs": [
    {
     "data": {
      "image/png": "[encoded data removed]",
      "text/plain": [
       "<Figure size 864x864 with 4 Axes>"
      ]
     },
     "metadata": {
      "needs_background": "light"
     },
     "output_type": "display_data"
    }
   ],
   "source": [
    "from livelossplot import PlotLosses\n",
    "from time import time\n",
    "import matplotlib.pyplot as plt\n",
    "\n",
    "epochs_trained = 0\n",
    "\n",
    "# Plot losses help with visualizing the loss at run time as a live plot\n",
    "liveloss = PlotLosses()\n",
    "\n",
    "for idx in range(num_epochs):\n",
    "\n",
    "    t1 = time()\n",
    "    n_iter = 0\n",
    "    average_loss = 0.0\n",
    "\n",
    "    average_loss = train_one_epoch(model=model, loader=loader, optimizer=optimizer, loss_=loss_, tensor=tensor)\n",
    "    \n",
    "    t2 = time()\n",
    "    epochs_trained += 1\n",
    "    \n",
    "    # Update the progress bar\n",
    "    # Progress bar will be updated in the previous cell because the plots are draw over it\n",
    "    t.value = epochs_trained/num_epochs\n",
    "    \n",
    "    # Create dictionary for live plot\n",
    "    logs = {}\n",
    "    \n",
    "    # Test every certain number of epochs\n",
    "    if epochs_trained % test_every == 0:\n",
    "        \n",
    "        # Do a forward pass\n",
    "        results = model.forward(tensor(X_test))\n",
    "        \n",
    "        # Get the predicted classes. Predicted classes have the max values\n",
    "        predicted = torch.max(results.data, 1)\n",
    "        \n",
    "        # Get the indices corresponding to the max values and convert them to a list. \n",
    "        y_pred = predicted.indices.tolist()\n",
    "        \n",
    "        # Compute the accuracy_score and log it to PyPads.\n",
    "        # Note the step parameter specifies the step in training where this accuracy was obtained.\n",
    "        accuracy = accuracy_score(y_true=y_test.tolist(), y_pred=y_pred)\n",
    "        tracker.api.log_metric(key='accuracy', value=accuracy, description='Accuracy of the model', step=epochs_trained)\n",
    "        \n",
    "        # Add accuracy to the dictionary\n",
    "        logs['accuracy'] = accuracy\n",
    "        \n",
    "    # Update the dictionary with average_loss and execution time and plot it\n",
    "    logs['loss'] = average_loss\n",
    "    logs['time'] = t2 - t1\n",
    "    liveloss.update(logs)\n",
    "    liveloss.send()"
   ]
  },
  {
   "cell_type": "code",
   "execution_count": 19,
   "metadata": {},
   "outputs": [
    {
     "name": "stderr",
     "output_type": "stream",
     "text": [
      "/home/christofer/PycharmProjects/pypads-notebooks/venv/lib/python3.7/site-packages/ipykernel/ipkernel.py:287: DeprecationWarning: `should_run_async` will not call `transform_cell` automatically in the future. Please pass the result to `transformed_cell` argument and any exception that happen during thetransform in `preprocessing_exc_tuple` in IPython 7.17 and above.\n",
      "  and should_run_async(code)\n"
     ]
    }
   ],
   "source": [
    "# Compute the final test scores\n",
    "results = model.forward(tensor(X_test))\n",
    "predicted = torch.max(results.data, 1)\n",
    "y_pred = predicted.indices.tolist()\n",
    "\n",
    "# Print the classification report\n",
    "print(classification_report(y_true=y_test.tolist(), y_pred=y_pred, labels=labels))"
   ]
  },
  {
   "cell_type": "markdown",
   "metadata": {},
   "source": [
    "## Adding a metric to be tracked by PyPads"
   ]
  },
  {
   "cell_type": "code",
   "execution_count": 20,
   "metadata": {},
   "outputs": [
    {
     "data": {
      "text/plain": [
       "'1137a69e-a377-4e13-bb52-0949b702f0b2.metric'"
      ]
     },
     "execution_count": 20,
     "metadata": {},
     "output_type": "execute_result"
    }
   ],
   "source": [
    "from sklearn.metrics import accuracy_score\n",
    "accuracy = accuracy_score(y_true=y_test.tolist(), y_pred=y_pred)\n",
    "# Track a metric using PyPads with the name as key, a description of the metric and \n",
    "# Setting step to 0 to indicate that this is the final value\n",
    "tracker.api.log_metric(key='accuracy', value=accuracy, description='Accuracy of the model')"
   ]
  },
  {
   "cell_type": "markdown",
   "metadata": {},
   "source": [
    "## Tracked Information"
   ]
  },
  {
   "cell_type": "code",
   "execution_count": 21,
   "metadata": {},
   "outputs": [
    {
     "data": {
      "text/plain": [
       "<RunInfo: artifact_uri='s3://pypads/4/3e55a23a818c4ab19d2d213cf1811a20/artifacts', end_time=None, experiment_id='4', lifecycle_stage='active', run_id='3e55a23a818c4ab19d2d213cf1811a20', run_uuid='3e55a23a818c4ab19d2d213cf1811a20', start_time=1603116603117, status='RUNNING', user_id='christofer'>"
      ]
     },
     "execution_count": 21,
     "metadata": {},
     "output_type": "execute_result"
    }
   ],
   "source": [
    "tracker.api.active_run().info"
   ]
  },
  {
   "cell_type": "markdown",
   "metadata": {},
   "source": [
    "### Get all the artefacts"
   ]
  },
  {
   "cell_type": "code",
   "execution_count": 22,
   "metadata": {},
   "outputs": [
    {
     "data": {
      "text/plain": [
       "[<RunInfo: artifact_uri='s3://pypads/4/3e55a23a818c4ab19d2d213cf1811a20/artifacts', end_time=None, experiment_id='4', lifecycle_stage='active', run_id='3e55a23a818c4ab19d2d213cf1811a20', run_uuid='3e55a23a818c4ab19d2d213cf1811a20', start_time=1603116603117, status='RUNNING', user_id='christofer'>,\n",
       " <RunInfo: artifact_uri='s3://pypads/4/e6a62d3234a942d0a98d552f3bff3543/artifacts', end_time=1603116594742, experiment_id='4', lifecycle_stage='active', run_id='e6a62d3234a942d0a98d552f3bff3543', run_uuid='e6a62d3234a942d0a98d552f3bff3543', start_time=1603116277748, status='FINISHED', user_id='christofer'>,\n",
       " <RunInfo: artifact_uri='s3://pypads/4/00314fc300184fc9bea4c34931fa3350/artifacts', end_time=1603116126901, experiment_id='4', lifecycle_stage='active', run_id='00314fc300184fc9bea4c34931fa3350', run_uuid='00314fc300184fc9bea4c34931fa3350', start_time=1603116094025, status='FINISHED', user_id='christofer'>,\n",
       " <RunInfo: artifact_uri='s3://pypads/4/dda7d39273d24b04afa907e18d38781b/artifacts', end_time=1602687349743, experiment_id='4', lifecycle_stage='deleted', run_id='dda7d39273d24b04afa907e18d38781b', run_uuid='dda7d39273d24b04afa907e18d38781b', start_time=1602679358542, status='FINISHED', user_id='christofer'>,\n",
       " <RunInfo: artifact_uri='s3://pypads/4/97893d2dd0374fc98d0a5ea7a2548ae7/artifacts', end_time=1602569314622, experiment_id='4', lifecycle_stage='deleted', run_id='97893d2dd0374fc98d0a5ea7a2548ae7', run_uuid='97893d2dd0374fc98d0a5ea7a2548ae7', start_time=1602569282545, status='FINISHED', user_id='christofer'>,\n",
       " <RunInfo: artifact_uri='s3://pypads/4/f3c8136128db4a1fa1789957b735caed/artifacts', end_time=1602569221413, experiment_id='4', lifecycle_stage='deleted', run_id='f3c8136128db4a1fa1789957b735caed', run_uuid='f3c8136128db4a1fa1789957b735caed', start_time=1602569106392, status='FINISHED', user_id='christofer'>,\n",
       " <RunInfo: artifact_uri='s3://pypads/4/4483c0bda3af4fc5b1e99647f075c759/artifacts', end_time=1602569099146, experiment_id='4', lifecycle_stage='deleted', run_id='4483c0bda3af4fc5b1e99647f075c759', run_uuid='4483c0bda3af4fc5b1e99647f075c759', start_time=1602569007264, status='FINISHED', user_id='christofer'>,\n",
       " <RunInfo: artifact_uri='s3://pypads/4/390c6c6fe7a14b4a90d0808818a5e7cb/artifacts', end_time=1602568860560, experiment_id='4', lifecycle_stage='deleted', run_id='390c6c6fe7a14b4a90d0808818a5e7cb', run_uuid='390c6c6fe7a14b4a90d0808818a5e7cb', start_time=1602568827978, status='FINISHED', user_id='christofer'>,\n",
       " <RunInfo: artifact_uri='s3://pypads/4/ce77c73956584f33aaeab234e4e56774/artifacts', end_time=1602568797666, experiment_id='4', lifecycle_stage='deleted', run_id='ce77c73956584f33aaeab234e4e56774', run_uuid='ce77c73956584f33aaeab234e4e56774', start_time=1602568510570, status='FINISHED', user_id='christofer'>,\n",
       " <RunInfo: artifact_uri='s3://pypads/4/d432be3a323f4fab8bcd0ef881888baf/artifacts', end_time=1602568456234, experiment_id='4', lifecycle_stage='deleted', run_id='d432be3a323f4fab8bcd0ef881888baf', run_uuid='d432be3a323f4fab8bcd0ef881888baf', start_time=1602566145253, status='FINISHED', user_id='christofer'>,\n",
       " <RunInfo: artifact_uri='s3://pypads/4/fc37105c96b5410d956cd2ab5fba4810/artifacts', end_time=1602489411248, experiment_id='4', lifecycle_stage='deleted', run_id='fc37105c96b5410d956cd2ab5fba4810', run_uuid='fc37105c96b5410d956cd2ab5fba4810', start_time=1602487455315, status='FINISHED', user_id='christofer'>,\n",
       " <RunInfo: artifact_uri='s3://pypads/4/a3fd2498dd2a4815a07a4f402cc5a266/artifacts', end_time=1602487447511, experiment_id='4', lifecycle_stage='deleted', run_id='a3fd2498dd2a4815a07a4f402cc5a266', run_uuid='a3fd2498dd2a4815a07a4f402cc5a266', start_time=1602487043588, status='FINISHED', user_id='christofer'>,\n",
       " <RunInfo: artifact_uri='s3://pypads/4/62fd408e010c43bab78dbd375b9219cc/artifacts', end_time=1602487028762, experiment_id='4', lifecycle_stage='deleted', run_id='62fd408e010c43bab78dbd375b9219cc', run_uuid='62fd408e010c43bab78dbd375b9219cc', start_time=1602486311256, status='FINISHED', user_id='christofer'>,\n",
       " <RunInfo: artifact_uri='s3://pypads/4/0d7d4ef209474e598359b3b24fca0c99/artifacts', end_time=1602486288703, experiment_id='4', lifecycle_stage='deleted', run_id='0d7d4ef209474e598359b3b24fca0c99', run_uuid='0d7d4ef209474e598359b3b24fca0c99', start_time=1602486034111, status='FINISHED', user_id='christofer'>,\n",
       " <RunInfo: artifact_uri='s3://pypads/4/2175f3e69c0e434791a935df3041f6a6/artifacts', end_time=1602485842226, experiment_id='4', lifecycle_stage='deleted', run_id='2175f3e69c0e434791a935df3041f6a6', run_uuid='2175f3e69c0e434791a935df3041f6a6', start_time=1602485117448, status='FINISHED', user_id='christofer'>,\n",
       " <RunInfo: artifact_uri='s3://pypads/4/0c000f3fe265421d8c3a0a3ce9611473/artifacts', end_time=1602255984888, experiment_id='4', lifecycle_stage='deleted', run_id='0c000f3fe265421d8c3a0a3ce9611473', run_uuid='0c000f3fe265421d8c3a0a3ce9611473', start_time=1602250971511, status='FINISHED', user_id='christofer'>,\n",
       " <RunInfo: artifact_uri='s3://pypads/4/bdd2241549c144e889d590a210235b4d/artifacts', end_time=1602250959681, experiment_id='4', lifecycle_stage='deleted', run_id='bdd2241549c144e889d590a210235b4d', run_uuid='bdd2241549c144e889d590a210235b4d', start_time=1602250875234, status='FINISHED', user_id='christofer'>,\n",
       " <RunInfo: artifact_uri='s3://pypads/4/9f4841ebbf9846748131446a056a9faf/artifacts', end_time=1602250865629, experiment_id='4', lifecycle_stage='deleted', run_id='9f4841ebbf9846748131446a056a9faf', run_uuid='9f4841ebbf9846748131446a056a9faf', start_time=1602250719736, status='FINISHED', user_id='christofer'>,\n",
       " <RunInfo: artifact_uri='s3://pypads/4/57967dc78832423b99ca7154c4e46701/artifacts', end_time=1602250716616, experiment_id='4', lifecycle_stage='deleted', run_id='57967dc78832423b99ca7154c4e46701', run_uuid='57967dc78832423b99ca7154c4e46701', start_time=1602250592221, status='FINISHED', user_id='christofer'>,\n",
       " <RunInfo: artifact_uri='s3://pypads/4/c51b7636d7da4312bb3138b5e5039023/artifacts', end_time=None, experiment_id='4', lifecycle_stage='deleted', run_id='c51b7636d7da4312bb3138b5e5039023', run_uuid='c51b7636d7da4312bb3138b5e5039023', start_time=1602250445269, status='RUNNING', user_id='christofer'>,\n",
       " <RunInfo: artifact_uri='s3://pypads/4/3795fc4a67d84fc597b619711f1852b6/artifacts', end_time=1602250386691, experiment_id='4', lifecycle_stage='deleted', run_id='3795fc4a67d84fc597b619711f1852b6', run_uuid='3795fc4a67d84fc597b619711f1852b6', start_time=1602250263100, status='FINISHED', user_id='christofer'>,\n",
       " <RunInfo: artifact_uri='s3://pypads/4/07b62bd3b5404e6f859d65361bddaafe/artifacts', end_time=1602250249550, experiment_id='4', lifecycle_stage='deleted', run_id='07b62bd3b5404e6f859d65361bddaafe', run_uuid='07b62bd3b5404e6f859d65361bddaafe', start_time=1602250203968, status='FINISHED', user_id='christofer'>,\n",
       " <RunInfo: artifact_uri='s3://pypads/4/1adc9cef420340549c97df79b17f4224/artifacts', end_time=1602250193272, experiment_id='4', lifecycle_stage='deleted', run_id='1adc9cef420340549c97df79b17f4224', run_uuid='1adc9cef420340549c97df79b17f4224', start_time=1602249942321, status='FINISHED', user_id='christofer'>,\n",
       " <RunInfo: artifact_uri='s3://pypads/4/66f54c5be6dc4cb691d5d13b54d376b1/artifacts', end_time=1602248799934, experiment_id='4', lifecycle_stage='deleted', run_id='66f54c5be6dc4cb691d5d13b54d376b1', run_uuid='66f54c5be6dc4cb691d5d13b54d376b1', start_time=1602248009151, status='FINISHED', user_id='christofer'>,\n",
       " <RunInfo: artifact_uri='s3://pypads/4/c49385cc668a49baa629de1976087948/artifacts', end_time=1602247949165, experiment_id='4', lifecycle_stage='deleted', run_id='c49385cc668a49baa629de1976087948', run_uuid='c49385cc668a49baa629de1976087948', start_time=1602247045901, status='FINISHED', user_id='christofer'>,\n",
       " <RunInfo: artifact_uri='s3://pypads/4/c4b0507626f2440d83752231e11dd9f5/artifacts', end_time=1602246991435, experiment_id='4', lifecycle_stage='deleted', run_id='c4b0507626f2440d83752231e11dd9f5', run_uuid='c4b0507626f2440d83752231e11dd9f5', start_time=1602246948533, status='FINISHED', user_id='christofer'>,\n",
       " <RunInfo: artifact_uri='s3://pypads/4/f762aed0d4ca48fb83934cbb454c1023/artifacts', end_time=1602246324925, experiment_id='4', lifecycle_stage='deleted', run_id='f762aed0d4ca48fb83934cbb454c1023', run_uuid='f762aed0d4ca48fb83934cbb454c1023', start_time=1602246260150, status='FINISHED', user_id='christofer'>]"
      ]
     },
     "execution_count": 22,
     "metadata": {},
     "output_type": "execute_result"
    }
   ],
   "source": [
    "artifacts = [artifact for artifact in tracker.results.list_run_infos(experiment_name='PyTorch Example')]\n",
    "artifacts"
   ]
  },
  {
   "cell_type": "markdown",
   "metadata": {},
   "source": [
    "### Metrics Information"
   ]
  },
  {
   "cell_type": "code",
   "execution_count": 23,
   "metadata": {},
   "outputs": [
    {
     "data": {
      "text/plain": [
       "[MetricMetaModel(backend_uri='http://mlflow.padre-lab.eu', experiment_id='4', experiment_name='PyTorch Example', run_id='3e55a23a818c4ab19d2d213cf1811a20', created_at=1603116611.6282196, clazz=\"<class 'pypads.model.logger_output.MetricMetaModel'>\", category='MLMetric', storage_type=<ResultType.metric: 'metric'>, uid='72500674-69ea-47c7-b6cc-01ab827f348a', id='72500674-69ea-47c7-b6cc-01ab827f348a.metric', produced_by='00000000-0000-0000-0000-000000000000.logger', producer_type=<ResultType.logger: 'logger'>, part_of='ee767d76-18cb-46aa-85df-fcfb6622829c.output', parent_type=<ResultType.output: 'output'>, description='Accuracy of the model', additional_data=None, name='accuracy', step=10, data=0.65),\n",
       " MetricMetaModel(backend_uri='http://mlflow.padre-lab.eu', experiment_id='4', experiment_name='PyTorch Example', run_id='3e55a23a818c4ab19d2d213cf1811a20', created_at=1603116615.3187015, clazz=\"<class 'pypads.model.logger_output.MetricMetaModel'>\", category='MLMetric', storage_type=<ResultType.metric: 'metric'>, uid='04e8472a-8d73-4078-8202-864560d4cacc', id='04e8472a-8d73-4078-8202-864560d4cacc.metric', produced_by='00000000-0000-0000-0000-000000000000.logger', producer_type=<ResultType.logger: 'logger'>, part_of='ee767d76-18cb-46aa-85df-fcfb6622829c.output', parent_type=<ResultType.output: 'output'>, description='Accuracy of the model', additional_data=None, name='accuracy', step=20, data=0.65),\n",
       " MetricMetaModel(backend_uri='http://mlflow.padre-lab.eu', experiment_id='4', experiment_name='PyTorch Example', run_id='3e55a23a818c4ab19d2d213cf1811a20', created_at=1603116618.7617037, clazz=\"<class 'pypads.model.logger_output.MetricMetaModel'>\", category='MLMetric', storage_type=<ResultType.metric: 'metric'>, uid='3cb90f10-2e14-4076-b753-58ff24536a1a', id='3cb90f10-2e14-4076-b753-58ff24536a1a.metric', produced_by='00000000-0000-0000-0000-000000000000.logger', producer_type=<ResultType.logger: 'logger'>, part_of='ee767d76-18cb-46aa-85df-fcfb6622829c.output', parent_type=<ResultType.output: 'output'>, description='Accuracy of the model', additional_data=None, name='accuracy', step=30, data=0.65),\n",
       " MetricMetaModel(backend_uri='http://mlflow.padre-lab.eu', experiment_id='4', experiment_name='PyTorch Example', run_id='3e55a23a818c4ab19d2d213cf1811a20', created_at=1603116622.5855973, clazz=\"<class 'pypads.model.logger_output.MetricMetaModel'>\", category='MLMetric', storage_type=<ResultType.metric: 'metric'>, uid='e76fe77b-34a5-4bb0-962b-e293dedf1714', id='e76fe77b-34a5-4bb0-962b-e293dedf1714.metric', produced_by='00000000-0000-0000-0000-000000000000.logger', producer_type=<ResultType.logger: 'logger'>, part_of='ee767d76-18cb-46aa-85df-fcfb6622829c.output', parent_type=<ResultType.output: 'output'>, description='Accuracy of the model', additional_data=None, name='accuracy', step=40, data=0.6666666666666666),\n",
       " MetricMetaModel(backend_uri='http://mlflow.padre-lab.eu', experiment_id='4', experiment_name='PyTorch Example', run_id='3e55a23a818c4ab19d2d213cf1811a20', created_at=1603116626.177669, clazz=\"<class 'pypads.model.logger_output.MetricMetaModel'>\", category='MLMetric', storage_type=<ResultType.metric: 'metric'>, uid='0e3f5504-fcad-4eb2-8018-b53b64d1bcb1', id='0e3f5504-fcad-4eb2-8018-b53b64d1bcb1.metric', produced_by='00000000-0000-0000-0000-000000000000.logger', producer_type=<ResultType.logger: 'logger'>, part_of='ee767d76-18cb-46aa-85df-fcfb6622829c.output', parent_type=<ResultType.output: 'output'>, description='Accuracy of the model', additional_data=None, name='accuracy', step=50, data=0.75),\n",
       " MetricMetaModel(backend_uri='http://mlflow.padre-lab.eu', experiment_id='4', experiment_name='PyTorch Example', run_id='3e55a23a818c4ab19d2d213cf1811a20', created_at=1603116629.8231497, clazz=\"<class 'pypads.model.logger_output.MetricMetaModel'>\", category='MLMetric', storage_type=<ResultType.metric: 'metric'>, uid='dce2338d-35f9-49da-baec-b71b0bd5e5ce', id='dce2338d-35f9-49da-baec-b71b0bd5e5ce.metric', produced_by='00000000-0000-0000-0000-000000000000.logger', producer_type=<ResultType.logger: 'logger'>, part_of='ee767d76-18cb-46aa-85df-fcfb6622829c.output', parent_type=<ResultType.output: 'output'>, description='Accuracy of the model', additional_data=None, name='accuracy', step=60, data=0.9333333333333333),\n",
       " MetricMetaModel(backend_uri='http://mlflow.padre-lab.eu', experiment_id='4', experiment_name='PyTorch Example', run_id='3e55a23a818c4ab19d2d213cf1811a20', created_at=1603116633.533571, clazz=\"<class 'pypads.model.logger_output.MetricMetaModel'>\", category='MLMetric', storage_type=<ResultType.metric: 'metric'>, uid='c4073c9b-ebb2-4090-b493-2abb092afa36', id='c4073c9b-ebb2-4090-b493-2abb092afa36.metric', produced_by='00000000-0000-0000-0000-000000000000.logger', producer_type=<ResultType.logger: 'logger'>, part_of='ee767d76-18cb-46aa-85df-fcfb6622829c.output', parent_type=<ResultType.output: 'output'>, description='Accuracy of the model', additional_data=None, name='accuracy', step=70, data=0.9666666666666667),\n",
       " MetricMetaModel(backend_uri='http://mlflow.padre-lab.eu', experiment_id='4', experiment_name='PyTorch Example', run_id='3e55a23a818c4ab19d2d213cf1811a20', created_at=1603116636.0483623, clazz=\"<class 'pypads.model.logger_output.MetricMetaModel'>\", category='MLMetric', storage_type=<ResultType.metric: 'metric'>, uid='1137a69e-a377-4e13-bb52-0949b702f0b2', id='1137a69e-a377-4e13-bb52-0949b702f0b2.metric', produced_by='00000000-0000-0000-0000-000000000000.logger', producer_type=<ResultType.logger: 'logger'>, part_of='ee767d76-18cb-46aa-85df-fcfb6622829c.output', parent_type=<ResultType.output: 'output'>, description='Accuracy of the model', additional_data=None, name='accuracy', step=0, data=0.95)]"
      ]
     },
     "execution_count": 23,
     "metadata": {},
     "output_type": "execute_result"
    }
   ],
   "source": [
    "# Get all the metrics that we collected during the experiment\n",
    "metrics = [metric for metric in tracker.results.get_metrics(\n",
    "    experiment_name=\"PyTorch Example\",\n",
    "    run_id=tracker.api.active_run().info.run_id, \n",
    "    name='accuracy')]\n",
    "metrics"
   ]
  },
  {
   "cell_type": "code",
   "execution_count": 24,
   "metadata": {},
   "outputs": [],
   "source": [
    "# Print all the collected metrics\n",
    "for metric in metrics:\n",
    "    print(metric)"
   ]
  },
  {
   "cell_type": "code",
   "execution_count": 25,
   "metadata": {},
   "outputs": [
    {
     "data": {
      "text/plain": [
       "[MetricMetaModel(backend_uri='http://mlflow.padre-lab.eu', experiment_id='4', experiment_name='PyTorch Example', run_id='3e55a23a818c4ab19d2d213cf1811a20', created_at=1603116618.7617037, clazz=\"<class 'pypads.model.logger_output.MetricMetaModel'>\", category='MLMetric', storage_type=<ResultType.metric: 'metric'>, uid='3cb90f10-2e14-4076-b753-58ff24536a1a', id='3cb90f10-2e14-4076-b753-58ff24536a1a.metric', produced_by='00000000-0000-0000-0000-000000000000.logger', producer_type=<ResultType.logger: 'logger'>, part_of='ee767d76-18cb-46aa-85df-fcfb6622829c.output', parent_type=<ResultType.output: 'output'>, description='Accuracy of the model', additional_data=None, name='accuracy', step=30, data=0.65)]"
      ]
     },
     "execution_count": 25,
     "metadata": {},
     "output_type": "execute_result"
    }
   ],
   "source": [
    "# We search for a metric at an exact step at which we logged\n",
    "metrics = [metric for metric in tracker.results.get_metrics(\n",
    "    experiment_name=\"PyTorch Example\",\n",
    "    run_id=tracker.api.active_run().info.run_id, \n",
    "    name='accuracy', step=30)]\n",
    "metrics"
   ]
  },
  {
   "cell_type": "code",
   "execution_count": 26,
   "metadata": {},
   "outputs": [],
   "source": [
    "# The get metrics function returns a generator object. \n",
    "# So the results are obtained via the next function\n",
    "print(metrics)"
   ]
  },
  {
   "cell_type": "markdown",
   "metadata": {},
   "source": [
    "### Tracked Parameter Information"
   ]
  },
  {
   "cell_type": "code",
   "execution_count": 27,
   "metadata": {},
   "outputs": [
    {
     "data": {
      "text/plain": [
       "[ParameterMetaModel(backend_uri='http://mlflow.padre-lab.eu', experiment_id='4', experiment_name='PyTorch Example', run_id='3e55a23a818c4ab19d2d213cf1811a20', created_at=1603116609.0892193, clazz=\"<class 'pypads.model.logger_output.ParameterMetaModel'>\", category='HyperParameter', storage_type=<ResultType.parameter: 'parameter'>, uid='f29bc58e-17e3-4907-a544-b636d732924e', id='f29bc58e-17e3-4907-a544-b636d732924e.parameter', produced_by='00000000-0000-0000-0000-000000000000.logger', producer_type=<ResultType.logger: 'logger'>, part_of='ee767d76-18cb-46aa-85df-fcfb6622829c.output', parent_type=<ResultType.output: 'output'>, description='Learning rate', additional_data=None, name='lr', value_format=\"<class 'float'>\", data='0.005'),\n",
       " ParameterMetaModel(backend_uri='http://mlflow.padre-lab.eu', experiment_id='4', experiment_name='PyTorch Example', run_id='3e55a23a818c4ab19d2d213cf1811a20', created_at=1603116609.1403778, clazz=\"<class 'pypads.model.logger_output.ParameterMetaModel'>\", category='HyperParameter', storage_type=<ResultType.parameter: 'parameter'>, uid='be60da33-2414-486b-b39f-f2b5881e62a6', id='be60da33-2414-486b-b39f-f2b5881e62a6.parameter', produced_by='00000000-0000-0000-0000-000000000000.logger', producer_type=<ResultType.logger: 'logger'>, part_of='ee767d76-18cb-46aa-85df-fcfb6622829c.output', parent_type=<ResultType.output: 'output'>, description='Shape of the fully connected network', additional_data=None, name='networks_shape', value_format=\"<class 'str'>\", data='[10, 10, 3]')]"
      ]
     },
     "execution_count": 27,
     "metadata": {},
     "output_type": "execute_result"
    }
   ],
   "source": [
    "# The tracker returns generator objects\n",
    "parameters = [parameter for parameter in tracker.results.get_parameters(run_id=tracker.api.active_run().info.run_id)]\n",
    "parameters"
   ]
  },
  {
   "cell_type": "code",
   "execution_count": 28,
   "metadata": {},
   "outputs": [],
   "source": [
    "parameters = [parameter for parameter in tracker.results.get_parameters(run_id=tracker.api.active_run().info.run_id,\n",
    "                                           name='networks_shape')]"
   ]
  },
  {
   "cell_type": "code",
   "execution_count": 29,
   "metadata": {},
   "outputs": [
    {
     "data": {
      "text/plain": [
       "[10, 10, 3]"
      ]
     },
     "execution_count": 29,
     "metadata": {},
     "output_type": "execute_result"
    }
   ],
   "source": [
    "# Get the parameters and convert them back to integers\n",
    "param = parameters[0]\n",
    "parameters = [int(x) for x in param.data[1:-1].split(sep=',')]\n",
    "parameters"
   ]
  },
  {
   "cell_type": "code",
   "execution_count": 30,
   "metadata": {},
   "outputs": [],
   "source": [
    "print(parameters)"
   ]
  },
  {
   "cell_type": "markdown",
   "metadata": {},
   "source": [
    "### End tracking of experiment"
   ]
  },
  {
   "cell_type": "code",
   "execution_count": 31,
   "metadata": {},
   "outputs": [],
   "source": [
    "tracker.api.end_run()"
   ]
  }
 ],
 "metadata": {
  "kernelspec": {
   "display_name": "Python 3",
   "language": "python",
   "name": "python3"
  },
  "language_info": {
   "codemirror_mode": {
    "name": "ipython",
    "version": 3
   },
   "file_extension": ".py",
   "mimetype": "text/x-python",
   "name": "python",
   "nbconvert_exporter": "python",
   "pygments_lexer": "ipython3",
   "version": "3.7.9"
  }
 },
 "nbformat": 4,
 "nbformat_minor": 4
}

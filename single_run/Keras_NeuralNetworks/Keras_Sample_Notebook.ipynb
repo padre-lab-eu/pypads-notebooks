{
 "cells": [
  {
   "cell_type": "code",
   "execution_count": 1,
   "metadata": {},
   "outputs": [
    {
     "data": {
      "text/plain": [
       "True"
      ]
     },
     "execution_count": 1,
     "metadata": {},
     "output_type": "execute_result"
    }
   ],
   "source": [
    "# Load the environment variables for remote logging\n",
    "from dotenv import load_dotenv\n",
    "load_dotenv()"
   ]
  },
  {
   "cell_type": "code",
   "execution_count": 2,
   "metadata": {},
   "outputs": [
    {
     "name": "stdout",
     "output_type": "stream",
     "text": [
      "2020-10-19 15:55:42.717 | INFO     | pypads.app.base:activate_tracking:566 - Activating tracking by extending importlib...\n",
      "2020-10-19 15:55:42.965 | WARNING  | pypads.app.misc.managed_git:preserve_changes:84 - There are uncommitted changes in your git!\n",
      "2020-10-19 15:55:43.722 | WARNING  | pypads.app.misc.managed_git:create_tracking_branch:134 - Stashing, branching out, committing, reverting back and unstashing...\n",
      "2020-10-19 15:55:44.221 | INFO     | pypads.app.misc.managed_git:preserve_changes:91 - Created branch PyPads/f85f108147e049cbb4f60d2a678b7813\n",
      "2020-10-19 15:55:45.167 | WARNING  | pypads.app.misc.managed_git:_handle_error:19 - Couldn't initialized git repository because of exception: Preserving commit failed due to INVALID_PARAMETER_VALUE: Tag value 'diff --git a/.env b/.env\n",
      "new file mode 100644\n",
      "index 0000000..eaae52e\n",
      "--- /dev/null\n",
      "+++ b/.env\n",
      "@@ -0,0 +1,8 @@\n",
      "+AWS_ACCESS_KEY_ID=XSHDLTACETFLQURZSAUJ\n",
      "+AWS_SECRET_ACCESS_KEY=ISvyN9Aay40ZIaMuQcngOCJdzkSqR85ON1ng9PNZ\n",
      "+MLFLOW_S3_ENDPOINT_URL=http://s3.pa' had length 2605775, which exceeded length limit of 5000\n",
      "2020-10-19 15:55:45.634 | INFO     | pypads.injections.setup.misc_setup:_call:74 - Tracking execution to run with id f85f108147e049cbb4f60d2a678b7813\n"
     ]
    },
    {
     "data": {
      "text/plain": [
       "<pypads.app.base.PyPads at 0x7f0d88f54c50>"
      ]
     },
     "execution_count": 2,
     "metadata": {},
     "output_type": "execute_result"
    },
    {
     "name": "stdout",
     "output_type": "stream",
     "text": [
      "x_train shape: (60000, 28, 28, 1)\n",
      "60000 train samples\n",
      "10000 test samples\n",
      "Model: \"sequential\"\n",
      "_________________________________________________________________\n",
      "Layer (type)                 Output Shape              Param #   \n",
      "=================================================================\n",
      "conv2d (Conv2D)              (None, 26, 26, 32)        320       \n",
      "_________________________________________________________________\n",
      "max_pooling2d (MaxPooling2D) (None, 13, 13, 32)        0         \n",
      "_________________________________________________________________\n",
      "conv2d_1 (Conv2D)            (None, 11, 11, 64)        18496     \n",
      "_________________________________________________________________\n",
      "max_pooling2d_1 (MaxPooling2 (None, 5, 5, 64)          0         \n",
      "_________________________________________________________________\n",
      "flatten (Flatten)            (None, 1600)              0         \n",
      "_________________________________________________________________\n",
      "dropout (Dropout)            (None, 1600)              0         \n",
      "_________________________________________________________________\n",
      "dense (Dense)                (None, 10)                16010     \n",
      "=================================================================\n",
      "Total params: 34,826\n",
      "Trainable params: 34,826\n",
      "Non-trainable params: 0\n",
      "_________________________________________________________________\n",
      "accuracy\n",
      "\ttraining         \t (min:    0.877, max:    0.877, cur:    0.877)\n",
      "\tvalidation       \t (min:    0.969, max:    0.969, cur:    0.969)\n",
      "Loss\n",
      "\ttraining         \t (min:    0.404, max:    0.404, cur:    0.404)\n",
      "\tvalidation       \t (min:    0.107, max:    0.107, cur:    0.107)\n",
      "accuracy\n",
      "\ttraining         \t (min:    0.877, max:    0.964, cur:    0.964)\n",
      "\tvalidation       \t (min:    0.969, max:    0.979, cur:    0.979)\n",
      "Loss\n",
      "\ttraining         \t (min:    0.118, max:    0.404, cur:    0.118)\n",
      "\tvalidation       \t (min:    0.074, max:    0.107, cur:    0.074)\n",
      "accuracy\n",
      "\ttraining         \t (min:    0.877, max:    0.973, cur:    0.973)\n",
      "\tvalidation       \t (min:    0.969, max:    0.982, cur:    0.982)\n",
      "Loss\n",
      "\ttraining         \t (min:    0.089, max:    0.404, cur:    0.089)\n",
      "\tvalidation       \t (min:    0.059, max:    0.107, cur:    0.059)\n",
      "accuracy\n",
      "\ttraining         \t (min:    0.877, max:    0.978, cur:    0.978)\n",
      "\tvalidation       \t (min:    0.969, max:    0.982, cur:    0.982)\n",
      "Loss\n",
      "\ttraining         \t (min:    0.074, max:    0.404, cur:    0.074)\n",
      "\tvalidation       \t (min:    0.059, max:    0.107, cur:    0.059)\n",
      "accuracy\n",
      "\ttraining         \t (min:    0.877, max:    0.980, cur:    0.980)\n",
      "\tvalidation       \t (min:    0.969, max:    0.985, cur:    0.985)\n",
      "Loss\n",
      "\ttraining         \t (min:    0.064, max:    0.404, cur:    0.064)\n",
      "\tvalidation       \t (min:    0.051, max:    0.107, cur:    0.051)\n",
      "accuracy\n",
      "\ttraining         \t (min:    0.877, max:    0.982, cur:    0.982)\n",
      "\tvalidation       \t (min:    0.969, max:    0.986, cur:    0.986)\n",
      "Loss\n",
      "\ttraining         \t (min:    0.058, max:    0.404, cur:    0.058)\n",
      "\tvalidation       \t (min:    0.045, max:    0.107, cur:    0.045)\n",
      "accuracy\n",
      "\ttraining         \t (min:    0.877, max:    0.984, cur:    0.984)\n",
      "\tvalidation       \t (min:    0.969, max:    0.987, cur:    0.987)\n",
      "Loss\n",
      "\ttraining         \t (min:    0.052, max:    0.404, cur:    0.052)\n",
      "\tvalidation       \t (min:    0.044, max:    0.107, cur:    0.044)\n",
      "accuracy\n",
      "\ttraining         \t (min:    0.877, max:    0.985, cur:    0.985)\n",
      "\tvalidation       \t (min:    0.969, max:    0.987, cur:    0.987)\n",
      "Loss\n",
      "\ttraining         \t (min:    0.048, max:    0.404, cur:    0.048)\n",
      "\tvalidation       \t (min:    0.041, max:    0.107, cur:    0.041)\n",
      "accuracy\n",
      "\ttraining         \t (min:    0.877, max:    0.986, cur:    0.986)\n",
      "\tvalidation       \t (min:    0.969, max:    0.987, cur:    0.987)\n",
      "Loss\n",
      "\ttraining         \t (min:    0.046, max:    0.404, cur:    0.046)\n",
      "\tvalidation       \t (min:    0.041, max:    0.107, cur:    0.043)\n",
      "accuracy\n",
      "\ttraining         \t (min:    0.877, max:    0.986, cur:    0.986)\n",
      "\tvalidation       \t (min:    0.969, max:    0.987, cur:    0.987)\n",
      "Loss\n",
      "\ttraining         \t (min:    0.043, max:    0.404, cur:    0.043)\n",
      "\tvalidation       \t (min:    0.040, max:    0.107, cur:    0.040)\n",
      "accuracy\n",
      "\ttraining         \t (min:    0.877, max:    0.987, cur:    0.987)\n",
      "\tvalidation       \t (min:    0.969, max:    0.988, cur:    0.988)\n",
      "Loss\n",
      "\ttraining         \t (min:    0.041, max:    0.404, cur:    0.041)\n",
      "\tvalidation       \t (min:    0.037, max:    0.107, cur:    0.037)\n",
      "accuracy\n",
      "\ttraining         \t (min:    0.877, max:    0.988, cur:    0.988)\n",
      "\tvalidation       \t (min:    0.969, max:    0.988, cur:    0.988)\n",
      "Loss\n",
      "\ttraining         \t (min:    0.040, max:    0.404, cur:    0.040)\n",
      "\tvalidation       \t (min:    0.037, max:    0.107, cur:    0.037)\n",
      "accuracy\n",
      "\ttraining         \t (min:    0.877, max:    0.988, cur:    0.988)\n",
      "\tvalidation       \t (min:    0.969, max:    0.988, cur:    0.988)\n",
      "Loss\n",
      "\ttraining         \t (min:    0.035, max:    0.404, cur:    0.035)\n",
      "\tvalidation       \t (min:    0.037, max:    0.107, cur:    0.039)\n",
      "accuracy\n",
      "\ttraining         \t (min:    0.877, max:    0.988, cur:    0.988)\n",
      "\tvalidation       \t (min:    0.969, max:    0.990, cur:    0.990)\n",
      "Loss\n",
      "\ttraining         \t (min:    0.035, max:    0.404, cur:    0.035)\n",
      "\tvalidation       \t (min:    0.036, max:    0.107, cur:    0.036)\n",
      "accuracy\n",
      "\ttraining         \t (min:    0.877, max:    0.989, cur:    0.989)\n",
      "\tvalidation       \t (min:    0.969, max:    0.990, cur:    0.990)\n",
      "Loss\n",
      "\ttraining         \t (min:    0.034, max:    0.404, cur:    0.034)\n",
      "\tvalidation       \t (min:    0.033, max:    0.107, cur:    0.033)\n",
      "Test loss: 0.025830060243606567\n",
      "Test accuracy: 0.9911999702453613\n",
      "2020-10-19 15:57:52.950 | WARNING  | pypads.injections.analysis.parameters:__post__:128 - No parameters are defined on the mapping file for <class 'sklearn.preprocessing._label.LabelEncoder'>. Trying to log parameters without schema definition programmatically.\n",
      "2020-10-19 15:57:53.039 | WARNING  | pypads.injections.analysis.parameters:__post__:128 - No parameters are defined on the mapping file for <class 'sklearn.preprocessing._label.LabelEncoder'>. Trying to log parameters without schema definition programmatically.\n",
      "2020-10-19 15:57:53.138 | WARNING  | pypads.injections.analysis.parameters:__post__:128 - No parameters are defined on the mapping file for <class 'sklearn.preprocessing._label.LabelEncoder'>. Trying to log parameters without schema definition programmatically.\n",
      "2020-10-19 15:57:53.239 | WARNING  | pypads.injections.analysis.parameters:__post__:128 - No parameters are defined on the mapping file for <class 'sklearn.preprocessing._label.LabelEncoder'>. Trying to log parameters without schema definition programmatically.\n",
      "              precision    recall  f1-score   support\n",
      "\n",
      "           0       0.99      1.00      0.99       980\n",
      "           1       0.99      1.00      1.00      1135\n",
      "           2       0.99      1.00      0.99      1032\n",
      "           3       0.99      1.00      0.99      1010\n",
      "           4       0.99      0.99      0.99       982\n",
      "           5       0.98      0.99      0.99       892\n",
      "           6       0.99      0.98      0.99       958\n",
      "           7       0.99      0.99      0.99      1028\n",
      "           8       0.99      0.99      0.99       974\n",
      "           9       0.99      0.98      0.99      1009\n",
      "\n",
      "    accuracy                           0.99     10000\n",
      "   macro avg       0.99      0.99      0.99     10000\n",
      "weighted avg       0.99      0.99      0.99     10000\n",
      "\n",
      "2020-10-19 15:57:53.364 | WARNING  | pypads.utils.logging_util:write_pickle:134 - Couldn't pickle output. Trying to save toString instead. can't pickle _thread.RLock objects\n",
      "[]\n"
     ]
    }
   ],
   "source": [
    "# Initialize PyPads and start tracking\n",
    "# PyPads should be the first import in the experiment \n",
    "from pypads.app.base import PyPads\n",
    "\n",
    "tracker = PyPads(uri=\"http://mlflow.padre-lab.eu\")\n",
    "tracker.activate_tracking()\n",
    "tracker.start_track(experiment_name=\"Keras Example\")"
   ]
  },
  {
   "cell_type": "code",
   "execution_count": 3,
   "metadata": {},
   "outputs": [
    {
     "name": "stderr",
     "output_type": "stream",
     "text": [
      "/home/christofer/PycharmProjects/pypads-notebooks/venv/lib/python3.7/site-packages/ipykernel/ipkernel.py:287: DeprecationWarning: `should_run_async` will not call `transform_cell` automatically in the future. Please pass the result to `transformed_cell` argument and any exception that happen during thetransform in `preprocessing_exc_tuple` in IPython 7.17 and above.\n",
      "  and should_run_async(code)\n",
      "/home/christofer/PycharmProjects/pypads-notebooks/venv/lib/python3.7/site-packages/torch/distributed/distributed_c10d.py:125: UserWarning: torch.distributed.reduce_op is deprecated, please use torch.distributed.ReduceOp instead\n",
      "  warnings.warn(\"torch.distributed.reduce_op is deprecated, please use \"\n"
     ]
    }
   ],
   "source": [
    "# Set random seed to avoid non-determininsm\n",
    "tracker.actuators.set_random_seed(seed=1)"
   ]
  },
  {
   "cell_type": "code",
   "execution_count": 4,
   "metadata": {},
   "outputs": [
    {
     "name": "stderr",
     "output_type": "stream",
     "text": [
      "/home/christofer/PycharmProjects/pypads-notebooks/venv/lib/python3.7/site-packages/ipykernel/ipkernel.py:287: DeprecationWarning: `should_run_async` will not call `transform_cell` automatically in the future. Please pass the result to `transformed_cell` argument and any exception that happen during thetransform in `preprocessing_exc_tuple` in IPython 7.17 and above.\n",
      "  and should_run_async(code)\n"
     ]
    }
   ],
   "source": [
    "# Example takes from keras documentation https://keras.io/examples/vision/mnist_convnet/\n",
    "import numpy as np\n",
    "from tensorflow import keras\n",
    "from tensorflow.keras import layers"
   ]
  },
  {
   "cell_type": "code",
   "execution_count": 5,
   "metadata": {},
   "outputs": [
    {
     "name": "stderr",
     "output_type": "stream",
     "text": [
      "/home/christofer/PycharmProjects/pypads-notebooks/venv/lib/python3.7/site-packages/ipykernel/ipkernel.py:287: DeprecationWarning: `should_run_async` will not call `transform_cell` automatically in the future. Please pass the result to `transformed_cell` argument and any exception that happen during thetransform in `preprocessing_exc_tuple` in IPython 7.17 and above.\n",
      "  and should_run_async(code)\n"
     ]
    }
   ],
   "source": [
    "# MNIST has 10 classes [0-9]\n",
    "# Each image is a grayscale image of shape 28x28\n",
    "num_classes = 10\n",
    "input_shape = (28, 28, 1)"
   ]
  },
  {
   "cell_type": "code",
   "execution_count": 6,
   "metadata": {},
   "outputs": [],
   "source": [
    "# Create the training and testing datasets\n",
    "(x_train, y_train), (x_test, y_test) = keras.datasets.mnist.load_data()"
   ]
  },
  {
   "cell_type": "markdown",
   "metadata": {},
   "source": [
    "### Scale the input values between 0 and 1"
   ]
  },
  {
   "cell_type": "code",
   "execution_count": 7,
   "metadata": {},
   "outputs": [],
   "source": [
    "x_train = x_train.astype(\"float32\") / 255\n",
    "x_test = x_test.astype(\"float32\") / 255"
   ]
  },
  {
   "cell_type": "code",
   "execution_count": 8,
   "metadata": {},
   "outputs": [],
   "source": [
    "# Make sure images have shape (28, 28, 1)\n",
    "x_train = np.expand_dims(x_train, -1)\n",
    "x_test = np.expand_dims(x_test, -1)"
   ]
  },
  {
   "cell_type": "code",
   "execution_count": 9,
   "metadata": {},
   "outputs": [],
   "source": [
    "print(\"x_train shape:\", x_train.shape)\n",
    "print(x_train.shape[0], \"train samples\")\n",
    "print(x_test.shape[0], \"test samples\")"
   ]
  },
  {
   "cell_type": "code",
   "execution_count": 10,
   "metadata": {},
   "outputs": [],
   "source": [
    "# convert class vectors to binary class matrices\n",
    "y_train = keras.utils.to_categorical(y_train, num_classes)\n",
    "y_test = keras.utils.to_categorical(y_test, num_classes)"
   ]
  },
  {
   "cell_type": "code",
   "execution_count": 11,
   "metadata": {},
   "outputs": [],
   "source": [
    "# Create the model\n",
    "model = keras.Sequential(\n",
    "    [\n",
    "        keras.Input(shape=input_shape),\n",
    "        layers.Conv2D(32, kernel_size=(3, 3), activation=\"relu\"),\n",
    "        layers.MaxPooling2D(pool_size=(2, 2)),\n",
    "        layers.Conv2D(64, kernel_size=(3, 3), activation=\"relu\"),\n",
    "        layers.MaxPooling2D(pool_size=(2, 2)),\n",
    "        layers.Flatten(),\n",
    "        layers.Dropout(0.5),\n",
    "        layers.Dense(num_classes, activation=\"softmax\"),\n",
    "    ]\n",
    ")\n",
    "\n",
    "model.summary()"
   ]
  },
  {
   "cell_type": "code",
   "execution_count": 12,
   "metadata": {},
   "outputs": [],
   "source": [
    "# Set training parameters\n",
    "batch_size = 128\n",
    "epochs = 15"
   ]
  },
  {
   "cell_type": "code",
   "execution_count": 13,
   "metadata": {},
   "outputs": [
    {
     "data": {
      "image/png": "[encoded data removed]",
      "text/plain": [
       "<Figure size 864x576 with 2 Axes>"
      ]
     },
     "metadata": {
      "needs_background": "light"
     },
     "output_type": "display_data"
    },
    {
     "data": {
      "text/plain": [
       "<tensorflow.python.keras.callbacks.History at 0x7f0bf78b1050>"
      ]
     },
     "execution_count": 13,
     "metadata": {},
     "output_type": "execute_result"
    }
   ],
   "source": [
    "# Train the model\n",
    "from livelossplot import PlotLossesKeras\n",
    "model.compile(loss=\"categorical_crossentropy\", optimizer=\"adam\", metrics=[\"accuracy\"])\n",
    "\n",
    "model.fit(x_train, y_train, batch_size=batch_size, epochs=epochs, validation_split=0.25, callbacks=[PlotLossesKeras()], verbose=0)"
   ]
  },
  {
   "cell_type": "code",
   "execution_count": 14,
   "metadata": {},
   "outputs": [
    {
     "name": "stderr",
     "output_type": "stream",
     "text": [
      "/home/christofer/PycharmProjects/pypads-notebooks/venv/lib/python3.7/site-packages/ipykernel/ipkernel.py:287: DeprecationWarning: `should_run_async` will not call `transform_cell` automatically in the future. Please pass the result to `transformed_cell` argument and any exception that happen during thetransform in `preprocessing_exc_tuple` in IPython 7.17 and above.\n",
      "  and should_run_async(code)\n"
     ]
    }
   ],
   "source": [
    "# Evaluate the model\n",
    "score = model.evaluate(x_test, y_test, verbose=0)\n",
    "print(\"Test loss:\", score[0])\n",
    "print(\"Test accuracy:\", score[1])"
   ]
  },
  {
   "cell_type": "code",
   "execution_count": 15,
   "metadata": {},
   "outputs": [],
   "source": [
    "# Compute the probabilities of the predictions and convert to classes\n",
    "y_prob = model.predict(x_test)\n",
    "predicted = y_prob.argmax(axis=-1)"
   ]
  },
  {
   "cell_type": "code",
   "execution_count": 16,
   "metadata": {},
   "outputs": [],
   "source": [
    "# Use the classification report from sklearn to print metrics\n",
    "from sklearn.metrics import classification_report\n",
    "y_test = y_test.argmax(axis=-1)\n",
    "print(classification_report(y_test, predicted))"
   ]
  },
  {
   "cell_type": "code",
   "execution_count": 17,
   "metadata": {},
   "outputs": [
    {
     "name": "stderr",
     "output_type": "stream",
     "text": [
      "/home/christofer/PycharmProjects/pypads-notebooks/venv/lib/python3.7/site-packages/ipykernel/ipkernel.py:287: DeprecationWarning: `should_run_async` will not call `transform_cell` automatically in the future. Please pass the result to `transformed_cell` argument and any exception that happen during thetransform in `preprocessing_exc_tuple` in IPython 7.17 and above.\n",
      "  and should_run_async(code)\n"
     ]
    },
    {
     "data": {
      "text/plain": [
       "0.9912"
      ]
     },
     "execution_count": 17,
     "metadata": {},
     "output_type": "execute_result"
    }
   ],
   "source": [
    "from sklearn.metrics import accuracy_score\n",
    "accuracy = accuracy_score(y_test, predicted)\n",
    "accuracy"
   ]
  },
  {
   "cell_type": "code",
   "execution_count": 18,
   "metadata": {},
   "outputs": [
    {
     "data": {
      "text/plain": [
       "'1c9d3ac2-eabd-4e0b-8563-707e81d6dd88.metric'"
      ]
     },
     "execution_count": 18,
     "metadata": {},
     "output_type": "execute_result"
    }
   ],
   "source": [
    "# Logging this metric to PyPads\n",
    "tracker.api.log_metric(key='Accuracy', value=accuracy, description='Accuracy value')"
   ]
  },
  {
   "cell_type": "code",
   "execution_count": 19,
   "metadata": {},
   "outputs": [
    {
     "data": {
      "text/plain": [
       "'0178205f-bb8a-41e4-8a2e-688291c5ee8a.artifact'"
      ]
     },
     "execution_count": 19,
     "metadata": {},
     "output_type": "execute_result"
    }
   ],
   "source": [
    "# Now we need to save the model for future references\n",
    "# Note: Saving large models might be cumbersome and fill up space very quickly\n",
    "tracker.api.log_mem_artifact(path='final_model', description='Storing the completely trained model as an artifact', \n",
    "                             write_format='pickle', obj=model)"
   ]
  },
  {
   "cell_type": "markdown",
   "metadata": {},
   "source": [
    "## Logged Info"
   ]
  },
  {
   "cell_type": "code",
   "execution_count": 20,
   "metadata": {},
   "outputs": [
    {
     "data": {
      "text/plain": [
       "<RunInfo: artifact_uri='s3://pypads/5/f85f108147e049cbb4f60d2a678b7813/artifacts', end_time=None, experiment_id='5', lifecycle_stage='active', run_id='f85f108147e049cbb4f60d2a678b7813', run_uuid='f85f108147e049cbb4f60d2a678b7813', start_time=1603115742793, status='RUNNING', user_id='christofer'>"
      ]
     },
     "execution_count": 20,
     "metadata": {},
     "output_type": "execute_result"
    }
   ],
   "source": [
    "tracker.api.active_run().info"
   ]
  },
  {
   "cell_type": "code",
   "execution_count": 21,
   "metadata": {},
   "outputs": [
    {
     "data": {
      "text/plain": [
       "[<pypads.app.backends.backend.ArtifactDataLoader at 0x7f0be42ca150>,\n",
       " <pypads.app.backends.backend.ArtifactDataLoader at 0x7f0be42ca290>]"
      ]
     },
     "execution_count": 21,
     "metadata": {},
     "output_type": "execute_result"
    }
   ],
   "source": [
    "artifacts = [artifact for artifact in tracker.results.get_artifacts(run_id=tracker.api.active_run().info.run_id)]\n",
    "artifacts"
   ]
  },
  {
   "cell_type": "markdown",
   "metadata": {},
   "source": [
    "### Tag Information"
   ]
  },
  {
   "cell_type": "code",
   "execution_count": 22,
   "metadata": {},
   "outputs": [
    {
     "data": {
      "text/plain": [
       "[TagMetaModel(backend_uri='http://mlflow.padre-lab.eu', experiment_id='5', experiment_name='Keras Example', run_id='f85f108147e049cbb4f60d2a678b7813', created_at=1603115746.8629005, clazz=\"<class 'pypads.model.logger_output.TagMetaModel'>\", category='MLTag', storage_type=<ResultType.tag: 'tag'>, uid='ff95858c-e2f0-4011-be73-1387c97f4015', id='ff95858c-e2f0-4011-be73-1387c97f4015.tag', produced_by='9272ed03-c6a9-4467-94b7-ed9d13c13bdc.loggerCall', producer_type=<ResultType.logger_call: 'loggerCall'>, part_of='cc99001e-1fa1-4525-921b-ce81de4966ab.tracked_object', parent_type=<ResultType.tracked_object: 'tracked_object'>, description='Process current working directory', additional_data=None, name='pypads.system.process.cwd', value_format='string', data='/home/christofer/PycharmProjects/pypads-notebooks/single_run/Keras_NeuralNetworks')]"
      ]
     },
     "execution_count": 22,
     "metadata": {},
     "output_type": "execute_result"
    }
   ],
   "source": [
    "tags = [tag for tag in tracker.results.get_tags(run_id=tracker.api.active_run().info.run_id, name='pypads.system.process.cwd')]\n",
    "tags"
   ]
  },
  {
   "cell_type": "markdown",
   "metadata": {},
   "source": [
    "### Metric Information"
   ]
  },
  {
   "cell_type": "code",
   "execution_count": 23,
   "metadata": {},
   "outputs": [],
   "source": [
    "metrics = [metric for metric in tracker.results.get_metrics(run_id=tracker.api.active_run().info.run_id)]"
   ]
  },
  {
   "cell_type": "code",
   "execution_count": 24,
   "metadata": {},
   "outputs": [
    {
     "data": {
      "text/plain": [
       "[MetricMetaModel(backend_uri='http://mlflow.padre-lab.eu', experiment_id='5', experiment_name='Keras Example', run_id='f85f108147e049cbb4f60d2a678b7813', created_at=1603115873.273812, clazz=\"<class 'pypads.model.logger_output.MetricMetaModel'>\", category='MLMetric', storage_type=<ResultType.metric: 'metric'>, uid='1c9d3ac2-eabd-4e0b-8563-707e81d6dd88', id='1c9d3ac2-eabd-4e0b-8563-707e81d6dd88.metric', produced_by='00000000-0000-0000-0000-000000000000.logger', producer_type=<ResultType.logger: 'logger'>, part_of='24eeb1a5-307a-4aa3-8405-5e4bdd7431c1.output', parent_type=<ResultType.output: 'output'>, description='Accuracy value', additional_data=None, name='Accuracy', step=0, data=0.9912)]"
      ]
     },
     "execution_count": 24,
     "metadata": {},
     "output_type": "execute_result"
    }
   ],
   "source": [
    "metrics"
   ]
  },
  {
   "cell_type": "markdown",
   "metadata": {},
   "source": [
    "### Tracked Parameters"
   ]
  },
  {
   "cell_type": "code",
   "execution_count": 25,
   "metadata": {},
   "outputs": [],
   "source": [
    "parameters = [parameter for parameter in tracker.results.get_parameters(run_id=tracker.api.active_run().info.run_id)]\n",
    "print(parameters)"
   ]
  },
  {
   "cell_type": "markdown",
   "metadata": {},
   "source": [
    "### End tracking"
   ]
  },
  {
   "cell_type": "code",
   "execution_count": 26,
   "metadata": {},
   "outputs": [],
   "source": [
    "tracker.api.end_run()"
   ]
  }
 ],
 "metadata": {
  "kernelspec": {
   "display_name": "Python 3",
   "language": "python",
   "name": "python3"
  },
  "language_info": {
   "codemirror_mode": {
    "name": "ipython",
    "version": 3
   },
   "file_extension": ".py",
   "mimetype": "text/x-python",
   "name": "python",
   "nbconvert_exporter": "python",
   "pygments_lexer": "ipython3",
   "version": "3.7.9"
  }
 },
 "nbformat": 4,
 "nbformat_minor": 4
}

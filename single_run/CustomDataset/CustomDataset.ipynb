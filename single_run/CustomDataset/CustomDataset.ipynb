{
 "cells": [
  {
   "cell_type": "code",
   "execution_count": 3,
   "metadata": {},
   "outputs": [
    {
     "name": "stdout",
     "output_type": "stream",
     "text": [
      "env: AWS_ACCESS_KEY_ID=XSHDLTACETFLQURZSAUJ\n",
      "env: AWS_SECRET_ACCESS_KEY=ISvyN9Aay40ZIaMuQcngOCJdzkSqR85ON1ng9PNZ\n",
      "env: MLFLOW_S3_ENDPOINT_URL=http://s3.padre-lab.eu\n",
      "env: MLFLOW_TRACKING_URI=http://mlflow.padre-lab.eu\n",
      "env: MONGO_DB=pypads\n",
      "env: MONGO_USER=pypads\n",
      "env: MONGO_URL=mongodb://www.padre-lab.eu:2222\n",
      "env: MONGO_PW=8CN7OqknwhYr3RO\n"
     ]
    },
    {
     "name": "stderr",
     "output_type": "stream",
     "text": [
      "/home/christofer/PycharmProjects/pypads-notebooks/venv/lib/python3.7/site-packages/ipykernel/ipkernel.py:287: DeprecationWarning: `should_run_async` will not call `transform_cell` automatically in the future. Please pass the result to `transformed_cell` argument and any exception that happen during thetransform in `preprocessing_exc_tuple` in IPython 7.17 and above.\n",
      "  and should_run_async(code)\n"
     ]
    }
   ],
   "source": [
    "# Set the access keys and the end points for tracking as environment variables\n",
    "%env AWS_ACCESS_KEY_ID=XSHDLTACETFLQURZSAUJ\n",
    "%env AWS_SECRET_ACCESS_KEY=ISvyN9Aay40ZIaMuQcngOCJdzkSqR85ON1ng9PNZ\n",
    "%env MLFLOW_S3_ENDPOINT_URL=http://s3.padre-lab.eu\n",
    "%env MLFLOW_TRACKING_URI=http://mlflow.padre-lab.eu\n",
    "%env MONGO_DB = pypads\n",
    "%env MONGO_USER=pypads\n",
    "%env MONGO_URL=mongodb://www.padre-lab.eu:2222\n",
    "%env MONGO_PW=8CN7OqknwhYr3RO"
   ]
  },
  {
   "cell_type": "code",
   "execution_count": 4,
   "metadata": {},
   "outputs": [
    {
     "name": "stdout",
     "output_type": "stream",
     "text": [
      "2020-10-12 10:38:18.196 | WARNING  | pypads.app.base:__new__:95 - Currently only one tracker can be activated at once.PyPads was already intialized. Reusing the old instance.\n",
      "2020-10-12 10:38:19.159 | INFO     | pypads.app.base:activate_tracking:555 - Activating tracking by extending importlib...\n",
      "2020-10-12 10:38:19.827 | WARNING  | pypads.app.misc.managed_git:preserve_changes:84 - There are uncommitted changes in your git!\n",
      "2020-10-12 10:38:20.128 | WARNING  | pypads.app.misc.managed_git:create_tracking_branch:134 - Stashing, branching out, committing, reverting back and unstashing...\n",
      "2020-10-12 10:38:20.543 | INFO     | pypads.app.misc.managed_git:preserve_changes:91 - Created branch PyPads/3e25134335944a728e3f60b848d5c908\n",
      "2020-10-12 10:38:20.763 | WARNING  | pypads.app.misc.managed_git:_handle_error:19 - Couldn't initialized git repository because of exception: Preserving commit failed due to INVALID_PARAMETER_VALUE: Tag value 'diff --git a/.idea/.gitignore b/.idea/.gitignore\n",
      "new file mode 100644\n",
      "index 0000000..73f69e0\n",
      "--- /dev/null\n",
      "+++ b/.idea/.gitignore\n",
      "@@ -0,0 +1,8 @@\n",
      "+# Default ignored files\n",
      "+/shelf/\n",
      "+/workspace.xml\n",
      "+# Datasource local storage ignored files\n",
      "+/dataSource' had length 208433, which exceeded length limit of 5000\n",
      "2020-10-12 10:38:20.966 | INFO     | pypads.injections.setup.misc_setup:_call:73 - Tracking execution to run with id 3e25134335944a728e3f60b848d5c908\n",
      "2020-10-12 10:38:21.099 | ERROR    | pypads.app.injections.base_logger:_handle_error:86 - Tracking failed for <pypads.app.env.LoggerEnv object at 0x7f4af0f2be50> with: 1 validation error for DependencyModel\n",
      "pip_freeze\n",
      "  none is not an allowed value (type=type_error.none.not_allowed) \n",
      "Trace:\n",
      "Traceback (most recent call last):\n",
      "  File \"/home/christofer/PycharmProjects/pypads-notebooks/venv/lib/python3.7/site-packages/pypads/app/injections/base_logger.py\", line 66, in _handle_error\n",
      "    raise error from error\n",
      "  File \"/home/christofer/PycharmProjects/pypads-notebooks/venv/lib/python3.7/site-packages/pypads/app/misc/mixins.py\", line 190, in __call__\n",
      "    return super().__call__(ctx, *args, _pypads_env=_pypads_env, **kwargs)\n",
      "  File \"/home/christofer/PycharmProjects/pypads-notebooks/venv/lib/python3.7/site-packages/pypads/app/misc/mixins.py\", line 174, in __call__\n",
      "    _return, time = timed(lambda: c(*args, **kwargs))\n",
      "  File \"/home/christofer/PycharmProjects/pypads-notebooks/venv/lib/python3.7/site-packages/pypads/app/misc/mixins.py\", line 157, in timed\n",
      "    ret = f()\n",
      "  File \"/home/christofer/PycharmProjects/pypads-notebooks/venv/lib/python3.7/site-packages/pypads/app/misc/mixins.py\", line 174, in <lambda>\n",
      "    _return, time = timed(lambda: c(*args, **kwargs))\n",
      "  File \"/home/christofer/PycharmProjects/pypads-notebooks/venv/lib/python3.7/site-packages/pypads/app/misc/mixins.py\", line 68, in __call__\n",
      "    return self.__real_call__(*args, **kwargs)\n",
      "  File \"/home/christofer/PycharmProjects/pypads-notebooks/venv/lib/python3.7/site-packages/pypads/app/misc/mixins.py\", line 263, in __real_call__\n",
      "    return self._fn(*args, **kwargs)\n",
      "  File \"/home/christofer/PycharmProjects/pypads-notebooks/venv/lib/python3.7/site-packages/pypads/injections/setup/misc_setup.py\", line 87, in _call\n",
      "    _logger_output.dependencies = dependencies.store()\n",
      "  File \"/home/christofer/PycharmProjects/pypads-notebooks/venv/lib/python3.7/site-packages/pypads/app/injections/tracked_object.py\", line 223, in store\n",
      "    return super().store()\n",
      "  File \"/home/christofer/PycharmProjects/pypads-notebooks/venv/lib/python3.7/site-packages/pypads/app/injections/tracked_object.py\", line 84, in store\n",
      "    return pads.backend.log(self)\n",
      "  File \"/home/christofer/PycharmProjects/pypads-notebooks/venv/lib/python3.7/site-packages/pypads/app/backends/mlflow.py\", line 147, in log\n",
      "    return self.log_json(obj, obj.typed_id())\n",
      "  File \"/home/christofer/PycharmProjects/pypads-notebooks/venv/lib/python3.7/site-packages/pypads/app/backends/mlflow.py\", line 320, in log_json\n",
      "    entry = entry.dict(by_alias=True)\n",
      "  File \"/home/christofer/PycharmProjects/pypads-notebooks/venv/lib/python3.7/site-packages/pypads/model/metadata.py\", line 111, in dict\n",
      "    return self.model().dict(*args, **kwargs)\n",
      "  File \"/home/christofer/PycharmProjects/pypads-notebooks/venv/lib/python3.7/site-packages/pypads/model/metadata.py\", line 68, in model\n",
      "    return self.get_model_cls().from_orm(self)\n",
      "  File \"pydantic/main.py\", line 508, in pydantic.main.BaseModel.from_orm\n",
      "pydantic.error_wrappers.ValidationError: 1 validation error for DependencyModel\n",
      "pip_freeze\n",
      "  none is not an allowed value (type=type_error.none.not_allowed)\n",
      "\n"
     ]
    },
    {
     "data": {
      "text/plain": [
       "<pypads.app.base.PyPads at 0x7f4b33be8710>"
      ]
     },
     "execution_count": 4,
     "metadata": {},
     "output_type": "execute_result"
    }
   ],
   "source": [
    "from pypads.app.base import PyPads\n",
    "\n",
    "tracker = PyPads(uri=\"http://mlflow.padre-lab.eu\")\n",
    "tracker.activate_tracking()\n",
    "tracker.start_track(experiment_name=\"Custom Dataset Example\")"
   ]
  },
  {
   "cell_type": "code",
   "execution_count": null,
   "metadata": {},
   "outputs": [],
   "source": [
    "tracker.actuators.set_random_seed(seed=1)"
   ]
  },
  {
   "cell_type": "markdown",
   "metadata": {},
   "source": [
    "## Dataset Creation"
   ]
  },
  {
   "cell_type": "code",
   "execution_count": null,
   "metadata": {},
   "outputs": [],
   "source": [
    "import numpy as np\n",
    "rows = 100\n",
    "cols = 5\n",
    "X = np.random.random((rows, cols))\n",
    "Y = np.random.randint(3, size=rows)"
   ]
  },
  {
   "cell_type": "markdown",
   "metadata": {},
   "source": [
    "### Shapes of Features and Labels"
   ]
  },
  {
   "cell_type": "code",
   "execution_count": null,
   "metadata": {},
   "outputs": [],
   "source": [
    "X.shape"
   ]
  },
  {
   "cell_type": "code",
   "execution_count": null,
   "metadata": {},
   "outputs": [],
   "source": [
    "Y.shape"
   ]
  },
  {
   "cell_type": "code",
   "execution_count": null,
   "metadata": {},
   "outputs": [],
   "source": [
    "### Split dataset into training and testing"
   ]
  },
  {
   "cell_type": "code",
   "execution_count": null,
   "metadata": {},
   "outputs": [],
   "source": [
    "from sklearn.model_selection import train_test_split\n",
    "\n",
    "X_train, X_test, y_train, y_test = train_test_split(X, Y, test_size=.25)"
   ]
  },
  {
   "cell_type": "markdown",
   "metadata": {},
   "source": [
    "### Import a classifier"
   ]
  },
  {
   "cell_type": "code",
   "execution_count": null,
   "metadata": {},
   "outputs": [],
   "source": [
    "from sklearn.ensemble import RandomForestClassifier\n",
    "model = RandomForestClassifier()\n",
    "model.fit(X_train, y_train)"
   ]
  },
  {
   "cell_type": "markdown",
   "metadata": {},
   "source": [
    "### Test the classifier"
   ]
  },
  {
   "cell_type": "code",
   "execution_count": null,
   "metadata": {},
   "outputs": [],
   "source": [
    "y_pred = model.predict(X_test)"
   ]
  },
  {
   "cell_type": "markdown",
   "metadata": {},
   "source": [
    "### Compute metrics"
   ]
  },
  {
   "cell_type": "code",
   "execution_count": null,
   "metadata": {},
   "outputs": [],
   "source": [
    "from sklearn.metrics.classification import f1_score\n",
    "\n",
    "predicted = model.predict(X_test)\n",
    "score = f1_score(y_test, y_pred, average=\"macro\")\n",
    "print(score)"
   ]
  },
  {
   "cell_type": "markdown",
   "metadata": {},
   "source": [
    "## Logged Values"
   ]
  },
  {
   "cell_type": "code",
   "execution_count": null,
   "metadata": {},
   "outputs": [],
   "source": []
  }
 ],
 "metadata": {
  "kernelspec": {
   "display_name": "Python 3",
   "language": "python",
   "name": "python3"
  },
  "language_info": {
   "codemirror_mode": {
    "name": "ipython",
    "version": 3
   },
   "file_extension": ".py",
   "mimetype": "text/x-python",
   "name": "python",
   "nbconvert_exporter": "python",
   "pygments_lexer": "ipython3",
   "version": "3.7.9"
  }
 },
 "nbformat": 4,
 "nbformat_minor": 4
}
